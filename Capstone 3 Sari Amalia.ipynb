{
  "cells": [
    {
      "cell_type": "markdown",
      "metadata": {
        "id": "vR9EXoMuk-Au"
      },
      "source": [
        "# **Capstone Project Module 3 Sari Amalia - Apartment Data**"
      ]
    },
    {
      "cell_type": "markdown",
      "metadata": {
        "id": "XLmmP-umk-Az"
      },
      "source": [
        "[Sumber data: Daegu Apartment Data](https://www.kaggle.com/datasets/gunhee/koreahousedata) \n",
        "\n",
        "### **Contents**\n",
        "\n",
        "1. Business Problem Understanding\n",
        "2. Data Understanding\n",
        "3. Data Preprocessing\n",
        "4. Modeling\n",
        "5. Conclusion\n",
        "6. Recommendation\n",
        "\n",
        "------------"
      ]
    },
    {
      "cell_type": "markdown",
      "metadata": {
        "id": "4AfFAHobk-A1"
      },
      "source": [
        "### **1. Business Problem Understanding**"
      ]
    },
    {
      "cell_type": "markdown",
      "metadata": {
        "id": "-vzFEqaok-A1"
      },
      "source": [
        "**Context**\n",
        "\n",
        "Menurut website [The City of Hirosima](https://www.city.hiroshima.lg.jp/site/english/10621.html), Daegu merupakan sebuah kota metropolitan yang terletak di bagian Tenggara Korea Selatan. Daegu memiliki luas 883.68 sq km dengan penduduk berjumlah 2.5 juta orang. Hasil sensus penduduk tahun 2020 yang terdapat pada website [City Population](https://www.citypopulation.de/en/southkorea/cities/), Daegu merupakan sebuah kota 102 km Barat Laut Busan dengan jumlah penduduk keempat terbanyak setelah Seoul, Busan, dan Incheon. Nama Daegu berarti \"Big Hills\", diambil dari kondisi geografisnya yang dikelillingi perbukitan. Kota metropolitan yang berada 237 km arah Tenggara dari Seoul ini memiliki pemandangan yang indah dan kawasan wisata yang menjadi target wisatawan lokal maupun mancanegara. Dilansir dari [The Washington Post](https://www.washingtonpost.com/world/after-decades-of-economic-growth-south-korea-is-the-land-of-apartments/2013/09/15/9bd841f8-1c55-11e3-8685-5021e0c41964_story.html), apartment di Korea Selatan \"*strictly residential, with one or two guarded entrances. Only residents or approved visitors may enter*\" sehingga menjadikannya lebih aman dibanding rumah yang tidak selalu memiliki gerbang yang dijaga. Selain itu apartment umumnya memiliki tempat bermain untuk anak-anak (*playground*) dan fasilitas lain yang tidak dimiliki oleh rumah seperti *fitness center*. Terbatasnya luas area Daegu, banyaknya penduduk dan wisatawan, serta keamanan dan fasilitas yang disediakan oleh apartment menjadikan apartment sebagai pilihan favorit untuk tinggal.\n",
        "\n",
        "Banyak aspek yang dapat menjadi pertimbangan untuk memilih apartment terbaik. Dalam menentukan nilai/harga, developer atau pemilik unit apartment akan mempertimbangkan lokasi, fasilitas, dan fitur-fitur lain yang diberikan. Pembeli pun juga akan mempertimbangkan hal yang sama dalam proses pemilihan apartment yang ingin dibeli. Namun, tidak mudah untuk menetapkan harga yang tepat untuk sebuah unit apartment karena setiap fitur/fasilitas yang diberikan akan mempengaruhi harga jual/sewa sebuah unit apartment."
      ]
    },
    {
      "cell_type": "markdown",
      "metadata": {},
      "source": [
        "Daegu\n",
        "\n",
        "![daegu](https://davidsbeenhere.com/wp-content/uploads/2019/09/5-things-you-must-do-in-daegu-south-korea-asia-davidsbeenhere9.jpg)\n",
        "\n",
        "credit: [David Hoffmann](https://davidsbeenhere.com/)"
      ]
    },
    {
      "cell_type": "markdown",
      "metadata": {
        "id": "4-oTdPw1k-A2"
      },
      "source": [
        "**Problem Statement**\n",
        "\n",
        "\n",
        "Penentuan harga jual apartment apartment yang tepat menjadi salah satu tantangan terbesar dari proses jual-beli sebuah *apartment unit* di Daegu. Oleh karena itu, diperlukan sebuah jalan keluar untuk mengatasi hal ini. Solusi ini diharapkan dapat membantu para penjual menemukan harga yang sesuai dengan fasilitas yang ditawarkan. Penjual tidak ingin menjual dengan harga yang terlalu murah atau menetapkan harga yang terlalu tinggi sehingga tidak ada yang berminat, dan pembeli tidak ingin membeli apartment yang tidak sesuai antara harga dan fasilitas yang diberikan. Adanya analisis terhadap *history* penjualan apartment dapat menjadi acuan yang akan membantu ketika penjual memberikan *offering* harga sehingga pembeli tidak perlu khawatir dengan harga yang *overpriced* atau *underpriced*. Dengan adanya prediksi ini, **Kesesuaian harga dengan fasilitas yang tersedia di dalam dan di sekitar apartment yang dijual sangat penting agar dapat terjadi sebuah kesepakatan antara penjual dan pembeli**."
      ]
    },
    {
      "cell_type": "markdown",
      "metadata": {
        "id": "RdtbYxCck-A3"
      },
      "source": [
        "**Goals**\n",
        "\n",
        "Penjual perlu memiliki pola dari penjualan-penjualan apartment sebelumnya untuk **mendapatkankan prediksi harga jual unit apartment sesuai dengan fasilitas yang ditawarkan di apartment tersebut** agar ketika menetapkan harga sebuah unit apartment tidak terjadi *underprice* atau *overprice* dan pembeli tidak *law-balling* apartment tersebut sehingga dapat terjadi kesepakatan jual-beli dan tidak ada pihak yang merasa dirugikan atau terpaksa setelah terjadinya transaksi jual-beli apartment. Perbedaan fasilitas dari setiap apartment, seperti tipe *hallway*, jarak tempuh ke stasiun *subway*, jumlah parkir *basement* yang tersedia, dan tahun berdirinya bangunan tersebut dapat memengaruhi harga atau nilai jual sebuah unit apartment sehingga penjual dan pembeli dapat melakukan transaksi dengan harga terbaik. \n",
        "\n",
        "Pola yang didapat dari penjualan apartment-apartment sebelumnya dapat memberikan prediksi harga yang terbaik sehingga proses transaksi dapat lebih cepat dilakukan dan tidak ada pihak yang merasa rugi dikemudian hari karena ketidaksesuaian harga dengan *features* yang ditawarkan oleh apartment tersebut."
      ]
    },
    {
      "cell_type": "markdown",
      "metadata": {
        "id": "cL9ZaGMtk-A4"
      },
      "source": [
        "**Analytic Approach**\n",
        "\n",
        "Untuk menemukan harga jual yang terbaik, perlu dilakukan analisis data dengan cara menemukan pola dari fitur-fitur yang ada dari penjualan apartment yang pernah terjadi di Daegu serta menemukan algoritma untuk membangun model regresi yang akan membantu menemukan *the fair and reasonable price* dari sebuah apartment sesuai dengan fitur yang ditawarkan. Selain itu, akan dilakukan analisis untuk menemukan fitur yang paling berpengaruh terhadap target atau harga jual unit apartment."
      ]
    },
    {
      "cell_type": "markdown",
      "metadata": {
        "id": "kRzB4C33k-A5"
      },
      "source": [
        "**Metric Evaluation**\n",
        "\n",
        "Evaluasi metrik yang akan digunakan adalah MAE, MAPE, RMSE, dan R-Squared. RMSE mengukur perbedaan nilai dari prediksi sebuah model. Semakin kecil nilai RMSE, semakin akurat prediksi harga jual. MAE digunakan untuk merepresentasikan nilai kesalahan rata-rata mutlak *(absolut error)*, sedangkan MAPE merepresentasikan persentase kesalahan rata-rata mutlak *(absolut)*. Sama halnya dengan RMSE, semakin kecil nilai MAE dan MAPE,semakin akurat prediksi harga jualnya.\n",
        "\n",
        "R-squared merupakan nilai yang memperlihatkan besar pengaruh variabel independen terhadap dependen. Nilai R-squared berkisar antara 0 sampai 1 yang merupakan indikasi besarnya kombinasi variable independen secara bersama-sama memengaruhi variable dependen. Semakin mendekati 1, semakin fit model terhadap data observasi. Namun, dikutip dari [National Library of Medicine](https://www.ncbi.nlm.nih.gov/pmc/articles/PMC2892436/), *\"R2 is inappropriate when used for demonstrating the performance or validity of a certain nonlinear model\"*, artinya R-squared tidak valid untuk model nonlinear."
      ]
    },
    {
      "cell_type": "markdown",
      "metadata": {
        "id": "Ax01kFWQk-A6"
      },
      "source": [
        "### **2. Data Understanding**"
      ]
    },
    {
      "cell_type": "markdown",
      "metadata": {
        "id": "T-jbFGz_k-A7"
      },
      "source": [
        "- Dataset merupakan data transaksi jual-beli apartment di Daegu dari Agustus 2007 hingga 2017. \n",
        "- Setiap baris data merepresentasikan informasi terkait properti, fasilitas yang ditawarkan, dan harga jualnya.\n",
        "\n",
        "**Attributes Information**\n",
        "\n",
        "| **Attribute** | **Data Type** | **Description** |\n",
        "| --- | --- | --- |\n",
        "| HallwayType | Object | Tipe hallway pada apartment |\n",
        "| TimeToSubway | Object | Waktu yang diperlukan ke *subway* terdekat |\n",
        "| SubwayStation | Object | Stasiun *subway* terdekat |\n",
        "| N_FacilitiesNearBy(ETC) | Float | Jumlah fasilitas ETC di sekitar |\n",
        "| N_FacilitiesNearBy(PublicOffice) | Float | Jumlah kantor pemerintahan (*public office*) di sekitar |\n",
        "| N_SchoolNearBy(University) | Float | Jumlah universitas di sekitar |\n",
        "| N_Parkinglot(Basement) | Float | Jumlah area parkir *basement* |\n",
        "| YearBuilt | Integer | Tahun pembangunan apartment |\n",
        "| N_FacilitiesInApt | Integer | Jumlah Fasilitas di dalam Apartment |\n",
        "| Size(sqf) | Integer | Luas apartment |\n",
        "| SalePrice | Integer | Harga jual apartment |\n",
        "\n",
        "<br>"
      ]
    },
    {
      "cell_type": "code",
      "execution_count": 1,
      "metadata": {
        "id": "e5ryyvXuk-A7"
      },
      "outputs": [],
      "source": [
        "# library untuk eksplor data\n",
        "import pandas as pd \n",
        "import numpy as np\n",
        "import matplotlib.pyplot as plt\n",
        "import seaborn as sns\n",
        "\n",
        "import warnings\n",
        "warnings.filterwarnings(\"ignore\")"
      ]
    },
    {
      "cell_type": "code",
      "execution_count": 2,
      "metadata": {
        "id": "zfn9NZxAk-A9",
        "outputId": "a078f598-292e-4bb5-a92c-e25500b30c85"
      },
      "outputs": [
        {
          "data": {
            "text/html": [
              "<div>\n",
              "<style scoped>\n",
              "    .dataframe tbody tr th:only-of-type {\n",
              "        vertical-align: middle;\n",
              "    }\n",
              "\n",
              "    .dataframe tbody tr th {\n",
              "        vertical-align: top;\n",
              "    }\n",
              "\n",
              "    .dataframe thead th {\n",
              "        text-align: right;\n",
              "    }\n",
              "</style>\n",
              "<table border=\"1\" class=\"dataframe\">\n",
              "  <thead>\n",
              "    <tr style=\"text-align: right;\">\n",
              "      <th></th>\n",
              "      <th>HallwayType</th>\n",
              "      <th>TimeToSubway</th>\n",
              "      <th>SubwayStation</th>\n",
              "      <th>N_FacilitiesNearBy(ETC)</th>\n",
              "      <th>N_FacilitiesNearBy(PublicOffice)</th>\n",
              "      <th>N_SchoolNearBy(University)</th>\n",
              "      <th>N_Parkinglot(Basement)</th>\n",
              "      <th>YearBuilt</th>\n",
              "      <th>N_FacilitiesInApt</th>\n",
              "      <th>Size(sqf)</th>\n",
              "      <th>SalePrice</th>\n",
              "    </tr>\n",
              "  </thead>\n",
              "  <tbody>\n",
              "    <tr>\n",
              "      <th>0</th>\n",
              "      <td>terraced</td>\n",
              "      <td>0-5min</td>\n",
              "      <td>Kyungbuk_uni_hospital</td>\n",
              "      <td>0.0</td>\n",
              "      <td>3.0</td>\n",
              "      <td>2.0</td>\n",
              "      <td>1270.0</td>\n",
              "      <td>2007</td>\n",
              "      <td>10</td>\n",
              "      <td>1387</td>\n",
              "      <td>346017</td>\n",
              "    </tr>\n",
              "    <tr>\n",
              "      <th>1</th>\n",
              "      <td>terraced</td>\n",
              "      <td>10min~15min</td>\n",
              "      <td>Kyungbuk_uni_hospital</td>\n",
              "      <td>1.0</td>\n",
              "      <td>5.0</td>\n",
              "      <td>1.0</td>\n",
              "      <td>0.0</td>\n",
              "      <td>1986</td>\n",
              "      <td>4</td>\n",
              "      <td>914</td>\n",
              "      <td>150442</td>\n",
              "    </tr>\n",
              "    <tr>\n",
              "      <th>2</th>\n",
              "      <td>mixed</td>\n",
              "      <td>15min~20min</td>\n",
              "      <td>Chil-sung-market</td>\n",
              "      <td>1.0</td>\n",
              "      <td>7.0</td>\n",
              "      <td>3.0</td>\n",
              "      <td>56.0</td>\n",
              "      <td>1997</td>\n",
              "      <td>5</td>\n",
              "      <td>558</td>\n",
              "      <td>61946</td>\n",
              "    </tr>\n",
              "    <tr>\n",
              "      <th>3</th>\n",
              "      <td>mixed</td>\n",
              "      <td>5min~10min</td>\n",
              "      <td>Bangoge</td>\n",
              "      <td>5.0</td>\n",
              "      <td>5.0</td>\n",
              "      <td>4.0</td>\n",
              "      <td>798.0</td>\n",
              "      <td>2005</td>\n",
              "      <td>7</td>\n",
              "      <td>914</td>\n",
              "      <td>165486</td>\n",
              "    </tr>\n",
              "    <tr>\n",
              "      <th>4</th>\n",
              "      <td>terraced</td>\n",
              "      <td>0-5min</td>\n",
              "      <td>Sin-nam</td>\n",
              "      <td>0.0</td>\n",
              "      <td>1.0</td>\n",
              "      <td>2.0</td>\n",
              "      <td>536.0</td>\n",
              "      <td>2006</td>\n",
              "      <td>5</td>\n",
              "      <td>1743</td>\n",
              "      <td>311504</td>\n",
              "    </tr>\n",
              "    <tr>\n",
              "      <th>...</th>\n",
              "      <td>...</td>\n",
              "      <td>...</td>\n",
              "      <td>...</td>\n",
              "      <td>...</td>\n",
              "      <td>...</td>\n",
              "      <td>...</td>\n",
              "      <td>...</td>\n",
              "      <td>...</td>\n",
              "      <td>...</td>\n",
              "      <td>...</td>\n",
              "      <td>...</td>\n",
              "    </tr>\n",
              "    <tr>\n",
              "      <th>4118</th>\n",
              "      <td>terraced</td>\n",
              "      <td>0-5min</td>\n",
              "      <td>Sin-nam</td>\n",
              "      <td>0.0</td>\n",
              "      <td>3.0</td>\n",
              "      <td>2.0</td>\n",
              "      <td>475.0</td>\n",
              "      <td>2008</td>\n",
              "      <td>8</td>\n",
              "      <td>914</td>\n",
              "      <td>323008</td>\n",
              "    </tr>\n",
              "    <tr>\n",
              "      <th>4119</th>\n",
              "      <td>mixed</td>\n",
              "      <td>15min~20min</td>\n",
              "      <td>Myung-duk</td>\n",
              "      <td>5.0</td>\n",
              "      <td>6.0</td>\n",
              "      <td>5.0</td>\n",
              "      <td>536.0</td>\n",
              "      <td>1993</td>\n",
              "      <td>4</td>\n",
              "      <td>1451</td>\n",
              "      <td>242477</td>\n",
              "    </tr>\n",
              "    <tr>\n",
              "      <th>4120</th>\n",
              "      <td>mixed</td>\n",
              "      <td>15min~20min</td>\n",
              "      <td>Myung-duk</td>\n",
              "      <td>5.0</td>\n",
              "      <td>6.0</td>\n",
              "      <td>5.0</td>\n",
              "      <td>536.0</td>\n",
              "      <td>1993</td>\n",
              "      <td>4</td>\n",
              "      <td>1761</td>\n",
              "      <td>168141</td>\n",
              "    </tr>\n",
              "    <tr>\n",
              "      <th>4121</th>\n",
              "      <td>corridor</td>\n",
              "      <td>5min~10min</td>\n",
              "      <td>Daegu</td>\n",
              "      <td>2.0</td>\n",
              "      <td>5.0</td>\n",
              "      <td>0.0</td>\n",
              "      <td>76.0</td>\n",
              "      <td>1985</td>\n",
              "      <td>3</td>\n",
              "      <td>676</td>\n",
              "      <td>73451</td>\n",
              "    </tr>\n",
              "    <tr>\n",
              "      <th>4122</th>\n",
              "      <td>terraced</td>\n",
              "      <td>0-5min</td>\n",
              "      <td>Kyungbuk_uni_hospital</td>\n",
              "      <td>0.0</td>\n",
              "      <td>3.0</td>\n",
              "      <td>2.0</td>\n",
              "      <td>1270.0</td>\n",
              "      <td>2007</td>\n",
              "      <td>10</td>\n",
              "      <td>868</td>\n",
              "      <td>250442</td>\n",
              "    </tr>\n",
              "  </tbody>\n",
              "</table>\n",
              "<p>4123 rows × 11 columns</p>\n",
              "</div>"
            ],
            "text/plain": [
              "     HallwayType TimeToSubway          SubwayStation  N_FacilitiesNearBy(ETC)  \\\n",
              "0       terraced       0-5min  Kyungbuk_uni_hospital                      0.0   \n",
              "1       terraced  10min~15min  Kyungbuk_uni_hospital                      1.0   \n",
              "2          mixed  15min~20min       Chil-sung-market                      1.0   \n",
              "3          mixed   5min~10min                Bangoge                      5.0   \n",
              "4       terraced       0-5min                Sin-nam                      0.0   \n",
              "...          ...          ...                    ...                      ...   \n",
              "4118    terraced       0-5min                Sin-nam                      0.0   \n",
              "4119       mixed  15min~20min              Myung-duk                      5.0   \n",
              "4120       mixed  15min~20min              Myung-duk                      5.0   \n",
              "4121    corridor   5min~10min                  Daegu                      2.0   \n",
              "4122    terraced       0-5min  Kyungbuk_uni_hospital                      0.0   \n",
              "\n",
              "      N_FacilitiesNearBy(PublicOffice)  N_SchoolNearBy(University)  \\\n",
              "0                                  3.0                         2.0   \n",
              "1                                  5.0                         1.0   \n",
              "2                                  7.0                         3.0   \n",
              "3                                  5.0                         4.0   \n",
              "4                                  1.0                         2.0   \n",
              "...                                ...                         ...   \n",
              "4118                               3.0                         2.0   \n",
              "4119                               6.0                         5.0   \n",
              "4120                               6.0                         5.0   \n",
              "4121                               5.0                         0.0   \n",
              "4122                               3.0                         2.0   \n",
              "\n",
              "      N_Parkinglot(Basement)  YearBuilt  N_FacilitiesInApt  Size(sqf)  \\\n",
              "0                     1270.0       2007                 10       1387   \n",
              "1                        0.0       1986                  4        914   \n",
              "2                       56.0       1997                  5        558   \n",
              "3                      798.0       2005                  7        914   \n",
              "4                      536.0       2006                  5       1743   \n",
              "...                      ...        ...                ...        ...   \n",
              "4118                   475.0       2008                  8        914   \n",
              "4119                   536.0       1993                  4       1451   \n",
              "4120                   536.0       1993                  4       1761   \n",
              "4121                    76.0       1985                  3        676   \n",
              "4122                  1270.0       2007                 10        868   \n",
              "\n",
              "      SalePrice  \n",
              "0        346017  \n",
              "1        150442  \n",
              "2         61946  \n",
              "3        165486  \n",
              "4        311504  \n",
              "...         ...  \n",
              "4118     323008  \n",
              "4119     242477  \n",
              "4120     168141  \n",
              "4121      73451  \n",
              "4122     250442  \n",
              "\n",
              "[4123 rows x 11 columns]"
            ]
          },
          "execution_count": 2,
          "metadata": {},
          "output_type": "execute_result"
        }
      ],
      "source": [
        "# Load dataset\n",
        "df = pd.read_csv(\"data_daegu_apartment.csv\")\n",
        "df"
      ]
    },
    {
      "cell_type": "markdown",
      "metadata": {},
      "source": [
        "Sekarang lihat informasi umum dari dataset."
      ]
    },
    {
      "cell_type": "code",
      "execution_count": 3,
      "metadata": {},
      "outputs": [
        {
          "name": "stdout",
          "output_type": "stream",
          "text": [
            "Jumlah data di dataset penjualan apartment di Daegu adalah 4123 baris dan 11 kolom.\n",
            "\n",
            "<class 'pandas.core.frame.DataFrame'>\n",
            "RangeIndex: 4123 entries, 0 to 4122\n",
            "Data columns (total 11 columns):\n",
            " #   Column                            Non-Null Count  Dtype  \n",
            "---  ------                            --------------  -----  \n",
            " 0   HallwayType                       4123 non-null   object \n",
            " 1   TimeToSubway                      4123 non-null   object \n",
            " 2   SubwayStation                     4123 non-null   object \n",
            " 3   N_FacilitiesNearBy(ETC)           4123 non-null   float64\n",
            " 4   N_FacilitiesNearBy(PublicOffice)  4123 non-null   float64\n",
            " 5   N_SchoolNearBy(University)        4123 non-null   float64\n",
            " 6   N_Parkinglot(Basement)            4123 non-null   float64\n",
            " 7   YearBuilt                         4123 non-null   int64  \n",
            " 8   N_FacilitiesInApt                 4123 non-null   int64  \n",
            " 9   Size(sqf)                         4123 non-null   int64  \n",
            " 10  SalePrice                         4123 non-null   int64  \n",
            "dtypes: float64(4), int64(4), object(3)\n",
            "memory usage: 354.4+ KB\n"
          ]
        }
      ],
      "source": [
        "a,b = df.shape\n",
        "\n",
        "print(f\"Jumlah data di dataset penjualan apartment di Daegu adalah {a} baris dan {b} kolom.\\n\")\n",
        "\n",
        "df.info()"
      ]
    },
    {
      "cell_type": "markdown",
      "metadata": {},
      "source": [
        "Secara umum dapat disimpulkan bahwa:\n",
        "\n",
        "1. Dataset transaksi penjualan apartment di Daegu memiliki 4123 baris dan 11 kolom.\n",
        "2. Dataset terdiri dari 3 kolom dengan tipe *object*, 4 kolom dengan tipe *float*, dan 4 kolom dengan tipe *integer*. \n",
        "3. Tabel berisi informasi mengenai fasilitas yang ditawarkan apartmen, tahun pembangunan apartment, dan harga jual."
      ]
    },
    {
      "cell_type": "markdown",
      "metadata": {},
      "source": [
        "### **3. Data Preprocessing**"
      ]
    },
    {
      "cell_type": "markdown",
      "metadata": {},
      "source": [
        "Untuk mendapatkan hasil analisis yang baik diperlukan data dengan kualitas yang baik. *Data preprocessing* dilakukan untuk menentukan apakah data sudah baik. Perlu dilakukan pengecekan terhadap data awal apakah ada data yang hilang, data ganda (duplikat), dan lain sebagainya, yang perlu ditangani agar data siap untuk dianalisa."
      ]
    },
    {
      "cell_type": "markdown",
      "metadata": {
        "id": "ddvcLtH7k-A-"
      },
      "source": [
        "**Distribution of Daegu Apartment Data**"
      ]
    },
    {
      "cell_type": "code",
      "execution_count": 4,
      "metadata": {
        "id": "j9neglkak-A_",
        "outputId": "5ae210ab-29fc-4c36-c4bd-7e9c026bb987"
      },
      "outputs": [
        {
          "data": {
            "text/plain": [
              "Text(0.5, 1.0, 'Price Distribution Plot')"
            ]
          },
          "execution_count": 4,
          "metadata": {},
          "output_type": "execute_result"
        },
        {
          "data": {
            "image/png": "[encoded data removed]",
            "text/plain": [
              "<Figure size 720x720 with 1 Axes>"
            ]
          },
          "metadata": {
            "needs_background": "light"
          },
          "output_type": "display_data"
        }
      ],
      "source": [
        "# Plot distribusi fitur \"price\"\n",
        "plt.figure(figsize=(10,10))\n",
        "sns.distplot(df[\"SalePrice\"])\n",
        "plt.title(\"Price Distribution Plot\", size=20, weight=25)"
      ]
    },
    {
      "cell_type": "code",
      "execution_count": 5,
      "metadata": {},
      "outputs": [
        {
          "data": {
            "text/html": [
              "<div>\n",
              "<style scoped>\n",
              "    .dataframe tbody tr th:only-of-type {\n",
              "        vertical-align: middle;\n",
              "    }\n",
              "\n",
              "    .dataframe tbody tr th {\n",
              "        vertical-align: top;\n",
              "    }\n",
              "\n",
              "    .dataframe thead th {\n",
              "        text-align: right;\n",
              "    }\n",
              "</style>\n",
              "<table border=\"1\" class=\"dataframe\">\n",
              "  <thead>\n",
              "    <tr style=\"text-align: right;\">\n",
              "      <th></th>\n",
              "      <th>N_FacilitiesNearBy(ETC)</th>\n",
              "      <th>N_FacilitiesNearBy(PublicOffice)</th>\n",
              "      <th>N_SchoolNearBy(University)</th>\n",
              "      <th>N_Parkinglot(Basement)</th>\n",
              "      <th>YearBuilt</th>\n",
              "      <th>N_FacilitiesInApt</th>\n",
              "      <th>Size(sqf)</th>\n",
              "      <th>SalePrice</th>\n",
              "    </tr>\n",
              "  </thead>\n",
              "  <tbody>\n",
              "    <tr>\n",
              "      <th>count</th>\n",
              "      <td>4123.000000</td>\n",
              "      <td>4123.000000</td>\n",
              "      <td>4123.000000</td>\n",
              "      <td>4123.000000</td>\n",
              "      <td>4123.000000</td>\n",
              "      <td>4123.000000</td>\n",
              "      <td>4123.000000</td>\n",
              "      <td>4123.000000</td>\n",
              "    </tr>\n",
              "    <tr>\n",
              "      <th>mean</th>\n",
              "      <td>1.930876</td>\n",
              "      <td>4.135338</td>\n",
              "      <td>2.746301</td>\n",
              "      <td>568.979141</td>\n",
              "      <td>2002.999757</td>\n",
              "      <td>5.817851</td>\n",
              "      <td>954.630851</td>\n",
              "      <td>221767.926995</td>\n",
              "    </tr>\n",
              "    <tr>\n",
              "      <th>std</th>\n",
              "      <td>2.198832</td>\n",
              "      <td>1.802640</td>\n",
              "      <td>1.496610</td>\n",
              "      <td>410.372742</td>\n",
              "      <td>8.905768</td>\n",
              "      <td>2.340507</td>\n",
              "      <td>383.805648</td>\n",
              "      <td>106739.839945</td>\n",
              "    </tr>\n",
              "    <tr>\n",
              "      <th>min</th>\n",
              "      <td>0.000000</td>\n",
              "      <td>0.000000</td>\n",
              "      <td>0.000000</td>\n",
              "      <td>0.000000</td>\n",
              "      <td>1978.000000</td>\n",
              "      <td>1.000000</td>\n",
              "      <td>135.000000</td>\n",
              "      <td>32743.000000</td>\n",
              "    </tr>\n",
              "    <tr>\n",
              "      <th>25%</th>\n",
              "      <td>0.000000</td>\n",
              "      <td>3.000000</td>\n",
              "      <td>2.000000</td>\n",
              "      <td>184.000000</td>\n",
              "      <td>1993.000000</td>\n",
              "      <td>4.000000</td>\n",
              "      <td>644.000000</td>\n",
              "      <td>144752.000000</td>\n",
              "    </tr>\n",
              "    <tr>\n",
              "      <th>50%</th>\n",
              "      <td>1.000000</td>\n",
              "      <td>5.000000</td>\n",
              "      <td>2.000000</td>\n",
              "      <td>536.000000</td>\n",
              "      <td>2006.000000</td>\n",
              "      <td>5.000000</td>\n",
              "      <td>910.000000</td>\n",
              "      <td>209734.000000</td>\n",
              "    </tr>\n",
              "    <tr>\n",
              "      <th>75%</th>\n",
              "      <td>5.000000</td>\n",
              "      <td>5.000000</td>\n",
              "      <td>4.000000</td>\n",
              "      <td>798.000000</td>\n",
              "      <td>2008.000000</td>\n",
              "      <td>7.000000</td>\n",
              "      <td>1149.000000</td>\n",
              "      <td>291150.000000</td>\n",
              "    </tr>\n",
              "    <tr>\n",
              "      <th>max</th>\n",
              "      <td>5.000000</td>\n",
              "      <td>7.000000</td>\n",
              "      <td>5.000000</td>\n",
              "      <td>1321.000000</td>\n",
              "      <td>2015.000000</td>\n",
              "      <td>10.000000</td>\n",
              "      <td>2337.000000</td>\n",
              "      <td>585840.000000</td>\n",
              "    </tr>\n",
              "  </tbody>\n",
              "</table>\n",
              "</div>"
            ],
            "text/plain": [
              "       N_FacilitiesNearBy(ETC)  N_FacilitiesNearBy(PublicOffice)  \\\n",
              "count              4123.000000                       4123.000000   \n",
              "mean                  1.930876                          4.135338   \n",
              "std                   2.198832                          1.802640   \n",
              "min                   0.000000                          0.000000   \n",
              "25%                   0.000000                          3.000000   \n",
              "50%                   1.000000                          5.000000   \n",
              "75%                   5.000000                          5.000000   \n",
              "max                   5.000000                          7.000000   \n",
              "\n",
              "       N_SchoolNearBy(University)  N_Parkinglot(Basement)    YearBuilt  \\\n",
              "count                 4123.000000             4123.000000  4123.000000   \n",
              "mean                     2.746301              568.979141  2002.999757   \n",
              "std                      1.496610              410.372742     8.905768   \n",
              "min                      0.000000                0.000000  1978.000000   \n",
              "25%                      2.000000              184.000000  1993.000000   \n",
              "50%                      2.000000              536.000000  2006.000000   \n",
              "75%                      4.000000              798.000000  2008.000000   \n",
              "max                      5.000000             1321.000000  2015.000000   \n",
              "\n",
              "       N_FacilitiesInApt    Size(sqf)      SalePrice  \n",
              "count        4123.000000  4123.000000    4123.000000  \n",
              "mean            5.817851   954.630851  221767.926995  \n",
              "std             2.340507   383.805648  106739.839945  \n",
              "min             1.000000   135.000000   32743.000000  \n",
              "25%             4.000000   644.000000  144752.000000  \n",
              "50%             5.000000   910.000000  209734.000000  \n",
              "75%             7.000000  1149.000000  291150.000000  \n",
              "max            10.000000  2337.000000  585840.000000  "
            ]
          },
          "execution_count": 5,
          "metadata": {},
          "output_type": "execute_result"
        }
      ],
      "source": [
        "df.describe()"
      ]
    },
    {
      "cell_type": "markdown",
      "metadata": {
        "id": "s2RTEo8ik-A_"
      },
      "source": [
        "Dari plot di atas, terdapat \"positive skewness\" pada fitur harga jual apartment. Hal ini juga dapat dilihat pada nilai mean yang lebih besar dari nilai median."
      ]
    },
    {
      "cell_type": "markdown",
      "metadata": {},
      "source": [
        "Sekarang bandingkan semua *feature* pada unit apartment dengan harga termurah dan termahal."
      ]
    },
    {
      "cell_type": "code",
      "execution_count": 6,
      "metadata": {},
      "outputs": [
        {
          "data": {
            "text/html": [
              "<div>\n",
              "<style scoped>\n",
              "    .dataframe tbody tr th:only-of-type {\n",
              "        vertical-align: middle;\n",
              "    }\n",
              "\n",
              "    .dataframe tbody tr th {\n",
              "        vertical-align: top;\n",
              "    }\n",
              "\n",
              "    .dataframe thead th {\n",
              "        text-align: right;\n",
              "    }\n",
              "</style>\n",
              "<table border=\"1\" class=\"dataframe\">\n",
              "  <thead>\n",
              "    <tr style=\"text-align: right;\">\n",
              "      <th></th>\n",
              "      <th>HallwayType</th>\n",
              "      <th>TimeToSubway</th>\n",
              "      <th>SubwayStation</th>\n",
              "      <th>N_FacilitiesNearBy(ETC)</th>\n",
              "      <th>N_FacilitiesNearBy(PublicOffice)</th>\n",
              "      <th>N_SchoolNearBy(University)</th>\n",
              "      <th>N_Parkinglot(Basement)</th>\n",
              "      <th>YearBuilt</th>\n",
              "      <th>N_FacilitiesInApt</th>\n",
              "      <th>Size(sqf)</th>\n",
              "      <th>SalePrice</th>\n",
              "    </tr>\n",
              "  </thead>\n",
              "  <tbody>\n",
              "    <tr>\n",
              "      <th>1908</th>\n",
              "      <td>corridor</td>\n",
              "      <td>10min~15min</td>\n",
              "      <td>Myung-duk</td>\n",
              "      <td>5.0</td>\n",
              "      <td>7.0</td>\n",
              "      <td>5.0</td>\n",
              "      <td>0.0</td>\n",
              "      <td>1992</td>\n",
              "      <td>3</td>\n",
              "      <td>355</td>\n",
              "      <td>32743</td>\n",
              "    </tr>\n",
              "  </tbody>\n",
              "</table>\n",
              "</div>"
            ],
            "text/plain": [
              "     HallwayType TimeToSubway SubwayStation  N_FacilitiesNearBy(ETC)  \\\n",
              "1908    corridor  10min~15min     Myung-duk                      5.0   \n",
              "\n",
              "      N_FacilitiesNearBy(PublicOffice)  N_SchoolNearBy(University)  \\\n",
              "1908                               7.0                         5.0   \n",
              "\n",
              "      N_Parkinglot(Basement)  YearBuilt  N_FacilitiesInApt  Size(sqf)  \\\n",
              "1908                     0.0       1992                  3        355   \n",
              "\n",
              "      SalePrice  \n",
              "1908      32743  "
            ]
          },
          "execution_count": 6,
          "metadata": {},
          "output_type": "execute_result"
        }
      ],
      "source": [
        "# Apartment termurah\n",
        "df[df[\"SalePrice\"] == 32743]"
      ]
    },
    {
      "cell_type": "code",
      "execution_count": 7,
      "metadata": {},
      "outputs": [
        {
          "data": {
            "text/html": [
              "<div>\n",
              "<style scoped>\n",
              "    .dataframe tbody tr th:only-of-type {\n",
              "        vertical-align: middle;\n",
              "    }\n",
              "\n",
              "    .dataframe tbody tr th {\n",
              "        vertical-align: top;\n",
              "    }\n",
              "\n",
              "    .dataframe thead th {\n",
              "        text-align: right;\n",
              "    }\n",
              "</style>\n",
              "<table border=\"1\" class=\"dataframe\">\n",
              "  <thead>\n",
              "    <tr style=\"text-align: right;\">\n",
              "      <th></th>\n",
              "      <th>HallwayType</th>\n",
              "      <th>TimeToSubway</th>\n",
              "      <th>SubwayStation</th>\n",
              "      <th>N_FacilitiesNearBy(ETC)</th>\n",
              "      <th>N_FacilitiesNearBy(PublicOffice)</th>\n",
              "      <th>N_SchoolNearBy(University)</th>\n",
              "      <th>N_Parkinglot(Basement)</th>\n",
              "      <th>YearBuilt</th>\n",
              "      <th>N_FacilitiesInApt</th>\n",
              "      <th>Size(sqf)</th>\n",
              "      <th>SalePrice</th>\n",
              "    </tr>\n",
              "  </thead>\n",
              "  <tbody>\n",
              "    <tr>\n",
              "      <th>2128</th>\n",
              "      <td>terraced</td>\n",
              "      <td>0-5min</td>\n",
              "      <td>Kyungbuk_uni_hospital</td>\n",
              "      <td>0.0</td>\n",
              "      <td>3.0</td>\n",
              "      <td>2.0</td>\n",
              "      <td>1270.0</td>\n",
              "      <td>2007</td>\n",
              "      <td>10</td>\n",
              "      <td>1928</td>\n",
              "      <td>585840</td>\n",
              "    </tr>\n",
              "  </tbody>\n",
              "</table>\n",
              "</div>"
            ],
            "text/plain": [
              "     HallwayType TimeToSubway          SubwayStation  N_FacilitiesNearBy(ETC)  \\\n",
              "2128    terraced       0-5min  Kyungbuk_uni_hospital                      0.0   \n",
              "\n",
              "      N_FacilitiesNearBy(PublicOffice)  N_SchoolNearBy(University)  \\\n",
              "2128                               3.0                         2.0   \n",
              "\n",
              "      N_Parkinglot(Basement)  YearBuilt  N_FacilitiesInApt  Size(sqf)  \\\n",
              "2128                  1270.0       2007                 10       1928   \n",
              "\n",
              "      SalePrice  \n",
              "2128     585840  "
            ]
          },
          "execution_count": 7,
          "metadata": {},
          "output_type": "execute_result"
        }
      ],
      "source": [
        "# Apartment termahal\n",
        "df[df[\"SalePrice\"] == 585840]"
      ]
    },
    {
      "cell_type": "markdown",
      "metadata": {},
      "source": [
        "Unit apartment dengan harga termurah memiliki luas area yang jauh lebih kecil, jarak tempuh ke stasiun *subway* terdekat juga lebih lama, dan bangunan lebih tua bila dibandingkan dengan unit apartment dengan harga termahal. Perlu dilihat lebih lanjut hubungan antara fitur dengan harga jual."
      ]
    },
    {
      "cell_type": "markdown",
      "metadata": {
        "id": "vkfZ5VfQk-BC"
      },
      "source": [
        "***Features vs Target***"
      ]
    },
    {
      "cell_type": "code",
      "execution_count": 8,
      "metadata": {},
      "outputs": [
        {
          "data": {
            "text/html": [
              "<div>\n",
              "<style scoped>\n",
              "    .dataframe tbody tr th:only-of-type {\n",
              "        vertical-align: middle;\n",
              "    }\n",
              "\n",
              "    .dataframe tbody tr th {\n",
              "        vertical-align: top;\n",
              "    }\n",
              "\n",
              "    .dataframe thead th {\n",
              "        text-align: right;\n",
              "    }\n",
              "</style>\n",
              "<table border=\"1\" class=\"dataframe\">\n",
              "  <thead>\n",
              "    <tr style=\"text-align: right;\">\n",
              "      <th></th>\n",
              "      <th>HallwayType</th>\n",
              "      <th>TimeToSubway</th>\n",
              "      <th>SubwayStation</th>\n",
              "      <th>N_FacilitiesNearBy(ETC)</th>\n",
              "      <th>N_FacilitiesNearBy(PublicOffice)</th>\n",
              "      <th>N_SchoolNearBy(University)</th>\n",
              "      <th>N_Parkinglot(Basement)</th>\n",
              "      <th>YearBuilt</th>\n",
              "      <th>N_FacilitiesInApt</th>\n",
              "      <th>Size(sqf)</th>\n",
              "      <th>SalePrice</th>\n",
              "    </tr>\n",
              "  </thead>\n",
              "  <tbody>\n",
              "    <tr>\n",
              "      <th>2128</th>\n",
              "      <td>terraced</td>\n",
              "      <td>0-5min</td>\n",
              "      <td>Kyungbuk_uni_hospital</td>\n",
              "      <td>0.0</td>\n",
              "      <td>3.0</td>\n",
              "      <td>2.0</td>\n",
              "      <td>1270.0</td>\n",
              "      <td>2007</td>\n",
              "      <td>10</td>\n",
              "      <td>1928</td>\n",
              "      <td>585840</td>\n",
              "    </tr>\n",
              "    <tr>\n",
              "      <th>2918</th>\n",
              "      <td>terraced</td>\n",
              "      <td>0-5min</td>\n",
              "      <td>Kyungbuk_uni_hospital</td>\n",
              "      <td>0.0</td>\n",
              "      <td>3.0</td>\n",
              "      <td>2.0</td>\n",
              "      <td>1270.0</td>\n",
              "      <td>2007</td>\n",
              "      <td>10</td>\n",
              "      <td>1928</td>\n",
              "      <td>570796</td>\n",
              "    </tr>\n",
              "    <tr>\n",
              "      <th>550</th>\n",
              "      <td>terraced</td>\n",
              "      <td>0-5min</td>\n",
              "      <td>Kyungbuk_uni_hospital</td>\n",
              "      <td>0.0</td>\n",
              "      <td>3.0</td>\n",
              "      <td>2.0</td>\n",
              "      <td>1270.0</td>\n",
              "      <td>2007</td>\n",
              "      <td>10</td>\n",
              "      <td>1928</td>\n",
              "      <td>570796</td>\n",
              "    </tr>\n",
              "    <tr>\n",
              "      <th>204</th>\n",
              "      <td>terraced</td>\n",
              "      <td>0-5min</td>\n",
              "      <td>Kyungbuk_uni_hospital</td>\n",
              "      <td>0.0</td>\n",
              "      <td>3.0</td>\n",
              "      <td>2.0</td>\n",
              "      <td>1270.0</td>\n",
              "      <td>2007</td>\n",
              "      <td>10</td>\n",
              "      <td>1643</td>\n",
              "      <td>566371</td>\n",
              "    </tr>\n",
              "    <tr>\n",
              "      <th>234</th>\n",
              "      <td>terraced</td>\n",
              "      <td>0-5min</td>\n",
              "      <td>Kyungbuk_uni_hospital</td>\n",
              "      <td>0.0</td>\n",
              "      <td>3.0</td>\n",
              "      <td>2.0</td>\n",
              "      <td>1270.0</td>\n",
              "      <td>2007</td>\n",
              "      <td>10</td>\n",
              "      <td>1928</td>\n",
              "      <td>566371</td>\n",
              "    </tr>\n",
              "    <tr>\n",
              "      <th>3545</th>\n",
              "      <td>terraced</td>\n",
              "      <td>0-5min</td>\n",
              "      <td>Kyungbuk_uni_hospital</td>\n",
              "      <td>0.0</td>\n",
              "      <td>3.0</td>\n",
              "      <td>2.0</td>\n",
              "      <td>1270.0</td>\n",
              "      <td>2007</td>\n",
              "      <td>10</td>\n",
              "      <td>1928</td>\n",
              "      <td>557522</td>\n",
              "    </tr>\n",
              "    <tr>\n",
              "      <th>3949</th>\n",
              "      <td>terraced</td>\n",
              "      <td>0-5min</td>\n",
              "      <td>Kyungbuk_uni_hospital</td>\n",
              "      <td>0.0</td>\n",
              "      <td>3.0</td>\n",
              "      <td>2.0</td>\n",
              "      <td>1270.0</td>\n",
              "      <td>2007</td>\n",
              "      <td>10</td>\n",
              "      <td>1928</td>\n",
              "      <td>556637</td>\n",
              "    </tr>\n",
              "    <tr>\n",
              "      <th>549</th>\n",
              "      <td>terraced</td>\n",
              "      <td>0-5min</td>\n",
              "      <td>Kyungbuk_uni_hospital</td>\n",
              "      <td>0.0</td>\n",
              "      <td>3.0</td>\n",
              "      <td>2.0</td>\n",
              "      <td>1270.0</td>\n",
              "      <td>2007</td>\n",
              "      <td>10</td>\n",
              "      <td>1928</td>\n",
              "      <td>553097</td>\n",
              "    </tr>\n",
              "    <tr>\n",
              "      <th>2100</th>\n",
              "      <td>terraced</td>\n",
              "      <td>0-5min</td>\n",
              "      <td>Kyungbuk_uni_hospital</td>\n",
              "      <td>0.0</td>\n",
              "      <td>3.0</td>\n",
              "      <td>2.0</td>\n",
              "      <td>1270.0</td>\n",
              "      <td>2007</td>\n",
              "      <td>10</td>\n",
              "      <td>1519</td>\n",
              "      <td>530973</td>\n",
              "    </tr>\n",
              "    <tr>\n",
              "      <th>1180</th>\n",
              "      <td>terraced</td>\n",
              "      <td>0-5min</td>\n",
              "      <td>Kyungbuk_uni_hospital</td>\n",
              "      <td>0.0</td>\n",
              "      <td>3.0</td>\n",
              "      <td>2.0</td>\n",
              "      <td>1270.0</td>\n",
              "      <td>2007</td>\n",
              "      <td>10</td>\n",
              "      <td>1643</td>\n",
              "      <td>530973</td>\n",
              "    </tr>\n",
              "    <tr>\n",
              "      <th>3966</th>\n",
              "      <td>terraced</td>\n",
              "      <td>0-5min</td>\n",
              "      <td>Kyungbuk_uni_hospital</td>\n",
              "      <td>0.0</td>\n",
              "      <td>3.0</td>\n",
              "      <td>2.0</td>\n",
              "      <td>1270.0</td>\n",
              "      <td>2007</td>\n",
              "      <td>10</td>\n",
              "      <td>1643</td>\n",
              "      <td>529203</td>\n",
              "    </tr>\n",
              "    <tr>\n",
              "      <th>3379</th>\n",
              "      <td>terraced</td>\n",
              "      <td>0-5min</td>\n",
              "      <td>Kyungbuk_uni_hospital</td>\n",
              "      <td>0.0</td>\n",
              "      <td>3.0</td>\n",
              "      <td>2.0</td>\n",
              "      <td>1270.0</td>\n",
              "      <td>2007</td>\n",
              "      <td>10</td>\n",
              "      <td>1928</td>\n",
              "      <td>529203</td>\n",
              "    </tr>\n",
              "    <tr>\n",
              "      <th>971</th>\n",
              "      <td>terraced</td>\n",
              "      <td>0-5min</td>\n",
              "      <td>Kyungbuk_uni_hospital</td>\n",
              "      <td>0.0</td>\n",
              "      <td>3.0</td>\n",
              "      <td>2.0</td>\n",
              "      <td>1270.0</td>\n",
              "      <td>2007</td>\n",
              "      <td>10</td>\n",
              "      <td>1928</td>\n",
              "      <td>529203</td>\n",
              "    </tr>\n",
              "    <tr>\n",
              "      <th>3868</th>\n",
              "      <td>terraced</td>\n",
              "      <td>0-5min</td>\n",
              "      <td>Kyungbuk_uni_hospital</td>\n",
              "      <td>0.0</td>\n",
              "      <td>3.0</td>\n",
              "      <td>2.0</td>\n",
              "      <td>1270.0</td>\n",
              "      <td>2007</td>\n",
              "      <td>10</td>\n",
              "      <td>1928</td>\n",
              "      <td>529203</td>\n",
              "    </tr>\n",
              "    <tr>\n",
              "      <th>656</th>\n",
              "      <td>terraced</td>\n",
              "      <td>0-5min</td>\n",
              "      <td>Kyungbuk_uni_hospital</td>\n",
              "      <td>0.0</td>\n",
              "      <td>3.0</td>\n",
              "      <td>2.0</td>\n",
              "      <td>1270.0</td>\n",
              "      <td>2007</td>\n",
              "      <td>10</td>\n",
              "      <td>1928</td>\n",
              "      <td>528318</td>\n",
              "    </tr>\n",
              "    <tr>\n",
              "      <th>4087</th>\n",
              "      <td>terraced</td>\n",
              "      <td>0-5min</td>\n",
              "      <td>Kyungbuk_uni_hospital</td>\n",
              "      <td>0.0</td>\n",
              "      <td>3.0</td>\n",
              "      <td>2.0</td>\n",
              "      <td>1270.0</td>\n",
              "      <td>2007</td>\n",
              "      <td>10</td>\n",
              "      <td>1928</td>\n",
              "      <td>527433</td>\n",
              "    </tr>\n",
              "    <tr>\n",
              "      <th>2363</th>\n",
              "      <td>terraced</td>\n",
              "      <td>0-5min</td>\n",
              "      <td>Kyungbuk_uni_hospital</td>\n",
              "      <td>0.0</td>\n",
              "      <td>3.0</td>\n",
              "      <td>2.0</td>\n",
              "      <td>1270.0</td>\n",
              "      <td>2007</td>\n",
              "      <td>10</td>\n",
              "      <td>1928</td>\n",
              "      <td>527433</td>\n",
              "    </tr>\n",
              "    <tr>\n",
              "      <th>1998</th>\n",
              "      <td>terraced</td>\n",
              "      <td>0-5min</td>\n",
              "      <td>Kyungbuk_uni_hospital</td>\n",
              "      <td>0.0</td>\n",
              "      <td>3.0</td>\n",
              "      <td>2.0</td>\n",
              "      <td>1270.0</td>\n",
              "      <td>2007</td>\n",
              "      <td>10</td>\n",
              "      <td>1643</td>\n",
              "      <td>526548</td>\n",
              "    </tr>\n",
              "    <tr>\n",
              "      <th>1295</th>\n",
              "      <td>terraced</td>\n",
              "      <td>0-5min</td>\n",
              "      <td>Kyungbuk_uni_hospital</td>\n",
              "      <td>0.0</td>\n",
              "      <td>3.0</td>\n",
              "      <td>2.0</td>\n",
              "      <td>1270.0</td>\n",
              "      <td>2007</td>\n",
              "      <td>10</td>\n",
              "      <td>1519</td>\n",
              "      <td>526548</td>\n",
              "    </tr>\n",
              "    <tr>\n",
              "      <th>3520</th>\n",
              "      <td>terraced</td>\n",
              "      <td>0-5min</td>\n",
              "      <td>Kyungbuk_uni_hospital</td>\n",
              "      <td>0.0</td>\n",
              "      <td>3.0</td>\n",
              "      <td>2.0</td>\n",
              "      <td>1270.0</td>\n",
              "      <td>2007</td>\n",
              "      <td>10</td>\n",
              "      <td>1928</td>\n",
              "      <td>526548</td>\n",
              "    </tr>\n",
              "  </tbody>\n",
              "</table>\n",
              "</div>"
            ],
            "text/plain": [
              "     HallwayType TimeToSubway          SubwayStation  N_FacilitiesNearBy(ETC)  \\\n",
              "2128    terraced       0-5min  Kyungbuk_uni_hospital                      0.0   \n",
              "2918    terraced       0-5min  Kyungbuk_uni_hospital                      0.0   \n",
              "550     terraced       0-5min  Kyungbuk_uni_hospital                      0.0   \n",
              "204     terraced       0-5min  Kyungbuk_uni_hospital                      0.0   \n",
              "234     terraced       0-5min  Kyungbuk_uni_hospital                      0.0   \n",
              "3545    terraced       0-5min  Kyungbuk_uni_hospital                      0.0   \n",
              "3949    terraced       0-5min  Kyungbuk_uni_hospital                      0.0   \n",
              "549     terraced       0-5min  Kyungbuk_uni_hospital                      0.0   \n",
              "2100    terraced       0-5min  Kyungbuk_uni_hospital                      0.0   \n",
              "1180    terraced       0-5min  Kyungbuk_uni_hospital                      0.0   \n",
              "3966    terraced       0-5min  Kyungbuk_uni_hospital                      0.0   \n",
              "3379    terraced       0-5min  Kyungbuk_uni_hospital                      0.0   \n",
              "971     terraced       0-5min  Kyungbuk_uni_hospital                      0.0   \n",
              "3868    terraced       0-5min  Kyungbuk_uni_hospital                      0.0   \n",
              "656     terraced       0-5min  Kyungbuk_uni_hospital                      0.0   \n",
              "4087    terraced       0-5min  Kyungbuk_uni_hospital                      0.0   \n",
              "2363    terraced       0-5min  Kyungbuk_uni_hospital                      0.0   \n",
              "1998    terraced       0-5min  Kyungbuk_uni_hospital                      0.0   \n",
              "1295    terraced       0-5min  Kyungbuk_uni_hospital                      0.0   \n",
              "3520    terraced       0-5min  Kyungbuk_uni_hospital                      0.0   \n",
              "\n",
              "      N_FacilitiesNearBy(PublicOffice)  N_SchoolNearBy(University)  \\\n",
              "2128                               3.0                         2.0   \n",
              "2918                               3.0                         2.0   \n",
              "550                                3.0                         2.0   \n",
              "204                                3.0                         2.0   \n",
              "234                                3.0                         2.0   \n",
              "3545                               3.0                         2.0   \n",
              "3949                               3.0                         2.0   \n",
              "549                                3.0                         2.0   \n",
              "2100                               3.0                         2.0   \n",
              "1180                               3.0                         2.0   \n",
              "3966                               3.0                         2.0   \n",
              "3379                               3.0                         2.0   \n",
              "971                                3.0                         2.0   \n",
              "3868                               3.0                         2.0   \n",
              "656                                3.0                         2.0   \n",
              "4087                               3.0                         2.0   \n",
              "2363                               3.0                         2.0   \n",
              "1998                               3.0                         2.0   \n",
              "1295                               3.0                         2.0   \n",
              "3520                               3.0                         2.0   \n",
              "\n",
              "      N_Parkinglot(Basement)  YearBuilt  N_FacilitiesInApt  Size(sqf)  \\\n",
              "2128                  1270.0       2007                 10       1928   \n",
              "2918                  1270.0       2007                 10       1928   \n",
              "550                   1270.0       2007                 10       1928   \n",
              "204                   1270.0       2007                 10       1643   \n",
              "234                   1270.0       2007                 10       1928   \n",
              "3545                  1270.0       2007                 10       1928   \n",
              "3949                  1270.0       2007                 10       1928   \n",
              "549                   1270.0       2007                 10       1928   \n",
              "2100                  1270.0       2007                 10       1519   \n",
              "1180                  1270.0       2007                 10       1643   \n",
              "3966                  1270.0       2007                 10       1643   \n",
              "3379                  1270.0       2007                 10       1928   \n",
              "971                   1270.0       2007                 10       1928   \n",
              "3868                  1270.0       2007                 10       1928   \n",
              "656                   1270.0       2007                 10       1928   \n",
              "4087                  1270.0       2007                 10       1928   \n",
              "2363                  1270.0       2007                 10       1928   \n",
              "1998                  1270.0       2007                 10       1643   \n",
              "1295                  1270.0       2007                 10       1519   \n",
              "3520                  1270.0       2007                 10       1928   \n",
              "\n",
              "      SalePrice  \n",
              "2128     585840  \n",
              "2918     570796  \n",
              "550      570796  \n",
              "204      566371  \n",
              "234      566371  \n",
              "3545     557522  \n",
              "3949     556637  \n",
              "549      553097  \n",
              "2100     530973  \n",
              "1180     530973  \n",
              "3966     529203  \n",
              "3379     529203  \n",
              "971      529203  \n",
              "3868     529203  \n",
              "656      528318  \n",
              "4087     527433  \n",
              "2363     527433  \n",
              "1998     526548  \n",
              "1295     526548  \n",
              "3520     526548  "
            ]
          },
          "execution_count": 8,
          "metadata": {},
          "output_type": "execute_result"
        }
      ],
      "source": [
        "df.sort_values(\"SalePrice\", ascending=False).head(20)"
      ]
    },
    {
      "cell_type": "markdown",
      "metadata": {},
      "source": [
        "Dari tabel di atas dapat dilihat bahwa dengan fitur yang sama memiliki *`SalePrice`* yang berbeda-beda. Satu-satunya fitur yang berbeda hanyalah luas apartment. Oleh karena itu, dapat disimpulkan luas apartment yang paling memengaruhi nilai harga jual."
      ]
    },
    {
      "cell_type": "markdown",
      "metadata": {},
      "source": [
        "Lihat *unique* dari kolom \"*HallwayType*\", \"*TimeToSubway*\", dan \"*SubwayStation*\"."
      ]
    },
    {
      "cell_type": "code",
      "execution_count": 9,
      "metadata": {},
      "outputs": [
        {
          "data": {
            "text/html": [
              "<div>\n",
              "<style scoped>\n",
              "    .dataframe tbody tr th:only-of-type {\n",
              "        vertical-align: middle;\n",
              "    }\n",
              "\n",
              "    .dataframe tbody tr th {\n",
              "        vertical-align: top;\n",
              "    }\n",
              "\n",
              "    .dataframe thead th {\n",
              "        text-align: right;\n",
              "    }\n",
              "</style>\n",
              "<table border=\"1\" class=\"dataframe\">\n",
              "  <thead>\n",
              "    <tr style=\"text-align: right;\">\n",
              "      <th></th>\n",
              "      <th>Column Name</th>\n",
              "      <th>Unique</th>\n",
              "    </tr>\n",
              "  </thead>\n",
              "  <tbody>\n",
              "    <tr>\n",
              "      <th>0</th>\n",
              "      <td>HallwayType</td>\n",
              "      <td>[terraced, mixed, corridor]</td>\n",
              "    </tr>\n",
              "    <tr>\n",
              "      <th>1</th>\n",
              "      <td>TimeToSubway</td>\n",
              "      <td>[0-5min, 10min~15min, 15min~20min, 5min~10min,...</td>\n",
              "    </tr>\n",
              "    <tr>\n",
              "      <th>2</th>\n",
              "      <td>SubwayStation</td>\n",
              "      <td>[Kyungbuk_uni_hospital, Chil-sung-market, Bang...</td>\n",
              "    </tr>\n",
              "  </tbody>\n",
              "</table>\n",
              "</div>"
            ],
            "text/plain": [
              "     Column Name                                             Unique\n",
              "0    HallwayType                        [terraced, mixed, corridor]\n",
              "1   TimeToSubway  [0-5min, 10min~15min, 15min~20min, 5min~10min,...\n",
              "2  SubwayStation  [Kyungbuk_uni_hospital, Chil-sung-market, Bang..."
            ]
          },
          "execution_count": 9,
          "metadata": {},
          "output_type": "execute_result"
        }
      ],
      "source": [
        "listunique = []\n",
        "\n",
        "categoricalfeature = df.select_dtypes(include=\"object\").columns\n",
        "\n",
        "for col in categoricalfeature :\n",
        "    listunique.append([col, df[col].unique()])\n",
        "\n",
        "cat_feature = pd.DataFrame(columns=[\"Column Name\", \"Unique\"],\n",
        "                     data=listunique)\n",
        "cat_feature"
      ]
    },
    {
      "cell_type": "markdown",
      "metadata": {
        "id": "9ZnA_-OCk-A_"
      },
      "source": [
        "***Hallway Type Distribution***"
      ]
    },
    {
      "cell_type": "code",
      "execution_count": 10,
      "metadata": {
        "id": "2K_iO51Xk-BB",
        "outputId": "0422fe4a-df06-4ea1-ede3-2d42600388a4"
      },
      "outputs": [
        {
          "data": {
            "text/html": [
              "<div>\n",
              "<style scoped>\n",
              "    .dataframe tbody tr th:only-of-type {\n",
              "        vertical-align: middle;\n",
              "    }\n",
              "\n",
              "    .dataframe tbody tr th {\n",
              "        vertical-align: top;\n",
              "    }\n",
              "\n",
              "    .dataframe thead th {\n",
              "        text-align: right;\n",
              "    }\n",
              "</style>\n",
              "<table border=\"1\" class=\"dataframe\">\n",
              "  <thead>\n",
              "    <tr style=\"text-align: right;\">\n",
              "      <th>HallwayType</th>\n",
              "      <th>corridor</th>\n",
              "      <th>mixed</th>\n",
              "      <th>terraced</th>\n",
              "    </tr>\n",
              "  </thead>\n",
              "  <tbody>\n",
              "    <tr>\n",
              "      <th>HallwayType</th>\n",
              "      <td>464</td>\n",
              "      <td>1131</td>\n",
              "      <td>2528</td>\n",
              "    </tr>\n",
              "  </tbody>\n",
              "</table>\n",
              "</div>"
            ],
            "text/plain": [
              "HallwayType  corridor  mixed  terraced\n",
              "HallwayType       464   1131      2528"
            ]
          },
          "metadata": {},
          "output_type": "display_data"
        }
      ],
      "source": [
        "# Cek total penjualan unit untuk tiap jenis hallway\n",
        "\n",
        "hallway_type = df.groupby(by=[\"HallwayType\"]).agg({\"HallwayType\":\"count\"})\n",
        "display(hallway_type.T)"
      ]
    },
    {
      "cell_type": "code",
      "execution_count": 11,
      "metadata": {},
      "outputs": [
        {
          "data": {
            "image/png": "[encoded data removed]",
            "text/plain": [
              "<Figure size 720x576 with 1 Axes>"
            ]
          },
          "metadata": {
            "needs_background": "light"
          },
          "output_type": "display_data"
        }
      ],
      "source": [
        "plt.figure(figsize=(10,8))\n",
        "sns.histplot(df[\"HallwayType\"])\n",
        "plt.title(\"Apartment Hallway Type\", size=20)\n",
        "plt.show()"
      ]
    },
    {
      "cell_type": "markdown",
      "metadata": {},
      "source": [
        "***Hallway vs Median Sale Price***"
      ]
    },
    {
      "cell_type": "code",
      "execution_count": 12,
      "metadata": {
        "id": "LKt1fDPsk-BB",
        "outputId": "0aaa0346-732e-4982-dc43-53147bcca33d"
      },
      "outputs": [
        {
          "data": {
            "text/html": [
              "<div>\n",
              "<style scoped>\n",
              "    .dataframe tbody tr th:only-of-type {\n",
              "        vertical-align: middle;\n",
              "    }\n",
              "\n",
              "    .dataframe tbody tr th {\n",
              "        vertical-align: top;\n",
              "    }\n",
              "\n",
              "    .dataframe thead th {\n",
              "        text-align: right;\n",
              "    }\n",
              "</style>\n",
              "<table border=\"1\" class=\"dataframe\">\n",
              "  <thead>\n",
              "    <tr style=\"text-align: right;\">\n",
              "      <th>HallwayType</th>\n",
              "      <th>corridor</th>\n",
              "      <th>mixed</th>\n",
              "      <th>terraced</th>\n",
              "    </tr>\n",
              "    <tr>\n",
              "      <th>SubwayStation</th>\n",
              "      <th></th>\n",
              "      <th></th>\n",
              "      <th></th>\n",
              "    </tr>\n",
              "  </thead>\n",
              "  <tbody>\n",
              "    <tr>\n",
              "      <th>Bangoge</th>\n",
              "      <td>0.0</td>\n",
              "      <td>167035.0</td>\n",
              "      <td>0.0</td>\n",
              "    </tr>\n",
              "    <tr>\n",
              "      <th>Banwoldang</th>\n",
              "      <td>101769.0</td>\n",
              "      <td>0.0</td>\n",
              "      <td>337168.0</td>\n",
              "    </tr>\n",
              "    <tr>\n",
              "      <th>Chil-sung-market</th>\n",
              "      <td>0.0</td>\n",
              "      <td>88495.0</td>\n",
              "      <td>0.0</td>\n",
              "    </tr>\n",
              "    <tr>\n",
              "      <th>Daegu</th>\n",
              "      <td>70796.0</td>\n",
              "      <td>0.0</td>\n",
              "      <td>300884.0</td>\n",
              "    </tr>\n",
              "    <tr>\n",
              "      <th>Kyungbuk_uni_hospital</th>\n",
              "      <td>163716.0</td>\n",
              "      <td>0.0</td>\n",
              "      <td>244911.0</td>\n",
              "    </tr>\n",
              "    <tr>\n",
              "      <th>Myung-duk</th>\n",
              "      <td>65486.0</td>\n",
              "      <td>149557.0</td>\n",
              "      <td>271681.0</td>\n",
              "    </tr>\n",
              "    <tr>\n",
              "      <th>Sin-nam</th>\n",
              "      <td>87610.0</td>\n",
              "      <td>0.0</td>\n",
              "      <td>256637.0</td>\n",
              "    </tr>\n",
              "    <tr>\n",
              "      <th>no_subway_nearby</th>\n",
              "      <td>58407.0</td>\n",
              "      <td>0.0</td>\n",
              "      <td>243362.0</td>\n",
              "    </tr>\n",
              "  </tbody>\n",
              "</table>\n",
              "</div>"
            ],
            "text/plain": [
              "HallwayType            corridor     mixed  terraced\n",
              "SubwayStation                                      \n",
              "Bangoge                     0.0  167035.0       0.0\n",
              "Banwoldang             101769.0       0.0  337168.0\n",
              "Chil-sung-market            0.0   88495.0       0.0\n",
              "Daegu                   70796.0       0.0  300884.0\n",
              "Kyungbuk_uni_hospital  163716.0       0.0  244911.0\n",
              "Myung-duk               65486.0  149557.0  271681.0\n",
              "Sin-nam                 87610.0       0.0  256637.0\n",
              "no_subway_nearby        58407.0       0.0  243362.0"
            ]
          },
          "metadata": {},
          "output_type": "display_data"
        }
      ],
      "source": [
        "# Plot harga median untuk tiap tipe hallway dengan stasiun subway terdekat\n",
        "\n",
        "apt_hallway = df.pivot_table(index=\"SubwayStation\", columns=\"HallwayType\", values=\"SalePrice\", aggfunc=\"median\").replace(np.nan, 0)\n",
        "display(apt_hallway)"
      ]
    },
    {
      "cell_type": "code",
      "execution_count": 13,
      "metadata": {},
      "outputs": [
        {
          "data": {
            "text/plain": [
              "Text(0.5, 1.0, 'Apartment Median Sale Price')"
            ]
          },
          "execution_count": 13,
          "metadata": {},
          "output_type": "execute_result"
        },
        {
          "data": {
            "image/png": "[encoded data removed]",
            "text/plain": [
              "<Figure size 1080x576 with 1 Axes>"
            ]
          },
          "metadata": {
            "needs_background": "light"
          },
          "output_type": "display_data"
        }
      ],
      "source": [
        "apt_hallway_pivot = apt_hallway.plot.bar(stacked=True, figsize=(15,8))\n",
        "apt_hallway_pivot.set_xlabel(\"Subway Station\")\n",
        "apt_hallway_pivot.set_ylabel(\"Median Price\")\n",
        "apt_hallway_pivot.set_title(\"Apartment Median Sale Price\")"
      ]
    },
    {
      "cell_type": "markdown",
      "metadata": {
        "id": "gmH1vLGrk-BB"
      },
      "source": [
        "Apartment yang dekat dengan stasiun `Bangonge` dan `Chil-sung-market` hanya memiliki *mixed hallway*. `Myung-duk` menjadi satu-satunya stasiun yang dekat dengan apartment yang memiliki semua tipe *hallway*. Keempat stasiun lainnya dekat dengan apartment dengan tipe *hallway corridor* atau *terraced*."
      ]
    },
    {
      "cell_type": "markdown",
      "metadata": {
        "id": "9ZnA_-OCk-A_"
      },
      "source": [
        "***Time to Subway Distribution***"
      ]
    },
    {
      "cell_type": "code",
      "execution_count": 14,
      "metadata": {
        "id": "LKt1fDPsk-BB",
        "outputId": "0aaa0346-732e-4982-dc43-53147bcca33d"
      },
      "outputs": [
        {
          "data": {
            "text/html": [
              "<div>\n",
              "<style scoped>\n",
              "    .dataframe tbody tr th:only-of-type {\n",
              "        vertical-align: middle;\n",
              "    }\n",
              "\n",
              "    .dataframe tbody tr th {\n",
              "        vertical-align: top;\n",
              "    }\n",
              "\n",
              "    .dataframe thead th {\n",
              "        text-align: right;\n",
              "    }\n",
              "</style>\n",
              "<table border=\"1\" class=\"dataframe\">\n",
              "  <thead>\n",
              "    <tr style=\"text-align: right;\">\n",
              "      <th>TimeToSubway</th>\n",
              "      <th>0-5min</th>\n",
              "      <th>10min~15min</th>\n",
              "      <th>15min~20min</th>\n",
              "      <th>5min~10min</th>\n",
              "      <th>no_bus_stop_nearby</th>\n",
              "    </tr>\n",
              "  </thead>\n",
              "  <tbody>\n",
              "    <tr>\n",
              "      <th>TimeToSubway</th>\n",
              "      <td>1953</td>\n",
              "      <td>583</td>\n",
              "      <td>629</td>\n",
              "      <td>787</td>\n",
              "      <td>171</td>\n",
              "    </tr>\n",
              "  </tbody>\n",
              "</table>\n",
              "</div>"
            ],
            "text/plain": [
              "TimeToSubway  0-5min  10min~15min  15min~20min  5min~10min  no_bus_stop_nearby\n",
              "TimeToSubway    1953          583          629         787                 171"
            ]
          },
          "metadata": {},
          "output_type": "display_data"
        }
      ],
      "source": [
        "# Jumlah apartment untuk tiap jarak tempuh ke stasiun subway terdekat\n",
        "\n",
        "timetosub = df.groupby(\"TimeToSubway\").agg({\"TimeToSubway\":\"count\"})\n",
        "display(timetosub.T)"
      ]
    },
    {
      "cell_type": "code",
      "execution_count": 15,
      "metadata": {},
      "outputs": [
        {
          "data": {
            "image/png": "[encoded data removed]",
            "text/plain": [
              "<Figure size 720x576 with 1 Axes>"
            ]
          },
          "metadata": {
            "needs_background": "light"
          },
          "output_type": "display_data"
        }
      ],
      "source": [
        "plt.figure(figsize=(10,8))\n",
        "sns.histplot(df[\"TimeToSubway\"])\n",
        "plt.title(\"Jumlah Apartment Terjual Berdasarkan Waktu Tempuh ke Subway\", size=20)\n",
        "plt.show()"
      ]
    },
    {
      "cell_type": "markdown",
      "metadata": {},
      "source": [
        "Pada grafik di atas dapat dilihat apartment yang memiliki jarak tempuh ke stasiun subway paling sedikit menjadi jumlah apartment terbanyak yang dibeli."
      ]
    },
    {
      "cell_type": "markdown",
      "metadata": {},
      "source": [
        "**Total penjualan unit vs ETC Facility yang ada di sekitar apartment**"
      ]
    },
    {
      "cell_type": "code",
      "execution_count": 16,
      "metadata": {},
      "outputs": [
        {
          "data": {
            "text/html": [
              "<div>\n",
              "<style scoped>\n",
              "    .dataframe tbody tr th:only-of-type {\n",
              "        vertical-align: middle;\n",
              "    }\n",
              "\n",
              "    .dataframe tbody tr th {\n",
              "        vertical-align: top;\n",
              "    }\n",
              "\n",
              "    .dataframe thead th {\n",
              "        text-align: right;\n",
              "    }\n",
              "</style>\n",
              "<table border=\"1\" class=\"dataframe\">\n",
              "  <thead>\n",
              "    <tr style=\"text-align: right;\">\n",
              "      <th>N_FacilitiesNearBy(ETC)</th>\n",
              "      <th>0.0</th>\n",
              "      <th>1.0</th>\n",
              "      <th>2.0</th>\n",
              "      <th>5.0</th>\n",
              "    </tr>\n",
              "  </thead>\n",
              "  <tbody>\n",
              "    <tr>\n",
              "      <th>N_FacilitiesNearBy(ETC)</th>\n",
              "      <td>1828</td>\n",
              "      <td>631</td>\n",
              "      <td>330</td>\n",
              "      <td>1334</td>\n",
              "    </tr>\n",
              "  </tbody>\n",
              "</table>\n",
              "</div>"
            ],
            "text/plain": [
              "N_FacilitiesNearBy(ETC)   0.0  1.0  2.0   5.0\n",
              "N_FacilitiesNearBy(ETC)  1828  631  330  1334"
            ]
          },
          "metadata": {},
          "output_type": "display_data"
        }
      ],
      "source": [
        "etc_nearby = df.groupby(\"N_FacilitiesNearBy(ETC)\").agg({\"N_FacilitiesNearBy(ETC)\":\"count\"})\n",
        "display(etc_nearby.T)"
      ]
    },
    {
      "cell_type": "code",
      "execution_count": 17,
      "metadata": {},
      "outputs": [
        {
          "data": {
            "text/plain": [
              "Text(0.5, 1.0, 'Total Apartment vs ETC Facility')"
            ]
          },
          "execution_count": 17,
          "metadata": {},
          "output_type": "execute_result"
        },
        {
          "data": {
            "image/png": "[encoded data removed]",
            "text/plain": [
              "<Figure size 1008x720 with 1 Axes>"
            ]
          },
          "metadata": {
            "needs_background": "light"
          },
          "output_type": "display_data"
        }
      ],
      "source": [
        "plot = etc_nearby.plot.bar(stacked=True, figsize=(14, 10))\n",
        "plot.set_xlabel(\"Jumlah ETC Facility\", size=12)\n",
        "plot.set_ylabel(\"Total Apartment\", size=12)\n",
        "plot.set_yticks(np.arange(0, 2000, 100))\n",
        "plot.set_title(\"Total Apartment vs ETC Facility\", size=20)"
      ]
    },
    {
      "cell_type": "markdown",
      "metadata": {},
      "source": [
        "Tidak ada keterangan apa yang dimaksud dengan ETC pada data. Namun, bila dilihat dari singkatannya, secara umum ETC adalah *Electronic Toll Collection* yaitu sistem berbayar secara elektronik yang digunakan pada *express way* *(toll road)* biasanya dilakukan dengan memotong langsung saldo pada *tag* yang ditempelkan di *windshield* atau dapat juga dengan tagihan yang dikirim ke alamat yang terdaftar pada *license plate*.\n",
        "\n",
        "Bila dilihat dari grafik di atas, dapat dilihat keberadaan fasilitas ETC tidak berpengaruh terhadap penjualan apartment. Namun, jumlah apartment yang dekat dengan ETC lebih banyak terjual dibandingkan dengan yang tidak ada ETC sama sekali."
      ]
    },
    {
      "cell_type": "markdown",
      "metadata": {},
      "source": [
        "**Total penjualan unit untuk setiap *YearBuilt***"
      ]
    },
    {
      "cell_type": "code",
      "execution_count": 18,
      "metadata": {},
      "outputs": [
        {
          "data": {
            "text/html": [
              "<div>\n",
              "<style scoped>\n",
              "    .dataframe tbody tr th:only-of-type {\n",
              "        vertical-align: middle;\n",
              "    }\n",
              "\n",
              "    .dataframe tbody tr th {\n",
              "        vertical-align: top;\n",
              "    }\n",
              "\n",
              "    .dataframe thead th {\n",
              "        text-align: right;\n",
              "    }\n",
              "</style>\n",
              "<table border=\"1\" class=\"dataframe\">\n",
              "  <thead>\n",
              "    <tr style=\"text-align: right;\">\n",
              "      <th>YearBuilt</th>\n",
              "      <th>1978</th>\n",
              "      <th>1980</th>\n",
              "      <th>1985</th>\n",
              "      <th>1986</th>\n",
              "      <th>1992</th>\n",
              "      <th>1993</th>\n",
              "      <th>1997</th>\n",
              "      <th>2003</th>\n",
              "      <th>2005</th>\n",
              "      <th>2006</th>\n",
              "      <th>2007</th>\n",
              "      <th>2008</th>\n",
              "      <th>2009</th>\n",
              "      <th>2013</th>\n",
              "      <th>2014</th>\n",
              "      <th>2015</th>\n",
              "    </tr>\n",
              "  </thead>\n",
              "  <tbody>\n",
              "    <tr>\n",
              "      <th>YearBuilt</th>\n",
              "      <td>49</td>\n",
              "      <td>4</td>\n",
              "      <td>51</td>\n",
              "      <td>273</td>\n",
              "      <td>326</td>\n",
              "      <td>451</td>\n",
              "      <td>67</td>\n",
              "      <td>7</td>\n",
              "      <td>502</td>\n",
              "      <td>460</td>\n",
              "      <td>853</td>\n",
              "      <td>203</td>\n",
              "      <td>171</td>\n",
              "      <td>322</td>\n",
              "      <td>292</td>\n",
              "      <td>92</td>\n",
              "    </tr>\n",
              "  </tbody>\n",
              "</table>\n",
              "</div>"
            ],
            "text/plain": [
              "YearBuilt  1978  1980  1985  1986  1992  1993  1997  2003  2005  2006  2007  \\\n",
              "YearBuilt    49     4    51   273   326   451    67     7   502   460   853   \n",
              "\n",
              "YearBuilt  2008  2009  2013  2014  2015  \n",
              "YearBuilt   203   171   322   292    92  "
            ]
          },
          "metadata": {},
          "output_type": "display_data"
        }
      ],
      "source": [
        "df_yearbuilt = df.groupby(\"YearBuilt\").agg({\"YearBuilt\":\"count\"})\n",
        "display(df_yearbuilt.T)"
      ]
    },
    {
      "cell_type": "code",
      "execution_count": 19,
      "metadata": {},
      "outputs": [
        {
          "data": {
            "text/plain": [
              "Text(0.5, 1.0, 'Total Apartment by Year Built')"
            ]
          },
          "execution_count": 19,
          "metadata": {},
          "output_type": "execute_result"
        },
        {
          "data": {
            "image/png": "[encoded data removed]",
            "text/plain": [
              "<Figure size 1008x720 with 1 Axes>"
            ]
          },
          "metadata": {
            "needs_background": "light"
          },
          "output_type": "display_data"
        }
      ],
      "source": [
        "plot = df_yearbuilt.plot.bar(stacked=True, figsize=(14, 10))\n",
        "plot.set_xlabel(\"Year Built\", size=12)\n",
        "plot.set_ylabel(\"Total Apartment\", size=12)\n",
        "plot.set_yticks(np.arange(0, 900, 50))\n",
        "plot.set_title(\"Total Apartment by Year Built\", size=20)"
      ]
    },
    {
      "cell_type": "markdown",
      "metadata": {},
      "source": [
        "Dilihat dari tahun pembangunan, apartment yang paling banyak dijual adalah apartemen yang dibangun pada tahun 2007, yaitu sebanyak 853 unit. Apartment yang dibangun pada tahun 1980 dan 2003 menjadi apartment yang paling sedikit dijual dengan total 4 dan 7 unit, *respectively*."
      ]
    },
    {
      "cell_type": "markdown",
      "metadata": {},
      "source": [
        "Kopi data agar data asli tidak terganggu."
      ]
    },
    {
      "cell_type": "code",
      "execution_count": 20,
      "metadata": {},
      "outputs": [
        {
          "data": {
            "text/html": [
              "<div>\n",
              "<style scoped>\n",
              "    .dataframe tbody tr th:only-of-type {\n",
              "        vertical-align: middle;\n",
              "    }\n",
              "\n",
              "    .dataframe tbody tr th {\n",
              "        vertical-align: top;\n",
              "    }\n",
              "\n",
              "    .dataframe thead th {\n",
              "        text-align: right;\n",
              "    }\n",
              "</style>\n",
              "<table border=\"1\" class=\"dataframe\">\n",
              "  <thead>\n",
              "    <tr style=\"text-align: right;\">\n",
              "      <th></th>\n",
              "      <th>HallwayType</th>\n",
              "      <th>TimeToSubway</th>\n",
              "      <th>SubwayStation</th>\n",
              "      <th>N_FacilitiesNearBy(ETC)</th>\n",
              "      <th>N_FacilitiesNearBy(PublicOffice)</th>\n",
              "      <th>N_SchoolNearBy(University)</th>\n",
              "      <th>N_Parkinglot(Basement)</th>\n",
              "      <th>YearBuilt</th>\n",
              "      <th>N_FacilitiesInApt</th>\n",
              "      <th>Size(sqf)</th>\n",
              "      <th>SalePrice</th>\n",
              "    </tr>\n",
              "  </thead>\n",
              "  <tbody>\n",
              "    <tr>\n",
              "      <th>0</th>\n",
              "      <td>terraced</td>\n",
              "      <td>0-5min</td>\n",
              "      <td>Kyungbuk_uni_hospital</td>\n",
              "      <td>0.0</td>\n",
              "      <td>3.0</td>\n",
              "      <td>2.0</td>\n",
              "      <td>1270.0</td>\n",
              "      <td>2007</td>\n",
              "      <td>10</td>\n",
              "      <td>1387</td>\n",
              "      <td>346017</td>\n",
              "    </tr>\n",
              "    <tr>\n",
              "      <th>1</th>\n",
              "      <td>terraced</td>\n",
              "      <td>10min~15min</td>\n",
              "      <td>Kyungbuk_uni_hospital</td>\n",
              "      <td>1.0</td>\n",
              "      <td>5.0</td>\n",
              "      <td>1.0</td>\n",
              "      <td>0.0</td>\n",
              "      <td>1986</td>\n",
              "      <td>4</td>\n",
              "      <td>914</td>\n",
              "      <td>150442</td>\n",
              "    </tr>\n",
              "    <tr>\n",
              "      <th>2</th>\n",
              "      <td>mixed</td>\n",
              "      <td>15min~20min</td>\n",
              "      <td>Chil-sung-market</td>\n",
              "      <td>1.0</td>\n",
              "      <td>7.0</td>\n",
              "      <td>3.0</td>\n",
              "      <td>56.0</td>\n",
              "      <td>1997</td>\n",
              "      <td>5</td>\n",
              "      <td>558</td>\n",
              "      <td>61946</td>\n",
              "    </tr>\n",
              "    <tr>\n",
              "      <th>3</th>\n",
              "      <td>mixed</td>\n",
              "      <td>5min~10min</td>\n",
              "      <td>Bangoge</td>\n",
              "      <td>5.0</td>\n",
              "      <td>5.0</td>\n",
              "      <td>4.0</td>\n",
              "      <td>798.0</td>\n",
              "      <td>2005</td>\n",
              "      <td>7</td>\n",
              "      <td>914</td>\n",
              "      <td>165486</td>\n",
              "    </tr>\n",
              "    <tr>\n",
              "      <th>4</th>\n",
              "      <td>terraced</td>\n",
              "      <td>0-5min</td>\n",
              "      <td>Sin-nam</td>\n",
              "      <td>0.0</td>\n",
              "      <td>1.0</td>\n",
              "      <td>2.0</td>\n",
              "      <td>536.0</td>\n",
              "      <td>2006</td>\n",
              "      <td>5</td>\n",
              "      <td>1743</td>\n",
              "      <td>311504</td>\n",
              "    </tr>\n",
              "  </tbody>\n",
              "</table>\n",
              "</div>"
            ],
            "text/plain": [
              "  HallwayType TimeToSubway          SubwayStation  N_FacilitiesNearBy(ETC)  \\\n",
              "0    terraced       0-5min  Kyungbuk_uni_hospital                      0.0   \n",
              "1    terraced  10min~15min  Kyungbuk_uni_hospital                      1.0   \n",
              "2       mixed  15min~20min       Chil-sung-market                      1.0   \n",
              "3       mixed   5min~10min                Bangoge                      5.0   \n",
              "4    terraced       0-5min                Sin-nam                      0.0   \n",
              "\n",
              "   N_FacilitiesNearBy(PublicOffice)  N_SchoolNearBy(University)  \\\n",
              "0                               3.0                         2.0   \n",
              "1                               5.0                         1.0   \n",
              "2                               7.0                         3.0   \n",
              "3                               5.0                         4.0   \n",
              "4                               1.0                         2.0   \n",
              "\n",
              "   N_Parkinglot(Basement)  YearBuilt  N_FacilitiesInApt  Size(sqf)  SalePrice  \n",
              "0                  1270.0       2007                 10       1387     346017  \n",
              "1                     0.0       1986                  4        914     150442  \n",
              "2                    56.0       1997                  5        558      61946  \n",
              "3                   798.0       2005                  7        914     165486  \n",
              "4                   536.0       2006                  5       1743     311504  "
            ]
          },
          "execution_count": 20,
          "metadata": {},
          "output_type": "execute_result"
        }
      ],
      "source": [
        "daegu_copy = df.copy()\n",
        "daegu_copy.head()"
      ]
    },
    {
      "cell_type": "markdown",
      "metadata": {},
      "source": [
        "#### Cek Detail Info"
      ]
    },
    {
      "cell_type": "code",
      "execution_count": 21,
      "metadata": {},
      "outputs": [
        {
          "data": {
            "text/html": [
              "<div>\n",
              "<style scoped>\n",
              "    .dataframe tbody tr th:only-of-type {\n",
              "        vertical-align: middle;\n",
              "    }\n",
              "\n",
              "    .dataframe tbody tr th {\n",
              "        vertical-align: top;\n",
              "    }\n",
              "\n",
              "    .dataframe thead th {\n",
              "        text-align: right;\n",
              "    }\n",
              "</style>\n",
              "<table border=\"1\" class=\"dataframe\">\n",
              "  <thead>\n",
              "    <tr style=\"text-align: right;\">\n",
              "      <th></th>\n",
              "      <th>Column Name</th>\n",
              "      <th>Data Type</th>\n",
              "      <th>Data Count</th>\n",
              "      <th>Missing Value</th>\n",
              "      <th>Missing Value Percentage</th>\n",
              "      <th>Member of Unique</th>\n",
              "      <th>Unique Sample</th>\n",
              "    </tr>\n",
              "  </thead>\n",
              "  <tbody>\n",
              "    <tr>\n",
              "      <th>0</th>\n",
              "      <td>HallwayType</td>\n",
              "      <td>object</td>\n",
              "      <td>4123</td>\n",
              "      <td>0</td>\n",
              "      <td>0.0</td>\n",
              "      <td>3</td>\n",
              "      <td>[mixed, terraced, corridor]</td>\n",
              "    </tr>\n",
              "    <tr>\n",
              "      <th>1</th>\n",
              "      <td>TimeToSubway</td>\n",
              "      <td>object</td>\n",
              "      <td>4123</td>\n",
              "      <td>0</td>\n",
              "      <td>0.0</td>\n",
              "      <td>5</td>\n",
              "      <td>[no_bus_stop_nearby, 15min~20min, 0-5min]</td>\n",
              "    </tr>\n",
              "    <tr>\n",
              "      <th>2</th>\n",
              "      <td>SubwayStation</td>\n",
              "      <td>object</td>\n",
              "      <td>4123</td>\n",
              "      <td>0</td>\n",
              "      <td>0.0</td>\n",
              "      <td>8</td>\n",
              "      <td>[Banwoldang, Chil-sung-market, Sin-nam]</td>\n",
              "    </tr>\n",
              "    <tr>\n",
              "      <th>3</th>\n",
              "      <td>N_FacilitiesNearBy(ETC)</td>\n",
              "      <td>float64</td>\n",
              "      <td>4123</td>\n",
              "      <td>0</td>\n",
              "      <td>0.0</td>\n",
              "      <td>4</td>\n",
              "      <td>[1.0, 5.0, 0.0]</td>\n",
              "    </tr>\n",
              "    <tr>\n",
              "      <th>4</th>\n",
              "      <td>N_FacilitiesNearBy(PublicOffice)</td>\n",
              "      <td>float64</td>\n",
              "      <td>4123</td>\n",
              "      <td>0</td>\n",
              "      <td>0.0</td>\n",
              "      <td>8</td>\n",
              "      <td>[4.0, 6.0, 7.0]</td>\n",
              "    </tr>\n",
              "    <tr>\n",
              "      <th>5</th>\n",
              "      <td>N_SchoolNearBy(University)</td>\n",
              "      <td>float64</td>\n",
              "      <td>4123</td>\n",
              "      <td>0</td>\n",
              "      <td>0.0</td>\n",
              "      <td>6</td>\n",
              "      <td>[5.0, 1.0, 3.0]</td>\n",
              "    </tr>\n",
              "    <tr>\n",
              "      <th>6</th>\n",
              "      <td>N_Parkinglot(Basement)</td>\n",
              "      <td>float64</td>\n",
              "      <td>4123</td>\n",
              "      <td>0</td>\n",
              "      <td>0.0</td>\n",
              "      <td>20</td>\n",
              "      <td>[605.0, 475.0, 79.0]</td>\n",
              "    </tr>\n",
              "    <tr>\n",
              "      <th>7</th>\n",
              "      <td>YearBuilt</td>\n",
              "      <td>int64</td>\n",
              "      <td>4123</td>\n",
              "      <td>0</td>\n",
              "      <td>0.0</td>\n",
              "      <td>16</td>\n",
              "      <td>[1985, 2005, 2007]</td>\n",
              "    </tr>\n",
              "    <tr>\n",
              "      <th>8</th>\n",
              "      <td>N_FacilitiesInApt</td>\n",
              "      <td>int64</td>\n",
              "      <td>4123</td>\n",
              "      <td>0</td>\n",
              "      <td>0.0</td>\n",
              "      <td>9</td>\n",
              "      <td>[4, 7, 9]</td>\n",
              "    </tr>\n",
              "    <tr>\n",
              "      <th>9</th>\n",
              "      <td>Size(sqf)</td>\n",
              "      <td>int64</td>\n",
              "      <td>4123</td>\n",
              "      <td>0</td>\n",
              "      <td>0.0</td>\n",
              "      <td>89</td>\n",
              "      <td>[1035, 288, 1103]</td>\n",
              "    </tr>\n",
              "    <tr>\n",
              "      <th>10</th>\n",
              "      <td>SalePrice</td>\n",
              "      <td>int64</td>\n",
              "      <td>4123</td>\n",
              "      <td>0</td>\n",
              "      <td>0.0</td>\n",
              "      <td>838</td>\n",
              "      <td>[285398, 135840, 197345]</td>\n",
              "    </tr>\n",
              "  </tbody>\n",
              "</table>\n",
              "</div>"
            ],
            "text/plain": [
              "                         Column Name Data Type  Data Count  Missing Value  \\\n",
              "0                        HallwayType    object        4123              0   \n",
              "1                       TimeToSubway    object        4123              0   \n",
              "2                      SubwayStation    object        4123              0   \n",
              "3            N_FacilitiesNearBy(ETC)   float64        4123              0   \n",
              "4   N_FacilitiesNearBy(PublicOffice)   float64        4123              0   \n",
              "5         N_SchoolNearBy(University)   float64        4123              0   \n",
              "6             N_Parkinglot(Basement)   float64        4123              0   \n",
              "7                          YearBuilt     int64        4123              0   \n",
              "8                  N_FacilitiesInApt     int64        4123              0   \n",
              "9                          Size(sqf)     int64        4123              0   \n",
              "10                         SalePrice     int64        4123              0   \n",
              "\n",
              "    Missing Value Percentage  Member of Unique  \\\n",
              "0                        0.0                 3   \n",
              "1                        0.0                 5   \n",
              "2                        0.0                 8   \n",
              "3                        0.0                 4   \n",
              "4                        0.0                 8   \n",
              "5                        0.0                 6   \n",
              "6                        0.0                20   \n",
              "7                        0.0                16   \n",
              "8                        0.0                 9   \n",
              "9                        0.0                89   \n",
              "10                       0.0               838   \n",
              "\n",
              "                                Unique Sample  \n",
              "0                 [mixed, terraced, corridor]  \n",
              "1   [no_bus_stop_nearby, 15min~20min, 0-5min]  \n",
              "2     [Banwoldang, Chil-sung-market, Sin-nam]  \n",
              "3                             [1.0, 5.0, 0.0]  \n",
              "4                             [4.0, 6.0, 7.0]  \n",
              "5                             [5.0, 1.0, 3.0]  \n",
              "6                        [605.0, 475.0, 79.0]  \n",
              "7                          [1985, 2005, 2007]  \n",
              "8                                   [4, 7, 9]  \n",
              "9                           [1035, 288, 1103]  \n",
              "10                   [285398, 135840, 197345]  "
            ]
          },
          "execution_count": 21,
          "metadata": {},
          "output_type": "execute_result"
        }
      ],
      "source": [
        "listItem = []\n",
        "\n",
        "for col in daegu_copy.columns:\n",
        "    listItem.append([col,\n",
        "                     daegu_copy[col].dtype,\n",
        "                     len(daegu_copy),\n",
        "                     daegu_copy[col].isna().sum(),\n",
        "                     round((daegu_copy[col].isna().sum()/len(daegu_copy[col])) * 100, 2),\n",
        "                     daegu_copy[col].nunique(),\n",
        "                     list(daegu_copy[col].drop_duplicates().sample(3).values)])\n",
        "\n",
        "daeguDesc = pd.DataFrame(columns=[\"Column Name\",\n",
        "                               \"Data Type\",\n",
        "                               \"Data Count\",\n",
        "                               \"Missing Value\",\n",
        "                               \"Missing Value Percentage\",\n",
        "                               \"Member of Unique\",\n",
        "                               \"Unique Sample\"],\n",
        "                         data=listItem)\n",
        "daeguDesc"
      ]
    },
    {
      "cell_type": "markdown",
      "metadata": {},
      "source": [
        "Dapat dilihat seluruh ini kolom \"Null\" pada tabel di atas bernilai 0. Ini berarti tidak ada missing value dan data sudah bersih. Sekarang lihat apakah terdapat data yang terduplikasi."
      ]
    },
    {
      "cell_type": "markdown",
      "metadata": {},
      "source": [
        "#### Cek Data Duplikat"
      ]
    },
    {
      "cell_type": "code",
      "execution_count": 22,
      "metadata": {},
      "outputs": [
        {
          "data": {
            "text/plain": [
              "1422"
            ]
          },
          "execution_count": 22,
          "metadata": {},
          "output_type": "execute_result"
        }
      ],
      "source": [
        "daegu_copy.duplicated().sum()"
      ]
    },
    {
      "cell_type": "markdown",
      "metadata": {},
      "source": [
        "Terdapat 1422 baris yang memiliki duplikat. Pada dataset tidak ada *primary key* sehingga sulit untuk mengetahui apakah memang 1422 baris tersebut adalah data yang terduplikat atau tidak. Namun, ini adalah data penjualan apartment, di mana fitur yang ditawarkan mungkin sama untuk kondisi tertentu seperti unit berbeda dalam gedung yang sama atau *developer* yang membangun apartment sama sehingga fitur-fitur yang ditawarkan juga sejenis. Oleh karena itu, duplikasi tidak dihapus."
      ]
    },
    {
      "cell_type": "markdown",
      "metadata": {},
      "source": [
        "Selanjutnya cek apakah ada nilai yang tidak masuk akal pada setiap fitur. Cek dengan statistika deskriptif untuk numerikal fitur."
      ]
    },
    {
      "cell_type": "code",
      "execution_count": 23,
      "metadata": {},
      "outputs": [
        {
          "data": {
            "text/html": [
              "<div>\n",
              "<style scoped>\n",
              "    .dataframe tbody tr th:only-of-type {\n",
              "        vertical-align: middle;\n",
              "    }\n",
              "\n",
              "    .dataframe tbody tr th {\n",
              "        vertical-align: top;\n",
              "    }\n",
              "\n",
              "    .dataframe thead th {\n",
              "        text-align: right;\n",
              "    }\n",
              "</style>\n",
              "<table border=\"1\" class=\"dataframe\">\n",
              "  <thead>\n",
              "    <tr style=\"text-align: right;\">\n",
              "      <th></th>\n",
              "      <th>N_FacilitiesNearBy(ETC)</th>\n",
              "      <th>N_FacilitiesNearBy(PublicOffice)</th>\n",
              "      <th>N_SchoolNearBy(University)</th>\n",
              "      <th>N_Parkinglot(Basement)</th>\n",
              "      <th>YearBuilt</th>\n",
              "      <th>N_FacilitiesInApt</th>\n",
              "      <th>Size(sqf)</th>\n",
              "      <th>SalePrice</th>\n",
              "    </tr>\n",
              "  </thead>\n",
              "  <tbody>\n",
              "    <tr>\n",
              "      <th>count</th>\n",
              "      <td>4123.000000</td>\n",
              "      <td>4123.000000</td>\n",
              "      <td>4123.000000</td>\n",
              "      <td>4123.000000</td>\n",
              "      <td>4123.000000</td>\n",
              "      <td>4123.000000</td>\n",
              "      <td>4123.000000</td>\n",
              "      <td>4123.000000</td>\n",
              "    </tr>\n",
              "    <tr>\n",
              "      <th>mean</th>\n",
              "      <td>1.930876</td>\n",
              "      <td>4.135338</td>\n",
              "      <td>2.746301</td>\n",
              "      <td>568.979141</td>\n",
              "      <td>2002.999757</td>\n",
              "      <td>5.817851</td>\n",
              "      <td>954.630851</td>\n",
              "      <td>221767.926995</td>\n",
              "    </tr>\n",
              "    <tr>\n",
              "      <th>std</th>\n",
              "      <td>2.198832</td>\n",
              "      <td>1.802640</td>\n",
              "      <td>1.496610</td>\n",
              "      <td>410.372742</td>\n",
              "      <td>8.905768</td>\n",
              "      <td>2.340507</td>\n",
              "      <td>383.805648</td>\n",
              "      <td>106739.839945</td>\n",
              "    </tr>\n",
              "    <tr>\n",
              "      <th>min</th>\n",
              "      <td>0.000000</td>\n",
              "      <td>0.000000</td>\n",
              "      <td>0.000000</td>\n",
              "      <td>0.000000</td>\n",
              "      <td>1978.000000</td>\n",
              "      <td>1.000000</td>\n",
              "      <td>135.000000</td>\n",
              "      <td>32743.000000</td>\n",
              "    </tr>\n",
              "    <tr>\n",
              "      <th>25%</th>\n",
              "      <td>0.000000</td>\n",
              "      <td>3.000000</td>\n",
              "      <td>2.000000</td>\n",
              "      <td>184.000000</td>\n",
              "      <td>1993.000000</td>\n",
              "      <td>4.000000</td>\n",
              "      <td>644.000000</td>\n",
              "      <td>144752.000000</td>\n",
              "    </tr>\n",
              "    <tr>\n",
              "      <th>50%</th>\n",
              "      <td>1.000000</td>\n",
              "      <td>5.000000</td>\n",
              "      <td>2.000000</td>\n",
              "      <td>536.000000</td>\n",
              "      <td>2006.000000</td>\n",
              "      <td>5.000000</td>\n",
              "      <td>910.000000</td>\n",
              "      <td>209734.000000</td>\n",
              "    </tr>\n",
              "    <tr>\n",
              "      <th>75%</th>\n",
              "      <td>5.000000</td>\n",
              "      <td>5.000000</td>\n",
              "      <td>4.000000</td>\n",
              "      <td>798.000000</td>\n",
              "      <td>2008.000000</td>\n",
              "      <td>7.000000</td>\n",
              "      <td>1149.000000</td>\n",
              "      <td>291150.000000</td>\n",
              "    </tr>\n",
              "    <tr>\n",
              "      <th>max</th>\n",
              "      <td>5.000000</td>\n",
              "      <td>7.000000</td>\n",
              "      <td>5.000000</td>\n",
              "      <td>1321.000000</td>\n",
              "      <td>2015.000000</td>\n",
              "      <td>10.000000</td>\n",
              "      <td>2337.000000</td>\n",
              "      <td>585840.000000</td>\n",
              "    </tr>\n",
              "  </tbody>\n",
              "</table>\n",
              "</div>"
            ],
            "text/plain": [
              "       N_FacilitiesNearBy(ETC)  N_FacilitiesNearBy(PublicOffice)  \\\n",
              "count              4123.000000                       4123.000000   \n",
              "mean                  1.930876                          4.135338   \n",
              "std                   2.198832                          1.802640   \n",
              "min                   0.000000                          0.000000   \n",
              "25%                   0.000000                          3.000000   \n",
              "50%                   1.000000                          5.000000   \n",
              "75%                   5.000000                          5.000000   \n",
              "max                   5.000000                          7.000000   \n",
              "\n",
              "       N_SchoolNearBy(University)  N_Parkinglot(Basement)    YearBuilt  \\\n",
              "count                 4123.000000             4123.000000  4123.000000   \n",
              "mean                     2.746301              568.979141  2002.999757   \n",
              "std                      1.496610              410.372742     8.905768   \n",
              "min                      0.000000                0.000000  1978.000000   \n",
              "25%                      2.000000              184.000000  1993.000000   \n",
              "50%                      2.000000              536.000000  2006.000000   \n",
              "75%                      4.000000              798.000000  2008.000000   \n",
              "max                      5.000000             1321.000000  2015.000000   \n",
              "\n",
              "       N_FacilitiesInApt    Size(sqf)      SalePrice  \n",
              "count        4123.000000  4123.000000    4123.000000  \n",
              "mean            5.817851   954.630851  221767.926995  \n",
              "std             2.340507   383.805648  106739.839945  \n",
              "min             1.000000   135.000000   32743.000000  \n",
              "25%             4.000000   644.000000  144752.000000  \n",
              "50%             5.000000   910.000000  209734.000000  \n",
              "75%             7.000000  1149.000000  291150.000000  \n",
              "max            10.000000  2337.000000  585840.000000  "
            ]
          },
          "execution_count": 23,
          "metadata": {},
          "output_type": "execute_result"
        }
      ],
      "source": [
        "daegu_copy.describe()"
      ]
    },
    {
      "cell_type": "markdown",
      "metadata": {},
      "source": [
        "Dari tabel di atas, dapat dilihat tidak ada nilai yang negatif atau tidak masuk akal sehingga bisa dilanjutkan proses berikutnya yaitu mengecek korelasi data."
      ]
    },
    {
      "cell_type": "markdown",
      "metadata": {},
      "source": [
        "#### Data Correlation"
      ]
    },
    {
      "cell_type": "code",
      "execution_count": 24,
      "metadata": {},
      "outputs": [
        {
          "data": {
            "text/plain": [
              "Text(0.5, 1.0, 'Correlation Matrix')"
            ]
          },
          "execution_count": 24,
          "metadata": {},
          "output_type": "execute_result"
        },
        {
          "data": {
            "image/png": "[encoded data removed]",
            "text/plain": [
              "<Figure size 1080x864 with 2 Axes>"
            ]
          },
          "metadata": {
            "needs_background": "light"
          },
          "output_type": "display_data"
        }
      ],
      "source": [
        "# Matrix correlation\n",
        "\n",
        "plt.figure(figsize=(15, 12))\n",
        "palette=sns.diverging_palette(20, 150, n=256)\n",
        "corr = daegu_copy.corr(method=\"pearson\")\n",
        "sns.heatmap(corr, annot=True, fmt=\".2f\", cmap=palette, square=True, linewidths=.7)\n",
        "plt.title(\"Correlation Matrix\", size=15, weight=\"bold\")"
      ]
    },
    {
      "cell_type": "markdown",
      "metadata": {},
      "source": [
        "Dari matriks korelasi dapat dilihat bahwa luas apartment memiliki korelasi terkuat terhadap nilai jual apartment, yaitu sebesar 0.7. Hal ini berarti luas apartment berbanding lurus dengan harga jual. Semakin besar luas unit apartment, semakin tinggi harganya."
      ]
    },
    {
      "cell_type": "code",
      "execution_count": 25,
      "metadata": {},
      "outputs": [],
      "source": [
        "from statsmodels.stats.outliers_influence import variance_inflation_factor\n",
        "\n",
        "def calc_vif(x):\n",
        "    vif = pd.DataFrame()\n",
        "    vif[\"variables\"] = x.columns\n",
        "    vif[\"VIF\"] = [variance_inflation_factor(x.values, i) for i in range(x.shape[1])]\n",
        "    return(vif)"
      ]
    },
    {
      "cell_type": "code",
      "execution_count": 26,
      "metadata": {},
      "outputs": [
        {
          "data": {
            "text/html": [
              "<div>\n",
              "<style scoped>\n",
              "    .dataframe tbody tr th:only-of-type {\n",
              "        vertical-align: middle;\n",
              "    }\n",
              "\n",
              "    .dataframe tbody tr th {\n",
              "        vertical-align: top;\n",
              "    }\n",
              "\n",
              "    .dataframe thead th {\n",
              "        text-align: right;\n",
              "    }\n",
              "</style>\n",
              "<table border=\"1\" class=\"dataframe\">\n",
              "  <thead>\n",
              "    <tr style=\"text-align: right;\">\n",
              "      <th></th>\n",
              "      <th>variables</th>\n",
              "      <th>VIF</th>\n",
              "    </tr>\n",
              "  </thead>\n",
              "  <tbody>\n",
              "    <tr>\n",
              "      <th>0</th>\n",
              "      <td>N_FacilitiesNearBy(ETC)</td>\n",
              "      <td>5.498876</td>\n",
              "    </tr>\n",
              "    <tr>\n",
              "      <th>1</th>\n",
              "      <td>N_FacilitiesNearBy(PublicOffice)</td>\n",
              "      <td>15.447845</td>\n",
              "    </tr>\n",
              "    <tr>\n",
              "      <th>2</th>\n",
              "      <td>N_SchoolNearBy(University)</td>\n",
              "      <td>18.523481</td>\n",
              "    </tr>\n",
              "    <tr>\n",
              "      <th>3</th>\n",
              "      <td>N_Parkinglot(Basement)</td>\n",
              "      <td>12.579835</td>\n",
              "    </tr>\n",
              "    <tr>\n",
              "      <th>4</th>\n",
              "      <td>YearBuilt</td>\n",
              "      <td>34.637873</td>\n",
              "    </tr>\n",
              "    <tr>\n",
              "      <th>5</th>\n",
              "      <td>N_FacilitiesInApt</td>\n",
              "      <td>29.281981</td>\n",
              "    </tr>\n",
              "    <tr>\n",
              "      <th>6</th>\n",
              "      <td>Size(sqf)</td>\n",
              "      <td>15.967735</td>\n",
              "    </tr>\n",
              "    <tr>\n",
              "      <th>7</th>\n",
              "      <td>SalePrice</td>\n",
              "      <td>18.041839</td>\n",
              "    </tr>\n",
              "  </tbody>\n",
              "</table>\n",
              "</div>"
            ],
            "text/plain": [
              "                          variables        VIF\n",
              "0           N_FacilitiesNearBy(ETC)   5.498876\n",
              "1  N_FacilitiesNearBy(PublicOffice)  15.447845\n",
              "2        N_SchoolNearBy(University)  18.523481\n",
              "3            N_Parkinglot(Basement)  12.579835\n",
              "4                         YearBuilt  34.637873\n",
              "5                 N_FacilitiesInApt  29.281981\n",
              "6                         Size(sqf)  15.967735\n",
              "7                         SalePrice  18.041839"
            ]
          },
          "execution_count": 26,
          "metadata": {},
          "output_type": "execute_result"
        }
      ],
      "source": [
        "calc_vif(daegu_copy[[\"N_FacilitiesNearBy(ETC)\", \"N_FacilitiesNearBy(PublicOffice)\", \"N_SchoolNearBy(University)\", \"N_Parkinglot(Basement)\", \"YearBuilt\", \"N_FacilitiesInApt\", \"Size(sqf)\", \"SalePrice\"]])"
      ]
    },
    {
      "cell_type": "markdown",
      "metadata": {},
      "source": [
        "Dari tabel di atas terlihat multikolinearitas yang cukup tinggi antar *features*. Seperti fitur parkir di basement yang mungkin menjadi bagian dari fasilitas apartment. Oleh karena itu, fitur `N_Parkinglot(Basement)` akan di hapus."
      ]
    },
    {
      "cell_type": "code",
      "execution_count": 27,
      "metadata": {},
      "outputs": [],
      "source": [
        "# Drop kolom parkinglot\n",
        "daegu = daegu_copy.drop(\"N_Parkinglot(Basement)\", axis=1)"
      ]
    },
    {
      "cell_type": "code",
      "execution_count": 28,
      "metadata": {},
      "outputs": [
        {
          "data": {
            "text/html": [
              "<div>\n",
              "<style scoped>\n",
              "    .dataframe tbody tr th:only-of-type {\n",
              "        vertical-align: middle;\n",
              "    }\n",
              "\n",
              "    .dataframe tbody tr th {\n",
              "        vertical-align: top;\n",
              "    }\n",
              "\n",
              "    .dataframe thead th {\n",
              "        text-align: right;\n",
              "    }\n",
              "</style>\n",
              "<table border=\"1\" class=\"dataframe\">\n",
              "  <thead>\n",
              "    <tr style=\"text-align: right;\">\n",
              "      <th></th>\n",
              "      <th>HallwayType</th>\n",
              "      <th>TimeToSubway</th>\n",
              "      <th>SubwayStation</th>\n",
              "      <th>N_FacilitiesNearBy(ETC)</th>\n",
              "      <th>N_FacilitiesNearBy(PublicOffice)</th>\n",
              "      <th>N_SchoolNearBy(University)</th>\n",
              "      <th>YearBuilt</th>\n",
              "      <th>N_FacilitiesInApt</th>\n",
              "      <th>Size(sqf)</th>\n",
              "      <th>SalePrice</th>\n",
              "    </tr>\n",
              "  </thead>\n",
              "  <tbody>\n",
              "    <tr>\n",
              "      <th>0</th>\n",
              "      <td>terraced</td>\n",
              "      <td>0-5min</td>\n",
              "      <td>Kyungbuk_uni_hospital</td>\n",
              "      <td>0.0</td>\n",
              "      <td>3.0</td>\n",
              "      <td>2.0</td>\n",
              "      <td>2007</td>\n",
              "      <td>10</td>\n",
              "      <td>1387</td>\n",
              "      <td>346017</td>\n",
              "    </tr>\n",
              "    <tr>\n",
              "      <th>1</th>\n",
              "      <td>terraced</td>\n",
              "      <td>10min~15min</td>\n",
              "      <td>Kyungbuk_uni_hospital</td>\n",
              "      <td>1.0</td>\n",
              "      <td>5.0</td>\n",
              "      <td>1.0</td>\n",
              "      <td>1986</td>\n",
              "      <td>4</td>\n",
              "      <td>914</td>\n",
              "      <td>150442</td>\n",
              "    </tr>\n",
              "    <tr>\n",
              "      <th>2</th>\n",
              "      <td>mixed</td>\n",
              "      <td>15min~20min</td>\n",
              "      <td>Chil-sung-market</td>\n",
              "      <td>1.0</td>\n",
              "      <td>7.0</td>\n",
              "      <td>3.0</td>\n",
              "      <td>1997</td>\n",
              "      <td>5</td>\n",
              "      <td>558</td>\n",
              "      <td>61946</td>\n",
              "    </tr>\n",
              "    <tr>\n",
              "      <th>3</th>\n",
              "      <td>mixed</td>\n",
              "      <td>5min~10min</td>\n",
              "      <td>Bangoge</td>\n",
              "      <td>5.0</td>\n",
              "      <td>5.0</td>\n",
              "      <td>4.0</td>\n",
              "      <td>2005</td>\n",
              "      <td>7</td>\n",
              "      <td>914</td>\n",
              "      <td>165486</td>\n",
              "    </tr>\n",
              "    <tr>\n",
              "      <th>4</th>\n",
              "      <td>terraced</td>\n",
              "      <td>0-5min</td>\n",
              "      <td>Sin-nam</td>\n",
              "      <td>0.0</td>\n",
              "      <td>1.0</td>\n",
              "      <td>2.0</td>\n",
              "      <td>2006</td>\n",
              "      <td>5</td>\n",
              "      <td>1743</td>\n",
              "      <td>311504</td>\n",
              "    </tr>\n",
              "    <tr>\n",
              "      <th>...</th>\n",
              "      <td>...</td>\n",
              "      <td>...</td>\n",
              "      <td>...</td>\n",
              "      <td>...</td>\n",
              "      <td>...</td>\n",
              "      <td>...</td>\n",
              "      <td>...</td>\n",
              "      <td>...</td>\n",
              "      <td>...</td>\n",
              "      <td>...</td>\n",
              "    </tr>\n",
              "    <tr>\n",
              "      <th>4118</th>\n",
              "      <td>terraced</td>\n",
              "      <td>0-5min</td>\n",
              "      <td>Sin-nam</td>\n",
              "      <td>0.0</td>\n",
              "      <td>3.0</td>\n",
              "      <td>2.0</td>\n",
              "      <td>2008</td>\n",
              "      <td>8</td>\n",
              "      <td>914</td>\n",
              "      <td>323008</td>\n",
              "    </tr>\n",
              "    <tr>\n",
              "      <th>4119</th>\n",
              "      <td>mixed</td>\n",
              "      <td>15min~20min</td>\n",
              "      <td>Myung-duk</td>\n",
              "      <td>5.0</td>\n",
              "      <td>6.0</td>\n",
              "      <td>5.0</td>\n",
              "      <td>1993</td>\n",
              "      <td>4</td>\n",
              "      <td>1451</td>\n",
              "      <td>242477</td>\n",
              "    </tr>\n",
              "    <tr>\n",
              "      <th>4120</th>\n",
              "      <td>mixed</td>\n",
              "      <td>15min~20min</td>\n",
              "      <td>Myung-duk</td>\n",
              "      <td>5.0</td>\n",
              "      <td>6.0</td>\n",
              "      <td>5.0</td>\n",
              "      <td>1993</td>\n",
              "      <td>4</td>\n",
              "      <td>1761</td>\n",
              "      <td>168141</td>\n",
              "    </tr>\n",
              "    <tr>\n",
              "      <th>4121</th>\n",
              "      <td>corridor</td>\n",
              "      <td>5min~10min</td>\n",
              "      <td>Daegu</td>\n",
              "      <td>2.0</td>\n",
              "      <td>5.0</td>\n",
              "      <td>0.0</td>\n",
              "      <td>1985</td>\n",
              "      <td>3</td>\n",
              "      <td>676</td>\n",
              "      <td>73451</td>\n",
              "    </tr>\n",
              "    <tr>\n",
              "      <th>4122</th>\n",
              "      <td>terraced</td>\n",
              "      <td>0-5min</td>\n",
              "      <td>Kyungbuk_uni_hospital</td>\n",
              "      <td>0.0</td>\n",
              "      <td>3.0</td>\n",
              "      <td>2.0</td>\n",
              "      <td>2007</td>\n",
              "      <td>10</td>\n",
              "      <td>868</td>\n",
              "      <td>250442</td>\n",
              "    </tr>\n",
              "  </tbody>\n",
              "</table>\n",
              "<p>4123 rows × 10 columns</p>\n",
              "</div>"
            ],
            "text/plain": [
              "     HallwayType TimeToSubway          SubwayStation  N_FacilitiesNearBy(ETC)  \\\n",
              "0       terraced       0-5min  Kyungbuk_uni_hospital                      0.0   \n",
              "1       terraced  10min~15min  Kyungbuk_uni_hospital                      1.0   \n",
              "2          mixed  15min~20min       Chil-sung-market                      1.0   \n",
              "3          mixed   5min~10min                Bangoge                      5.0   \n",
              "4       terraced       0-5min                Sin-nam                      0.0   \n",
              "...          ...          ...                    ...                      ...   \n",
              "4118    terraced       0-5min                Sin-nam                      0.0   \n",
              "4119       mixed  15min~20min              Myung-duk                      5.0   \n",
              "4120       mixed  15min~20min              Myung-duk                      5.0   \n",
              "4121    corridor   5min~10min                  Daegu                      2.0   \n",
              "4122    terraced       0-5min  Kyungbuk_uni_hospital                      0.0   \n",
              "\n",
              "      N_FacilitiesNearBy(PublicOffice)  N_SchoolNearBy(University)  YearBuilt  \\\n",
              "0                                  3.0                         2.0       2007   \n",
              "1                                  5.0                         1.0       1986   \n",
              "2                                  7.0                         3.0       1997   \n",
              "3                                  5.0                         4.0       2005   \n",
              "4                                  1.0                         2.0       2006   \n",
              "...                                ...                         ...        ...   \n",
              "4118                               3.0                         2.0       2008   \n",
              "4119                               6.0                         5.0       1993   \n",
              "4120                               6.0                         5.0       1993   \n",
              "4121                               5.0                         0.0       1985   \n",
              "4122                               3.0                         2.0       2007   \n",
              "\n",
              "      N_FacilitiesInApt  Size(sqf)  SalePrice  \n",
              "0                    10       1387     346017  \n",
              "1                     4        914     150442  \n",
              "2                     5        558      61946  \n",
              "3                     7        914     165486  \n",
              "4                     5       1743     311504  \n",
              "...                 ...        ...        ...  \n",
              "4118                  8        914     323008  \n",
              "4119                  4       1451     242477  \n",
              "4120                  4       1761     168141  \n",
              "4121                  3        676      73451  \n",
              "4122                 10        868     250442  \n",
              "\n",
              "[4123 rows x 10 columns]"
            ]
          },
          "execution_count": 28,
          "metadata": {},
          "output_type": "execute_result"
        }
      ],
      "source": [
        "daegu"
      ]
    },
    {
      "cell_type": "code",
      "execution_count": 29,
      "metadata": {},
      "outputs": [
        {
          "data": {
            "text/plain": [
              "Text(0.5, 1.0, 'Correlation Matrix')"
            ]
          },
          "execution_count": 29,
          "metadata": {},
          "output_type": "execute_result"
        },
        {
          "data": {
            "image/png": "[encoded data removed]",
            "text/plain": [
              "<Figure size 1080x864 with 2 Axes>"
            ]
          },
          "metadata": {
            "needs_background": "light"
          },
          "output_type": "display_data"
        }
      ],
      "source": [
        "# Matrix correlation\n",
        "\n",
        "plt.figure(figsize=(15, 12))\n",
        "palette=sns.diverging_palette(20, 150, n=256)\n",
        "corr = daegu.corr(method=\"pearson\")\n",
        "sns.heatmap(corr, annot=True, fmt=\".2f\", cmap=palette, square=True, linewidths=.7)\n",
        "plt.title(\"Correlation Matrix\", size=15, weight=\"bold\")"
      ]
    },
    {
      "cell_type": "code",
      "execution_count": 30,
      "metadata": {},
      "outputs": [
        {
          "data": {
            "text/html": [
              "<div>\n",
              "<style scoped>\n",
              "    .dataframe tbody tr th:only-of-type {\n",
              "        vertical-align: middle;\n",
              "    }\n",
              "\n",
              "    .dataframe tbody tr th {\n",
              "        vertical-align: top;\n",
              "    }\n",
              "\n",
              "    .dataframe thead th {\n",
              "        text-align: right;\n",
              "    }\n",
              "</style>\n",
              "<table border=\"1\" class=\"dataframe\">\n",
              "  <thead>\n",
              "    <tr style=\"text-align: right;\">\n",
              "      <th></th>\n",
              "      <th>variables</th>\n",
              "      <th>VIF</th>\n",
              "    </tr>\n",
              "  </thead>\n",
              "  <tbody>\n",
              "    <tr>\n",
              "      <th>0</th>\n",
              "      <td>N_FacilitiesNearBy(ETC)</td>\n",
              "      <td>5.345953</td>\n",
              "    </tr>\n",
              "    <tr>\n",
              "      <th>1</th>\n",
              "      <td>N_FacilitiesNearBy(PublicOffice)</td>\n",
              "      <td>15.383102</td>\n",
              "    </tr>\n",
              "    <tr>\n",
              "      <th>2</th>\n",
              "      <td>N_SchoolNearBy(University)</td>\n",
              "      <td>15.398025</td>\n",
              "    </tr>\n",
              "    <tr>\n",
              "      <th>3</th>\n",
              "      <td>YearBuilt</td>\n",
              "      <td>26.440636</td>\n",
              "    </tr>\n",
              "    <tr>\n",
              "      <th>4</th>\n",
              "      <td>N_FacilitiesInApt</td>\n",
              "      <td>11.565621</td>\n",
              "    </tr>\n",
              "    <tr>\n",
              "      <th>5</th>\n",
              "      <td>Size(sqf)</td>\n",
              "      <td>15.938147</td>\n",
              "    </tr>\n",
              "    <tr>\n",
              "      <th>6</th>\n",
              "      <td>SalePrice</td>\n",
              "      <td>17.575754</td>\n",
              "    </tr>\n",
              "  </tbody>\n",
              "</table>\n",
              "</div>"
            ],
            "text/plain": [
              "                          variables        VIF\n",
              "0           N_FacilitiesNearBy(ETC)   5.345953\n",
              "1  N_FacilitiesNearBy(PublicOffice)  15.383102\n",
              "2        N_SchoolNearBy(University)  15.398025\n",
              "3                         YearBuilt  26.440636\n",
              "4                 N_FacilitiesInApt  11.565621\n",
              "5                         Size(sqf)  15.938147\n",
              "6                         SalePrice  17.575754"
            ]
          },
          "execution_count": 30,
          "metadata": {},
          "output_type": "execute_result"
        }
      ],
      "source": [
        "calc_vif(daegu[[\"N_FacilitiesNearBy(ETC)\", \"N_FacilitiesNearBy(PublicOffice)\", \"N_SchoolNearBy(University)\", \"YearBuilt\", \"N_FacilitiesInApt\", \"Size(sqf)\", \"SalePrice\"]])"
      ]
    },
    {
      "cell_type": "markdown",
      "metadata": {},
      "source": [
        "Fitur-fitur lainnya tidak di drop walaupun memiliki kolinearitas yang tinggi karena akan berpengaruh untuk prediksi."
      ]
    },
    {
      "cell_type": "markdown",
      "metadata": {},
      "source": [
        "Berikutnya akan dicek outliers untuk setiap fitur numerik."
      ]
    },
    {
      "cell_type": "markdown",
      "metadata": {},
      "source": [
        "#### Cek *Outliers*"
      ]
    },
    {
      "cell_type": "markdown",
      "metadata": {},
      "source": [
        "*Outliers* pada data akan memengaruhi hasil analisis yang dilakukan. Hal ini juga akan berpengaruh pada pemodelan *machine learning* yang akan dibuat. Adanya *outliers* bukan berarti data tersebut tidak bagus untuk model. Diperlukan pertimbangan dalam menangani *outliers* karena terkadang *outliers* dapat digunakan sehingga tidak perlu di hapus. Perlu dilakukan pengecekan terlebih dulu."
      ]
    },
    {
      "cell_type": "code",
      "execution_count": 31,
      "metadata": {},
      "outputs": [
        {
          "data": {
            "image/png": "[encoded data removed]",
            "text/plain": [
              "<Figure size 720x1440 with 7 Axes>"
            ]
          },
          "metadata": {},
          "output_type": "display_data"
        }
      ],
      "source": [
        "# Boxplot untuk mengecek outliers\n",
        "\n",
        "numerical_feature = daegu.select_dtypes(exclude=\"object\").columns\n",
        "numerical_feature\n",
        "\n",
        "plt.figure(figsize=(10, 20), facecolor=\"white\")\n",
        "sns.set(style=\"whitegrid\")\n",
        "plotnumber = 1\n",
        "\n",
        "for numericalfeature in numerical_feature:\n",
        "    ax = plt.subplot(8, 1, plotnumber)\n",
        "    sns.boxplot(x=numericalfeature, data=daegu, palette=\"flare\")\n",
        "    plt.title(numericalfeature, fontsize=16)\n",
        "    plt.tight_layout()\n",
        "    plotnumber += 1"
      ]
    },
    {
      "cell_type": "markdown",
      "metadata": {},
      "source": [
        "Tidak terdapat banyak *outliers* pada fitur. Dalam dataset penjualan apartment di Daegu, penanganan *outliers* dilakukan dengan mempertimbangkan perhitungan IQR dan *domain knowledge* agar model yang dihasilkan didapat dari dataset yang sudah bersih."
      ]
    },
    {
      "cell_type": "code",
      "execution_count": 32,
      "metadata": {},
      "outputs": [],
      "source": [
        "def find_outliers(data):\n",
        "\n",
        "    q1 = data.quantile(0.25)\n",
        "    q3 = data.quantile(0.75)\n",
        "\n",
        "    IQR = q3 - q1\n",
        "\n",
        "    limit = IQR*1.5\n",
        "    print(f\"IQR: {IQR}\")\n",
        "\n",
        "    limit_bawah = q1 - limit\n",
        "    limit_atas = q3 + limit\n",
        "    print(f\"limit_bawah: {limit_bawah}\")\n",
        "    print(f\"limit_atas: {limit_atas}\")        "
      ]
    },
    {
      "cell_type": "markdown",
      "metadata": {},
      "source": [
        "*Apartment Size Outliers*"
      ]
    },
    {
      "cell_type": "code",
      "execution_count": 33,
      "metadata": {},
      "outputs": [
        {
          "name": "stdout",
          "output_type": "stream",
          "text": [
            "IQR: 505.0\n",
            "limit_bawah: -113.5\n",
            "limit_atas: 1906.5\n"
          ]
        }
      ],
      "source": [
        "find_outliers(daegu[\"Size(sqf)\"])\n"
      ]
    },
    {
      "cell_type": "code",
      "execution_count": 34,
      "metadata": {},
      "outputs": [
        {
          "data": {
            "text/plain": [
              "98"
            ]
          },
          "execution_count": 34,
          "metadata": {},
          "output_type": "execute_result"
        }
      ],
      "source": [
        "# banyak outlier size\n",
        "\n",
        "daegu[daegu[\"Size(sqf)\"] > 1906.5].count()[\"Size(sqf)\"]"
      ]
    },
    {
      "cell_type": "markdown",
      "metadata": {},
      "source": [
        "*Sale Price Outliers*"
      ]
    },
    {
      "cell_type": "code",
      "execution_count": 35,
      "metadata": {},
      "outputs": [
        {
          "name": "stdout",
          "output_type": "stream",
          "text": [
            "IQR: 146398.0\n",
            "limit_bawah: -74845.0\n",
            "limit_atas: 510747.0\n"
          ]
        }
      ],
      "source": [
        "find_outliers(daegu[\"SalePrice\"])"
      ]
    },
    {
      "cell_type": "code",
      "execution_count": 36,
      "metadata": {},
      "outputs": [
        {
          "data": {
            "text/plain": [
              "27"
            ]
          },
          "execution_count": 36,
          "metadata": {},
          "output_type": "execute_result"
        }
      ],
      "source": [
        "# banyak outlier harga jual\n",
        "\n",
        "daegu[daegu[\"SalePrice\"] > 510747.0].count()[\"SalePrice\"]"
      ]
    },
    {
      "cell_type": "markdown",
      "metadata": {},
      "source": [
        "#### Limitasi Data"
      ]
    },
    {
      "cell_type": "markdown",
      "metadata": {},
      "source": [
        "Salah satu cara yang dapat dilakukan dalam proses limitasi data adalah dengan melakukan *drop outlier* pada data."
      ]
    },
    {
      "cell_type": "code",
      "execution_count": 37,
      "metadata": {},
      "outputs": [],
      "source": [
        "# Drop outlier pada feature \"Size(sqf)\"\n",
        "\n",
        "daegu = daegu[daegu[\"Size(sqf)\"] <= 1906.5]"
      ]
    },
    {
      "cell_type": "code",
      "execution_count": 38,
      "metadata": {},
      "outputs": [],
      "source": [
        "# Drop outlier pada feature \"SalePrice\"\n",
        "\n",
        "daegu = daegu[daegu[\"SalePrice\"] <= 510747.0]"
      ]
    },
    {
      "cell_type": "markdown",
      "metadata": {},
      "source": [
        "Menurut UU No. 5 tahun 1960 tentang Peraturan Dasar Pokok Agraria, jangka waktu maksimal HGB adalah 30 tahun. Asumsikan di Daegu memiliki pembatasan masa pakai yang sama. Oleh karena itu, bangunan yang sudah lebih dari 30 tahun akan di-*drop*. Data dimulai dari tahun 2007, sehingga data yang akan di-*keep* hanya dari tahun 1987."
      ]
    },
    {
      "cell_type": "code",
      "execution_count": 39,
      "metadata": {},
      "outputs": [
        {
          "data": {
            "text/html": [
              "<div>\n",
              "<style scoped>\n",
              "    .dataframe tbody tr th:only-of-type {\n",
              "        vertical-align: middle;\n",
              "    }\n",
              "\n",
              "    .dataframe tbody tr th {\n",
              "        vertical-align: top;\n",
              "    }\n",
              "\n",
              "    .dataframe thead th {\n",
              "        text-align: right;\n",
              "    }\n",
              "</style>\n",
              "<table border=\"1\" class=\"dataframe\">\n",
              "  <thead>\n",
              "    <tr style=\"text-align: right;\">\n",
              "      <th></th>\n",
              "      <th>HallwayType</th>\n",
              "      <th>TimeToSubway</th>\n",
              "      <th>SubwayStation</th>\n",
              "      <th>N_FacilitiesNearBy(ETC)</th>\n",
              "      <th>N_FacilitiesNearBy(PublicOffice)</th>\n",
              "      <th>N_SchoolNearBy(University)</th>\n",
              "      <th>YearBuilt</th>\n",
              "      <th>N_FacilitiesInApt</th>\n",
              "      <th>Size(sqf)</th>\n",
              "      <th>SalePrice</th>\n",
              "    </tr>\n",
              "  </thead>\n",
              "  <tbody>\n",
              "    <tr>\n",
              "      <th>0</th>\n",
              "      <td>terraced</td>\n",
              "      <td>0-5min</td>\n",
              "      <td>Kyungbuk_uni_hospital</td>\n",
              "      <td>0.0</td>\n",
              "      <td>3.0</td>\n",
              "      <td>2.0</td>\n",
              "      <td>2007</td>\n",
              "      <td>10</td>\n",
              "      <td>1387</td>\n",
              "      <td>346017</td>\n",
              "    </tr>\n",
              "    <tr>\n",
              "      <th>2</th>\n",
              "      <td>mixed</td>\n",
              "      <td>15min~20min</td>\n",
              "      <td>Chil-sung-market</td>\n",
              "      <td>1.0</td>\n",
              "      <td>7.0</td>\n",
              "      <td>3.0</td>\n",
              "      <td>1997</td>\n",
              "      <td>5</td>\n",
              "      <td>558</td>\n",
              "      <td>61946</td>\n",
              "    </tr>\n",
              "    <tr>\n",
              "      <th>3</th>\n",
              "      <td>mixed</td>\n",
              "      <td>5min~10min</td>\n",
              "      <td>Bangoge</td>\n",
              "      <td>5.0</td>\n",
              "      <td>5.0</td>\n",
              "      <td>4.0</td>\n",
              "      <td>2005</td>\n",
              "      <td>7</td>\n",
              "      <td>914</td>\n",
              "      <td>165486</td>\n",
              "    </tr>\n",
              "    <tr>\n",
              "      <th>4</th>\n",
              "      <td>terraced</td>\n",
              "      <td>0-5min</td>\n",
              "      <td>Sin-nam</td>\n",
              "      <td>0.0</td>\n",
              "      <td>1.0</td>\n",
              "      <td>2.0</td>\n",
              "      <td>2006</td>\n",
              "      <td>5</td>\n",
              "      <td>1743</td>\n",
              "      <td>311504</td>\n",
              "    </tr>\n",
              "    <tr>\n",
              "      <th>5</th>\n",
              "      <td>mixed</td>\n",
              "      <td>15min~20min</td>\n",
              "      <td>Chil-sung-market</td>\n",
              "      <td>1.0</td>\n",
              "      <td>7.0</td>\n",
              "      <td>3.0</td>\n",
              "      <td>1997</td>\n",
              "      <td>5</td>\n",
              "      <td>558</td>\n",
              "      <td>118584</td>\n",
              "    </tr>\n",
              "    <tr>\n",
              "      <th>...</th>\n",
              "      <td>...</td>\n",
              "      <td>...</td>\n",
              "      <td>...</td>\n",
              "      <td>...</td>\n",
              "      <td>...</td>\n",
              "      <td>...</td>\n",
              "      <td>...</td>\n",
              "      <td>...</td>\n",
              "      <td>...</td>\n",
              "      <td>...</td>\n",
              "    </tr>\n",
              "    <tr>\n",
              "      <th>4117</th>\n",
              "      <td>mixed</td>\n",
              "      <td>15min~20min</td>\n",
              "      <td>Myung-duk</td>\n",
              "      <td>5.0</td>\n",
              "      <td>6.0</td>\n",
              "      <td>5.0</td>\n",
              "      <td>1993</td>\n",
              "      <td>4</td>\n",
              "      <td>1761</td>\n",
              "      <td>345132</td>\n",
              "    </tr>\n",
              "    <tr>\n",
              "      <th>4118</th>\n",
              "      <td>terraced</td>\n",
              "      <td>0-5min</td>\n",
              "      <td>Sin-nam</td>\n",
              "      <td>0.0</td>\n",
              "      <td>3.0</td>\n",
              "      <td>2.0</td>\n",
              "      <td>2008</td>\n",
              "      <td>8</td>\n",
              "      <td>914</td>\n",
              "      <td>323008</td>\n",
              "    </tr>\n",
              "    <tr>\n",
              "      <th>4119</th>\n",
              "      <td>mixed</td>\n",
              "      <td>15min~20min</td>\n",
              "      <td>Myung-duk</td>\n",
              "      <td>5.0</td>\n",
              "      <td>6.0</td>\n",
              "      <td>5.0</td>\n",
              "      <td>1993</td>\n",
              "      <td>4</td>\n",
              "      <td>1451</td>\n",
              "      <td>242477</td>\n",
              "    </tr>\n",
              "    <tr>\n",
              "      <th>4120</th>\n",
              "      <td>mixed</td>\n",
              "      <td>15min~20min</td>\n",
              "      <td>Myung-duk</td>\n",
              "      <td>5.0</td>\n",
              "      <td>6.0</td>\n",
              "      <td>5.0</td>\n",
              "      <td>1993</td>\n",
              "      <td>4</td>\n",
              "      <td>1761</td>\n",
              "      <td>168141</td>\n",
              "    </tr>\n",
              "    <tr>\n",
              "      <th>4122</th>\n",
              "      <td>terraced</td>\n",
              "      <td>0-5min</td>\n",
              "      <td>Kyungbuk_uni_hospital</td>\n",
              "      <td>0.0</td>\n",
              "      <td>3.0</td>\n",
              "      <td>2.0</td>\n",
              "      <td>2007</td>\n",
              "      <td>10</td>\n",
              "      <td>868</td>\n",
              "      <td>250442</td>\n",
              "    </tr>\n",
              "  </tbody>\n",
              "</table>\n",
              "<p>3646 rows × 10 columns</p>\n",
              "</div>"
            ],
            "text/plain": [
              "     HallwayType TimeToSubway          SubwayStation  N_FacilitiesNearBy(ETC)  \\\n",
              "0       terraced       0-5min  Kyungbuk_uni_hospital                      0.0   \n",
              "2          mixed  15min~20min       Chil-sung-market                      1.0   \n",
              "3          mixed   5min~10min                Bangoge                      5.0   \n",
              "4       terraced       0-5min                Sin-nam                      0.0   \n",
              "5          mixed  15min~20min       Chil-sung-market                      1.0   \n",
              "...          ...          ...                    ...                      ...   \n",
              "4117       mixed  15min~20min              Myung-duk                      5.0   \n",
              "4118    terraced       0-5min                Sin-nam                      0.0   \n",
              "4119       mixed  15min~20min              Myung-duk                      5.0   \n",
              "4120       mixed  15min~20min              Myung-duk                      5.0   \n",
              "4122    terraced       0-5min  Kyungbuk_uni_hospital                      0.0   \n",
              "\n",
              "      N_FacilitiesNearBy(PublicOffice)  N_SchoolNearBy(University)  YearBuilt  \\\n",
              "0                                  3.0                         2.0       2007   \n",
              "2                                  7.0                         3.0       1997   \n",
              "3                                  5.0                         4.0       2005   \n",
              "4                                  1.0                         2.0       2006   \n",
              "5                                  7.0                         3.0       1997   \n",
              "...                                ...                         ...        ...   \n",
              "4117                               6.0                         5.0       1993   \n",
              "4118                               3.0                         2.0       2008   \n",
              "4119                               6.0                         5.0       1993   \n",
              "4120                               6.0                         5.0       1993   \n",
              "4122                               3.0                         2.0       2007   \n",
              "\n",
              "      N_FacilitiesInApt  Size(sqf)  SalePrice  \n",
              "0                    10       1387     346017  \n",
              "2                     5        558      61946  \n",
              "3                     7        914     165486  \n",
              "4                     5       1743     311504  \n",
              "5                     5        558     118584  \n",
              "...                 ...        ...        ...  \n",
              "4117                  4       1761     345132  \n",
              "4118                  8        914     323008  \n",
              "4119                  4       1451     242477  \n",
              "4120                  4       1761     168141  \n",
              "4122                 10        868     250442  \n",
              "\n",
              "[3646 rows x 10 columns]"
            ]
          },
          "execution_count": 39,
          "metadata": {},
          "output_type": "execute_result"
        }
      ],
      "source": [
        "daegu = daegu[daegu[\"YearBuilt\"] >= 1987]\n",
        "daegu"
      ]
    },
    {
      "cell_type": "code",
      "execution_count": 40,
      "metadata": {},
      "outputs": [
        {
          "name": "stdout",
          "output_type": "stream",
          "text": [
            "<class 'pandas.core.frame.DataFrame'>\n",
            "Int64Index: 3646 entries, 0 to 4122\n",
            "Data columns (total 10 columns):\n",
            " #   Column                            Non-Null Count  Dtype  \n",
            "---  ------                            --------------  -----  \n",
            " 0   HallwayType                       3646 non-null   object \n",
            " 1   TimeToSubway                      3646 non-null   object \n",
            " 2   SubwayStation                     3646 non-null   object \n",
            " 3   N_FacilitiesNearBy(ETC)           3646 non-null   float64\n",
            " 4   N_FacilitiesNearBy(PublicOffice)  3646 non-null   float64\n",
            " 5   N_SchoolNearBy(University)        3646 non-null   float64\n",
            " 6   YearBuilt                         3646 non-null   int64  \n",
            " 7   N_FacilitiesInApt                 3646 non-null   int64  \n",
            " 8   Size(sqf)                         3646 non-null   int64  \n",
            " 9   SalePrice                         3646 non-null   int64  \n",
            "dtypes: float64(3), int64(4), object(3)\n",
            "memory usage: 313.3+ KB\n"
          ]
        }
      ],
      "source": [
        "daegu.info()"
      ]
    },
    {
      "cell_type": "markdown",
      "metadata": {},
      "source": [
        "Pembatasan data yang dilakukan sebagai berikut. \n",
        "1. Drop luas apartment yang menjadi *outlier*. *Outlier* pada *feature* luas apartment adalah 1,906.5 square feet, sehingga data yang digunakan adalah penjualan unit apartment dengan luas maksimal 1,906.5 sqft.\n",
        "2. Drop harga jual apartment yang menjadi *outlier*. Pada dataset apartment di Daegu ini, *outlier* dari *\"SalePrice\"* adalah USD 510,747. Data yang digunakan adalah penjualan apartment dengan harga jual tertinggi sebesar USD 510,747.\n",
        "3. Fitur `N_Parkinglot(Basement)` dihapus karena diasumsikan menjadi bagian dari dasilitas apartment (N_FacilitiesInApt).\n",
        "4. Total data yang di-*drop* hingga saat ini sebanyak 108 baris.\n",
        "5. Pembatasan data hanya sebatas *outlier* dan umur bangunan karena kurangnya informasi dari data. Duplikasi tidak di-*drop* karena seperti yang sudah dijelaskan sebelumnya, tidak ada *primary key* pada dataset penjualan apartment di Daegu sehingga tidak dapat diketahui apakah data terduplikat atau memang terjadi transaksi serupa yang berulang."
      ]
    },
    {
      "cell_type": "code",
      "execution_count": 41,
      "metadata": {
        "id": "Yfxdx-t1k-BO",
        "outputId": "56154f59-d3a9-418e-b026-24fc1c7a77f0"
      },
      "outputs": [
        {
          "data": {
            "text/html": [
              "<div>\n",
              "<style scoped>\n",
              "    .dataframe tbody tr th:only-of-type {\n",
              "        vertical-align: middle;\n",
              "    }\n",
              "\n",
              "    .dataframe tbody tr th {\n",
              "        vertical-align: top;\n",
              "    }\n",
              "\n",
              "    .dataframe thead th {\n",
              "        text-align: right;\n",
              "    }\n",
              "</style>\n",
              "<table border=\"1\" class=\"dataframe\">\n",
              "  <thead>\n",
              "    <tr style=\"text-align: right;\">\n",
              "      <th></th>\n",
              "      <th>YearBuilt</th>\n",
              "      <th>SalePrice</th>\n",
              "    </tr>\n",
              "  </thead>\n",
              "  <tbody>\n",
              "    <tr>\n",
              "      <th>count</th>\n",
              "      <td>3646.000000</td>\n",
              "      <td>3646.000000</td>\n",
              "    </tr>\n",
              "    <tr>\n",
              "      <th>mean</th>\n",
              "      <td>2004.892759</td>\n",
              "      <td>222907.233132</td>\n",
              "    </tr>\n",
              "    <tr>\n",
              "      <th>std</th>\n",
              "      <td>7.061382</td>\n",
              "      <td>104291.277543</td>\n",
              "    </tr>\n",
              "    <tr>\n",
              "      <th>min</th>\n",
              "      <td>1992.000000</td>\n",
              "      <td>32743.000000</td>\n",
              "    </tr>\n",
              "    <tr>\n",
              "      <th>25%</th>\n",
              "      <td>2005.000000</td>\n",
              "      <td>146017.000000</td>\n",
              "    </tr>\n",
              "    <tr>\n",
              "      <th>50%</th>\n",
              "      <td>2007.000000</td>\n",
              "      <td>212389.000000</td>\n",
              "    </tr>\n",
              "    <tr>\n",
              "      <th>75%</th>\n",
              "      <td>2008.000000</td>\n",
              "      <td>292035.000000</td>\n",
              "    </tr>\n",
              "    <tr>\n",
              "      <th>max</th>\n",
              "      <td>2015.000000</td>\n",
              "      <td>508849.000000</td>\n",
              "    </tr>\n",
              "  </tbody>\n",
              "</table>\n",
              "</div>"
            ],
            "text/plain": [
              "         YearBuilt      SalePrice\n",
              "count  3646.000000    3646.000000\n",
              "mean   2004.892759  222907.233132\n",
              "std       7.061382  104291.277543\n",
              "min    1992.000000   32743.000000\n",
              "25%    2005.000000  146017.000000\n",
              "50%    2007.000000  212389.000000\n",
              "75%    2008.000000  292035.000000\n",
              "max    2015.000000  508849.000000"
            ]
          },
          "execution_count": 41,
          "metadata": {},
          "output_type": "execute_result"
        }
      ],
      "source": [
        "daegu.describe()[[\"YearBuilt\", \"SalePrice\"]]"
      ]
    },
    {
      "cell_type": "markdown",
      "metadata": {
        "id": "WlSMD64Pk-BT"
      },
      "source": [
        "#### Clean Dataset"
      ]
    },
    {
      "cell_type": "code",
      "execution_count": 42,
      "metadata": {
        "id": "RUemczG4k-BT",
        "outputId": "c0b7d59e-5cb5-4620-f780-cff119134060"
      },
      "outputs": [
        {
          "data": {
            "text/html": [
              "<div>\n",
              "<style scoped>\n",
              "    .dataframe tbody tr th:only-of-type {\n",
              "        vertical-align: middle;\n",
              "    }\n",
              "\n",
              "    .dataframe tbody tr th {\n",
              "        vertical-align: top;\n",
              "    }\n",
              "\n",
              "    .dataframe thead th {\n",
              "        text-align: right;\n",
              "    }\n",
              "</style>\n",
              "<table border=\"1\" class=\"dataframe\">\n",
              "  <thead>\n",
              "    <tr style=\"text-align: right;\">\n",
              "      <th></th>\n",
              "      <th>HallwayType</th>\n",
              "      <th>TimeToSubway</th>\n",
              "      <th>SubwayStation</th>\n",
              "      <th>N_FacilitiesNearBy(ETC)</th>\n",
              "      <th>N_FacilitiesNearBy(PublicOffice)</th>\n",
              "      <th>N_SchoolNearBy(University)</th>\n",
              "      <th>YearBuilt</th>\n",
              "      <th>N_FacilitiesInApt</th>\n",
              "      <th>Size(sqf)</th>\n",
              "      <th>SalePrice</th>\n",
              "    </tr>\n",
              "  </thead>\n",
              "  <tbody>\n",
              "    <tr>\n",
              "      <th>0</th>\n",
              "      <td>terraced</td>\n",
              "      <td>0-5min</td>\n",
              "      <td>Kyungbuk_uni_hospital</td>\n",
              "      <td>0.0</td>\n",
              "      <td>3.0</td>\n",
              "      <td>2.0</td>\n",
              "      <td>2007</td>\n",
              "      <td>10</td>\n",
              "      <td>1387</td>\n",
              "      <td>346017</td>\n",
              "    </tr>\n",
              "    <tr>\n",
              "      <th>2</th>\n",
              "      <td>mixed</td>\n",
              "      <td>15min~20min</td>\n",
              "      <td>Chil-sung-market</td>\n",
              "      <td>1.0</td>\n",
              "      <td>7.0</td>\n",
              "      <td>3.0</td>\n",
              "      <td>1997</td>\n",
              "      <td>5</td>\n",
              "      <td>558</td>\n",
              "      <td>61946</td>\n",
              "    </tr>\n",
              "    <tr>\n",
              "      <th>3</th>\n",
              "      <td>mixed</td>\n",
              "      <td>5min~10min</td>\n",
              "      <td>Bangoge</td>\n",
              "      <td>5.0</td>\n",
              "      <td>5.0</td>\n",
              "      <td>4.0</td>\n",
              "      <td>2005</td>\n",
              "      <td>7</td>\n",
              "      <td>914</td>\n",
              "      <td>165486</td>\n",
              "    </tr>\n",
              "    <tr>\n",
              "      <th>4</th>\n",
              "      <td>terraced</td>\n",
              "      <td>0-5min</td>\n",
              "      <td>Sin-nam</td>\n",
              "      <td>0.0</td>\n",
              "      <td>1.0</td>\n",
              "      <td>2.0</td>\n",
              "      <td>2006</td>\n",
              "      <td>5</td>\n",
              "      <td>1743</td>\n",
              "      <td>311504</td>\n",
              "    </tr>\n",
              "    <tr>\n",
              "      <th>5</th>\n",
              "      <td>mixed</td>\n",
              "      <td>15min~20min</td>\n",
              "      <td>Chil-sung-market</td>\n",
              "      <td>1.0</td>\n",
              "      <td>7.0</td>\n",
              "      <td>3.0</td>\n",
              "      <td>1997</td>\n",
              "      <td>5</td>\n",
              "      <td>558</td>\n",
              "      <td>118584</td>\n",
              "    </tr>\n",
              "    <tr>\n",
              "      <th>...</th>\n",
              "      <td>...</td>\n",
              "      <td>...</td>\n",
              "      <td>...</td>\n",
              "      <td>...</td>\n",
              "      <td>...</td>\n",
              "      <td>...</td>\n",
              "      <td>...</td>\n",
              "      <td>...</td>\n",
              "      <td>...</td>\n",
              "      <td>...</td>\n",
              "    </tr>\n",
              "    <tr>\n",
              "      <th>4117</th>\n",
              "      <td>mixed</td>\n",
              "      <td>15min~20min</td>\n",
              "      <td>Myung-duk</td>\n",
              "      <td>5.0</td>\n",
              "      <td>6.0</td>\n",
              "      <td>5.0</td>\n",
              "      <td>1993</td>\n",
              "      <td>4</td>\n",
              "      <td>1761</td>\n",
              "      <td>345132</td>\n",
              "    </tr>\n",
              "    <tr>\n",
              "      <th>4118</th>\n",
              "      <td>terraced</td>\n",
              "      <td>0-5min</td>\n",
              "      <td>Sin-nam</td>\n",
              "      <td>0.0</td>\n",
              "      <td>3.0</td>\n",
              "      <td>2.0</td>\n",
              "      <td>2008</td>\n",
              "      <td>8</td>\n",
              "      <td>914</td>\n",
              "      <td>323008</td>\n",
              "    </tr>\n",
              "    <tr>\n",
              "      <th>4119</th>\n",
              "      <td>mixed</td>\n",
              "      <td>15min~20min</td>\n",
              "      <td>Myung-duk</td>\n",
              "      <td>5.0</td>\n",
              "      <td>6.0</td>\n",
              "      <td>5.0</td>\n",
              "      <td>1993</td>\n",
              "      <td>4</td>\n",
              "      <td>1451</td>\n",
              "      <td>242477</td>\n",
              "    </tr>\n",
              "    <tr>\n",
              "      <th>4120</th>\n",
              "      <td>mixed</td>\n",
              "      <td>15min~20min</td>\n",
              "      <td>Myung-duk</td>\n",
              "      <td>5.0</td>\n",
              "      <td>6.0</td>\n",
              "      <td>5.0</td>\n",
              "      <td>1993</td>\n",
              "      <td>4</td>\n",
              "      <td>1761</td>\n",
              "      <td>168141</td>\n",
              "    </tr>\n",
              "    <tr>\n",
              "      <th>4122</th>\n",
              "      <td>terraced</td>\n",
              "      <td>0-5min</td>\n",
              "      <td>Kyungbuk_uni_hospital</td>\n",
              "      <td>0.0</td>\n",
              "      <td>3.0</td>\n",
              "      <td>2.0</td>\n",
              "      <td>2007</td>\n",
              "      <td>10</td>\n",
              "      <td>868</td>\n",
              "      <td>250442</td>\n",
              "    </tr>\n",
              "  </tbody>\n",
              "</table>\n",
              "<p>3646 rows × 10 columns</p>\n",
              "</div>"
            ],
            "text/plain": [
              "     HallwayType TimeToSubway          SubwayStation  N_FacilitiesNearBy(ETC)  \\\n",
              "0       terraced       0-5min  Kyungbuk_uni_hospital                      0.0   \n",
              "2          mixed  15min~20min       Chil-sung-market                      1.0   \n",
              "3          mixed   5min~10min                Bangoge                      5.0   \n",
              "4       terraced       0-5min                Sin-nam                      0.0   \n",
              "5          mixed  15min~20min       Chil-sung-market                      1.0   \n",
              "...          ...          ...                    ...                      ...   \n",
              "4117       mixed  15min~20min              Myung-duk                      5.0   \n",
              "4118    terraced       0-5min                Sin-nam                      0.0   \n",
              "4119       mixed  15min~20min              Myung-duk                      5.0   \n",
              "4120       mixed  15min~20min              Myung-duk                      5.0   \n",
              "4122    terraced       0-5min  Kyungbuk_uni_hospital                      0.0   \n",
              "\n",
              "      N_FacilitiesNearBy(PublicOffice)  N_SchoolNearBy(University)  YearBuilt  \\\n",
              "0                                  3.0                         2.0       2007   \n",
              "2                                  7.0                         3.0       1997   \n",
              "3                                  5.0                         4.0       2005   \n",
              "4                                  1.0                         2.0       2006   \n",
              "5                                  7.0                         3.0       1997   \n",
              "...                                ...                         ...        ...   \n",
              "4117                               6.0                         5.0       1993   \n",
              "4118                               3.0                         2.0       2008   \n",
              "4119                               6.0                         5.0       1993   \n",
              "4120                               6.0                         5.0       1993   \n",
              "4122                               3.0                         2.0       2007   \n",
              "\n",
              "      N_FacilitiesInApt  Size(sqf)  SalePrice  \n",
              "0                    10       1387     346017  \n",
              "2                     5        558      61946  \n",
              "3                     7        914     165486  \n",
              "4                     5       1743     311504  \n",
              "5                     5        558     118584  \n",
              "...                 ...        ...        ...  \n",
              "4117                  4       1761     345132  \n",
              "4118                  8        914     323008  \n",
              "4119                  4       1451     242477  \n",
              "4120                  4       1761     168141  \n",
              "4122                 10        868     250442  \n",
              "\n",
              "[3646 rows x 10 columns]"
            ]
          },
          "execution_count": 42,
          "metadata": {},
          "output_type": "execute_result"
        }
      ],
      "source": [
        "# Cek dataset yang sudah bersih\n",
        "daegu"
      ]
    },
    {
      "cell_type": "code",
      "execution_count": 43,
      "metadata": {
        "id": "QwhkqkNpk-BT",
        "outputId": "14bebdfe-3785-4577-f083-7835f569902c"
      },
      "outputs": [
        {
          "name": "stdout",
          "output_type": "stream",
          "text": [
            "<class 'pandas.core.frame.DataFrame'>\n",
            "Int64Index: 3646 entries, 0 to 4122\n",
            "Data columns (total 10 columns):\n",
            " #   Column                            Non-Null Count  Dtype  \n",
            "---  ------                            --------------  -----  \n",
            " 0   HallwayType                       3646 non-null   object \n",
            " 1   TimeToSubway                      3646 non-null   object \n",
            " 2   SubwayStation                     3646 non-null   object \n",
            " 3   N_FacilitiesNearBy(ETC)           3646 non-null   float64\n",
            " 4   N_FacilitiesNearBy(PublicOffice)  3646 non-null   float64\n",
            " 5   N_SchoolNearBy(University)        3646 non-null   float64\n",
            " 6   YearBuilt                         3646 non-null   int64  \n",
            " 7   N_FacilitiesInApt                 3646 non-null   int64  \n",
            " 8   Size(sqf)                         3646 non-null   int64  \n",
            " 9   SalePrice                         3646 non-null   int64  \n",
            "dtypes: float64(3), int64(4), object(3)\n",
            "memory usage: 313.3+ KB\n"
          ]
        }
      ],
      "source": [
        "# Cek kembali info dataset\n",
        "daegu.info()"
      ]
    },
    {
      "cell_type": "markdown",
      "metadata": {
        "id": "5COvjV0Ik-BX"
      },
      "source": [
        "Setelah semua proses di atas, tersisa 3,646 baris data yang akan digunakan untuk pemodelan."
      ]
    },
    {
      "cell_type": "code",
      "execution_count": 44,
      "metadata": {},
      "outputs": [
        {
          "data": {
            "text/html": [
              "<div>\n",
              "<style scoped>\n",
              "    .dataframe tbody tr th:only-of-type {\n",
              "        vertical-align: middle;\n",
              "    }\n",
              "\n",
              "    .dataframe tbody tr th {\n",
              "        vertical-align: top;\n",
              "    }\n",
              "\n",
              "    .dataframe thead th {\n",
              "        text-align: right;\n",
              "    }\n",
              "</style>\n",
              "<table border=\"1\" class=\"dataframe\">\n",
              "  <thead>\n",
              "    <tr style=\"text-align: right;\">\n",
              "      <th></th>\n",
              "      <th>N_FacilitiesNearBy(ETC)</th>\n",
              "      <th>N_FacilitiesNearBy(PublicOffice)</th>\n",
              "      <th>N_SchoolNearBy(University)</th>\n",
              "      <th>YearBuilt</th>\n",
              "      <th>N_FacilitiesInApt</th>\n",
              "      <th>Size(sqf)</th>\n",
              "      <th>SalePrice</th>\n",
              "    </tr>\n",
              "  </thead>\n",
              "  <tbody>\n",
              "    <tr>\n",
              "      <th>count</th>\n",
              "      <td>3646.000000</td>\n",
              "      <td>3646.000000</td>\n",
              "      <td>3646.000000</td>\n",
              "      <td>3646.000000</td>\n",
              "      <td>3646.000000</td>\n",
              "      <td>3646.000000</td>\n",
              "      <td>3646.000000</td>\n",
              "    </tr>\n",
              "    <tr>\n",
              "      <th>mean</th>\n",
              "      <td>2.034010</td>\n",
              "      <td>4.091607</td>\n",
              "      <td>2.904827</td>\n",
              "      <td>2004.892759</td>\n",
              "      <td>6.012068</td>\n",
              "      <td>918.585025</td>\n",
              "      <td>222907.233132</td>\n",
              "    </tr>\n",
              "    <tr>\n",
              "      <th>std</th>\n",
              "      <td>2.276485</td>\n",
              "      <td>1.860676</td>\n",
              "      <td>1.463968</td>\n",
              "      <td>7.061382</td>\n",
              "      <td>2.318499</td>\n",
              "      <td>342.637727</td>\n",
              "      <td>104291.277543</td>\n",
              "    </tr>\n",
              "    <tr>\n",
              "      <th>min</th>\n",
              "      <td>0.000000</td>\n",
              "      <td>0.000000</td>\n",
              "      <td>0.000000</td>\n",
              "      <td>1992.000000</td>\n",
              "      <td>1.000000</td>\n",
              "      <td>135.000000</td>\n",
              "      <td>32743.000000</td>\n",
              "    </tr>\n",
              "    <tr>\n",
              "      <th>25%</th>\n",
              "      <td>0.000000</td>\n",
              "      <td>3.000000</td>\n",
              "      <td>2.000000</td>\n",
              "      <td>2005.000000</td>\n",
              "      <td>4.000000</td>\n",
              "      <td>644.000000</td>\n",
              "      <td>146017.000000</td>\n",
              "    </tr>\n",
              "    <tr>\n",
              "      <th>50%</th>\n",
              "      <td>1.000000</td>\n",
              "      <td>4.000000</td>\n",
              "      <td>2.000000</td>\n",
              "      <td>2007.000000</td>\n",
              "      <td>5.000000</td>\n",
              "      <td>910.000000</td>\n",
              "      <td>212389.000000</td>\n",
              "    </tr>\n",
              "    <tr>\n",
              "      <th>75%</th>\n",
              "      <td>5.000000</td>\n",
              "      <td>5.000000</td>\n",
              "      <td>4.000000</td>\n",
              "      <td>2008.000000</td>\n",
              "      <td>7.000000</td>\n",
              "      <td>1088.000000</td>\n",
              "      <td>292035.000000</td>\n",
              "    </tr>\n",
              "    <tr>\n",
              "      <th>max</th>\n",
              "      <td>5.000000</td>\n",
              "      <td>7.000000</td>\n",
              "      <td>5.000000</td>\n",
              "      <td>2015.000000</td>\n",
              "      <td>10.000000</td>\n",
              "      <td>1761.000000</td>\n",
              "      <td>508849.000000</td>\n",
              "    </tr>\n",
              "  </tbody>\n",
              "</table>\n",
              "</div>"
            ],
            "text/plain": [
              "       N_FacilitiesNearBy(ETC)  N_FacilitiesNearBy(PublicOffice)  \\\n",
              "count              3646.000000                       3646.000000   \n",
              "mean                  2.034010                          4.091607   \n",
              "std                   2.276485                          1.860676   \n",
              "min                   0.000000                          0.000000   \n",
              "25%                   0.000000                          3.000000   \n",
              "50%                   1.000000                          4.000000   \n",
              "75%                   5.000000                          5.000000   \n",
              "max                   5.000000                          7.000000   \n",
              "\n",
              "       N_SchoolNearBy(University)    YearBuilt  N_FacilitiesInApt  \\\n",
              "count                 3646.000000  3646.000000        3646.000000   \n",
              "mean                     2.904827  2004.892759           6.012068   \n",
              "std                      1.463968     7.061382           2.318499   \n",
              "min                      0.000000  1992.000000           1.000000   \n",
              "25%                      2.000000  2005.000000           4.000000   \n",
              "50%                      2.000000  2007.000000           5.000000   \n",
              "75%                      4.000000  2008.000000           7.000000   \n",
              "max                      5.000000  2015.000000          10.000000   \n",
              "\n",
              "         Size(sqf)      SalePrice  \n",
              "count  3646.000000    3646.000000  \n",
              "mean    918.585025  222907.233132  \n",
              "std     342.637727  104291.277543  \n",
              "min     135.000000   32743.000000  \n",
              "25%     644.000000  146017.000000  \n",
              "50%     910.000000  212389.000000  \n",
              "75%    1088.000000  292035.000000  \n",
              "max    1761.000000  508849.000000  "
            ]
          },
          "execution_count": 44,
          "metadata": {},
          "output_type": "execute_result"
        }
      ],
      "source": [
        "daegu.describe()"
      ]
    },
    {
      "cell_type": "markdown",
      "metadata": {
        "id": "-L7g9nCnk-BX"
      },
      "source": [
        "### **4. Modeling**"
      ]
    },
    {
      "cell_type": "code",
      "execution_count": 45,
      "metadata": {
        "id": "pyjlbRyfk-BX"
      },
      "outputs": [],
      "source": [
        "# Import library untuk modeling\n",
        "\n",
        "from sklearn.model_selection import train_test_split, cross_val_score, RandomizedSearchCV, GridSearchCV, KFold\n",
        "\n",
        "from sklearn.linear_model import LinearRegression\n",
        "from sklearn.neighbors import KNeighborsRegressor\n",
        "from sklearn.tree import DecisionTreeRegressor\n",
        "from sklearn.ensemble import RandomForestRegressor, GradientBoostingRegressor\n",
        "from xgboost.sklearn import XGBRegressor\n",
        "from sklearn.compose import TransformedTargetRegressor\n",
        "\n",
        "import category_encoders as ce\n",
        "from sklearn.preprocessing import OneHotEncoder, LabelEncoder, OrdinalEncoder\n",
        "from sklearn.impute import SimpleImputer\n",
        "from sklearn.compose import ColumnTransformer\n",
        "from sklearn.pipeline import Pipeline\n",
        "\n",
        "from sklearn.preprocessing import StandardScaler, PolynomialFeatures, RobustScaler\n",
        "from imblearn.pipeline import Pipeline\n",
        "from imblearn.over_sampling import RandomOverSampler\n",
        "\n",
        "from sklearn.metrics import r2_score, mean_squared_error, mean_absolute_error, mean_absolute_percentage_error\n",
        "\n",
        "pd.set_option(\"display.max_columns\", None)"
      ]
    },
    {
      "cell_type": "markdown",
      "metadata": {
        "id": "WhNDmukYk-BX"
      },
      "source": [
        "**Encoding**"
      ]
    },
    {
      "cell_type": "markdown",
      "metadata": {
        "id": "3QHblkKak-BY"
      },
      "source": [
        "Sebelum *modeling*, untuk dapat menggunakan semua fitur yang dipilih ubah fitur kategorikal jadi fitur numerikal. Untuk mengubah tipe data, gunakan ColumnTransformer agar dapat diaplikasikan pada pipeline model. Sekarang lihat fitur yang berjenis kategori."
      ]
    },
    {
      "cell_type": "code",
      "execution_count": 46,
      "metadata": {},
      "outputs": [
        {
          "data": {
            "text/html": [
              "<div>\n",
              "<style scoped>\n",
              "    .dataframe tbody tr th:only-of-type {\n",
              "        vertical-align: middle;\n",
              "    }\n",
              "\n",
              "    .dataframe tbody tr th {\n",
              "        vertical-align: top;\n",
              "    }\n",
              "\n",
              "    .dataframe thead th {\n",
              "        text-align: right;\n",
              "    }\n",
              "</style>\n",
              "<table border=\"1\" class=\"dataframe\">\n",
              "  <thead>\n",
              "    <tr style=\"text-align: right;\">\n",
              "      <th></th>\n",
              "      <th>Data Features</th>\n",
              "      <th>Data Types</th>\n",
              "      <th>Unique</th>\n",
              "      <th>Unique Sample</th>\n",
              "    </tr>\n",
              "  </thead>\n",
              "  <tbody>\n",
              "    <tr>\n",
              "      <th>0</th>\n",
              "      <td>HallwayType</td>\n",
              "      <td>object</td>\n",
              "      <td>3</td>\n",
              "      <td>[corridor, mixed, terraced]</td>\n",
              "    </tr>\n",
              "    <tr>\n",
              "      <th>1</th>\n",
              "      <td>TimeToSubway</td>\n",
              "      <td>object</td>\n",
              "      <td>5</td>\n",
              "      <td>[15min~20min, no_bus_stop_nearby, 5min~10min]</td>\n",
              "    </tr>\n",
              "    <tr>\n",
              "      <th>2</th>\n",
              "      <td>SubwayStation</td>\n",
              "      <td>object</td>\n",
              "      <td>8</td>\n",
              "      <td>[Sin-nam, Bangoge, Chil-sung-market]</td>\n",
              "    </tr>\n",
              "  </tbody>\n",
              "</table>\n",
              "</div>"
            ],
            "text/plain": [
              "   Data Features Data Types  Unique  \\\n",
              "0    HallwayType     object       3   \n",
              "1   TimeToSubway     object       5   \n",
              "2  SubwayStation     object       8   \n",
              "\n",
              "                                   Unique Sample  \n",
              "0                    [corridor, mixed, terraced]  \n",
              "1  [15min~20min, no_bus_stop_nearby, 5min~10min]  \n",
              "2           [Sin-nam, Bangoge, Chil-sung-market]  "
            ]
          },
          "execution_count": 46,
          "metadata": {},
          "output_type": "execute_result"
        }
      ],
      "source": [
        "listdesc = []\n",
        "\n",
        "for col in daegu.select_dtypes(\"object\").columns:\n",
        "    listdesc.append([col,\n",
        "                     daegu[col].dtypes,\n",
        "                     daegu[col].nunique(),\n",
        "                     daegu[col].drop_duplicates().sample(3).values])\n",
        "\n",
        "pd.DataFrame(listdesc, columns=[\"Data Features\",\n",
        "                                \"Data Types\",\n",
        "                                \"Unique\",\n",
        "                                \"Unique Sample\"])"
      ]
    },
    {
      "cell_type": "markdown",
      "metadata": {},
      "source": [
        "Dari tabel di atas, *encoding* yang dilakukan sebagai berikut.\n",
        "1. *One Hot Encoder* digunakan untuk fitur *\"HallwayType\"* yang memiliki *unique data* sebanyak 3 buah dan *\"SubwayStation\"* dengan *unique data* sebanyak 8 buah;\n",
        "2. *Ordinal Encoder* untuk *\"TimeToSubway\"*, mengurutkan jarak ke *subway* dari yang paling dekat dan yang tidak ada bus stop menjadi yang terakhir."
      ]
    },
    {
      "cell_type": "code",
      "execution_count": 47,
      "metadata": {
        "id": "UN7TktS7k-BY"
      },
      "outputs": [],
      "source": [
        "transformer = ColumnTransformer([\n",
        "                (\"OneHot\", OneHotEncoder(), [\"HallwayType\", \"SubwayStation\"]),\n",
        "                (\"Ordinal\", OrdinalEncoder(), [\"TimeToSubway\"])],\n",
        "                remainder=\"passthrough\")"
      ]
    },
    {
      "cell_type": "markdown",
      "metadata": {
        "id": "Qia81EXBk-BY"
      },
      "source": [
        "**Data Splitting**"
      ]
    },
    {
      "cell_type": "code",
      "execution_count": 48,
      "metadata": {
        "id": "xNYa__0Kk-BY"
      },
      "outputs": [],
      "source": [
        "# Memisahkan variabel independen dengan target\n",
        "\n",
        "x = daegu.drop([\"SalePrice\"], axis=1)\n",
        "y = daegu[\"SalePrice\"]\n",
        "\n",
        "x_train, x_test, y_train, y_test = train_test_split(x, y, test_size=0.3, random_state=738)"
      ]
    },
    {
      "cell_type": "markdown",
      "metadata": {
        "id": "u6eU0sPrk-BY"
      },
      "source": [
        "**Train and Test Splitting**"
      ]
    },
    {
      "cell_type": "markdown",
      "metadata": {},
      "source": [
        "Data di-*split* menjadi x dan y, di mana x adalah fitur sedangkan y adalah target. Test size yang digunakan sebesar 30% dan training size sebesar 70%."
      ]
    },
    {
      "cell_type": "code",
      "execution_count": 49,
      "metadata": {
        "id": "1zuWGtbYk-BZ"
      },
      "outputs": [],
      "source": [
        "# Splitting data training dan test dengan proporsi 70:30\n",
        "x_train, x_test, y_train, y_test= train_test_split(x, y, test_size=0.3, random_state=738)"
      ]
    },
    {
      "cell_type": "markdown",
      "metadata": {
        "id": "ndjW0HTAk-BZ"
      },
      "source": [
        "**Choose a Benchmark Model**"
      ]
    },
    {
      "cell_type": "markdown",
      "metadata": {},
      "source": [
        "Lakukan pemilihan algoritma regresi yang akan digunakan dalam pembangunan model."
      ]
    },
    {
      "cell_type": "code",
      "execution_count": 50,
      "metadata": {},
      "outputs": [
        {
          "name": "stdout",
          "output_type": "stream",
          "text": [
            "[-40705.0055776  -41023.73567801 -39971.09525992 -40795.69385556\n",
            " -37936.20353389] TransformedTargetRegressor(func=<ufunc 'log'>, inverse_func=<ufunc 'exp'>,\n",
            "                           regressor=LinearRegression())\n",
            "[-0.21879996 -0.2011354  -0.20433944 -0.20489798 -0.20748044] TransformedTargetRegressor(func=<ufunc 'log'>, inverse_func=<ufunc 'exp'>,\n",
            "                           regressor=LinearRegression())\n",
            "[-51761.06070174 -53365.70965865 -50442.91005155 -51561.64660982\n",
            " -47790.1417998 ] TransformedTargetRegressor(func=<ufunc 'log'>, inverse_func=<ufunc 'exp'>,\n",
            "                           regressor=LinearRegression())\n",
            "[0.75987001 0.71689986 0.7561671  0.75372201 0.79851004] TransformedTargetRegressor(func=<ufunc 'log'>, inverse_func=<ufunc 'exp'>,\n",
            "                           regressor=LinearRegression())\n",
            "[-34762.46954332 -33927.3223224  -34957.70079003 -34841.36699756\n",
            " -33193.65495405] TransformedTargetRegressor(func=<ufunc 'log'>, inverse_func=<ufunc 'exp'>,\n",
            "                           regressor=KNeighborsRegressor())\n",
            "[-0.18417029 -0.1632985  -0.16998243 -0.17152799 -0.17656476] TransformedTargetRegressor(func=<ufunc 'log'>, inverse_func=<ufunc 'exp'>,\n",
            "                           regressor=KNeighborsRegressor())\n",
            "[-45429.99103119 -44900.94089383 -45737.30216469 -45190.6152264\n",
            " -42991.07200494] TransformedTargetRegressor(func=<ufunc 'log'>, inverse_func=<ufunc 'exp'>,\n",
            "                           regressor=KNeighborsRegressor())\n",
            "[0.81501975 0.79958677 0.79953751 0.8108229  0.8369453 ] TransformedTargetRegressor(func=<ufunc 'log'>, inverse_func=<ufunc 'exp'>,\n",
            "                           regressor=KNeighborsRegressor())\n",
            "[-33622.57850882 -32466.46278245 -33116.69349293 -32724.60185385\n",
            " -31495.05846029] TransformedTargetRegressor(func=<ufunc 'log'>, inverse_func=<ufunc 'exp'>,\n",
            "                           regressor=DecisionTreeRegressor(random_state=738))\n",
            "[-0.18263391 -0.16233316 -0.16729841 -0.16685491 -0.17257298] TransformedTargetRegressor(func=<ufunc 'log'>, inverse_func=<ufunc 'exp'>,\n",
            "                           regressor=DecisionTreeRegressor(random_state=738))\n",
            "[-43317.06467698 -42033.7026819  -42627.02632646 -42145.03953906\n",
            " -40445.88767848] TransformedTargetRegressor(func=<ufunc 'log'>, inverse_func=<ufunc 'exp'>,\n",
            "                           regressor=DecisionTreeRegressor(random_state=738))\n",
            "[0.83182629 0.82436511 0.8258746  0.83546247 0.85568034] TransformedTargetRegressor(func=<ufunc 'log'>, inverse_func=<ufunc 'exp'>,\n",
            "                           regressor=DecisionTreeRegressor(random_state=738))\n",
            "[-33603.79582058 -32543.81440778 -33188.42611197 -32722.83145448\n",
            " -31438.09348973] TransformedTargetRegressor(func=<ufunc 'log'>, inverse_func=<ufunc 'exp'>,\n",
            "                           regressor=RandomForestRegressor(random_state=738))\n",
            "[-0.18264707 -0.16254821 -0.16771319 -0.16698595 -0.17249719] TransformedTargetRegressor(func=<ufunc 'log'>, inverse_func=<ufunc 'exp'>,\n",
            "                           regressor=RandomForestRegressor(random_state=738))\n",
            "[-43278.72007344 -42091.92573963 -42682.50640432 -42173.34492226\n",
            " -40401.14278803] TransformedTargetRegressor(func=<ufunc 'log'>, inverse_func=<ufunc 'exp'>,\n",
            "                           regressor=RandomForestRegressor(random_state=738))\n",
            "[0.83212389 0.82387821 0.82542105 0.83524138 0.85599948] TransformedTargetRegressor(func=<ufunc 'log'>, inverse_func=<ufunc 'exp'>,\n",
            "                           regressor=RandomForestRegressor(random_state=738))\n",
            "[-33601.89388467 -32612.25295276 -33190.42792677 -32910.11210886\n",
            " -31527.38037901] TransformedTargetRegressor(func=<ufunc 'log'>, inverse_func=<ufunc 'exp'>,\n",
            "                           regressor=GradientBoostingRegressor(random_state=738))\n",
            "[-0.18224091 -0.16296854 -0.16788116 -0.16824844 -0.17222508] TransformedTargetRegressor(func=<ufunc 'log'>, inverse_func=<ufunc 'exp'>,\n",
            "                           regressor=GradientBoostingRegressor(random_state=738))\n",
            "[-43261.12301598 -42229.57913904 -42452.82486565 -42333.77013569\n",
            " -40583.63604853] TransformedTargetRegressor(func=<ufunc 'log'>, inverse_func=<ufunc 'exp'>,\n",
            "                           regressor=GradientBoostingRegressor(random_state=738))\n",
            "[0.83226038 0.82272438 0.82729487 0.83398553 0.85469563] TransformedTargetRegressor(func=<ufunc 'log'>, inverse_func=<ufunc 'exp'>,\n",
            "                           regressor=GradientBoostingRegressor(random_state=738))\n",
            "[-33647.66115766 -32455.47664659 -33107.6796492  -32722.67140778\n",
            " -31479.12764246] TransformedTargetRegressor(func=<ufunc 'log'>, inverse_func=<ufunc 'exp'>,\n",
            "                           regressor=XGBRegressor(base_score=None, booster=None,\n",
            "                                                  callbacks=None,\n",
            "                                                  colsample_bylevel=None,\n",
            "                                                  colsample_bynode=None,\n",
            "                                                  colsample_bytree=None,\n",
            "                                                  early_stopping_rounds=None,\n",
            "                                                  enable_categorical=False,\n",
            "                                                  eval_metric=None, gamma=None,\n",
            "                                                  gpu_id=None, grow_policy=None,\n",
            "                                                  importance_type=None,\n",
            "                                                  interaction_constraints=None,\n",
            "                                                  learning_rate=None,\n",
            "                                                  max_bin=None,\n",
            "                                                  max_cat_to_onehot=None,\n",
            "                                                  max_delta_step=None,\n",
            "                                                  max_depth=None,\n",
            "                                                  max_leaves=None,\n",
            "                                                  min_child_weight=None,\n",
            "                                                  missing=nan,\n",
            "                                                  monotone_constraints=None,\n",
            "                                                  n_estimators=100, n_jobs=None,\n",
            "                                                  num_parallel_tree=None,\n",
            "                                                  predictor=None,\n",
            "                                                  random_state=738,\n",
            "                                                  reg_alpha=None,\n",
            "                                                  reg_lambda=None, ...))\n",
            "[-0.18271162 -0.1622858  -0.16726811 -0.16685106 -0.17248877] TransformedTargetRegressor(func=<ufunc 'log'>, inverse_func=<ufunc 'exp'>,\n",
            "                           regressor=XGBRegressor(base_score=None, booster=None,\n",
            "                                                  callbacks=None,\n",
            "                                                  colsample_bylevel=None,\n",
            "                                                  colsample_bynode=None,\n",
            "                                                  colsample_bytree=None,\n",
            "                                                  early_stopping_rounds=None,\n",
            "                                                  enable_categorical=False,\n",
            "                                                  eval_metric=None, gamma=None,\n",
            "                                                  gpu_id=None, grow_policy=None,\n",
            "                                                  importance_type=None,\n",
            "                                                  interaction_constraints=None,\n",
            "                                                  learning_rate=None,\n",
            "                                                  max_bin=None,\n",
            "                                                  max_cat_to_onehot=None,\n",
            "                                                  max_delta_step=None,\n",
            "                                                  max_depth=None,\n",
            "                                                  max_leaves=None,\n",
            "                                                  min_child_weight=None,\n",
            "                                                  missing=nan,\n",
            "                                                  monotone_constraints=None,\n",
            "                                                  n_estimators=100, n_jobs=None,\n",
            "                                                  num_parallel_tree=None,\n",
            "                                                  predictor=None,\n",
            "                                                  random_state=738,\n",
            "                                                  reg_alpha=None,\n",
            "                                                  reg_lambda=None, ...))\n",
            "[-43345.10730309 -42025.02007417 -42618.17315899 -42143.76261343\n",
            " -40442.83007497] TransformedTargetRegressor(func=<ufunc 'log'>, inverse_func=<ufunc 'exp'>,\n",
            "                           regressor=XGBRegressor(base_score=None, booster=None,\n",
            "                                                  callbacks=None,\n",
            "                                                  colsample_bylevel=None,\n",
            "                                                  colsample_bynode=None,\n",
            "                                                  colsample_bytree=None,\n",
            "                                                  early_stopping_rounds=None,\n",
            "                                                  enable_categorical=False,\n",
            "                                                  eval_metric=None, gamma=None,\n",
            "                                                  gpu_id=None, grow_policy=None,\n",
            "                                                  importance_type=None,\n",
            "                                                  interaction_constraints=None,\n",
            "                                                  learning_rate=None,\n",
            "                                                  max_bin=None,\n",
            "                                                  max_cat_to_onehot=None,\n",
            "                                                  max_delta_step=None,\n",
            "                                                  max_depth=None,\n",
            "                                                  max_leaves=None,\n",
            "                                                  min_child_weight=None,\n",
            "                                                  missing=nan,\n",
            "                                                  monotone_constraints=None,\n",
            "                                                  n_estimators=100, n_jobs=None,\n",
            "                                                  num_parallel_tree=None,\n",
            "                                                  predictor=None,\n",
            "                                                  random_state=738,\n",
            "                                                  reg_alpha=None,\n",
            "                                                  reg_lambda=None, ...))\n",
            "[0.83160847 0.82443766 0.82594692 0.83547244 0.85570216] TransformedTargetRegressor(func=<ufunc 'log'>, inverse_func=<ufunc 'exp'>,\n",
            "                           regressor=XGBRegressor(base_score=None, booster=None,\n",
            "                                                  callbacks=None,\n",
            "                                                  colsample_bylevel=None,\n",
            "                                                  colsample_bynode=None,\n",
            "                                                  colsample_bytree=None,\n",
            "                                                  early_stopping_rounds=None,\n",
            "                                                  enable_categorical=False,\n",
            "                                                  eval_metric=None, gamma=None,\n",
            "                                                  gpu_id=None, grow_policy=None,\n",
            "                                                  importance_type=None,\n",
            "                                                  interaction_constraints=None,\n",
            "                                                  learning_rate=None,\n",
            "                                                  max_bin=None,\n",
            "                                                  max_cat_to_onehot=None,\n",
            "                                                  max_delta_step=None,\n",
            "                                                  max_depth=None,\n",
            "                                                  max_leaves=None,\n",
            "                                                  min_child_weight=None,\n",
            "                                                  missing=nan,\n",
            "                                                  monotone_constraints=None,\n",
            "                                                  n_estimators=100, n_jobs=None,\n",
            "                                                  num_parallel_tree=None,\n",
            "                                                  predictor=None,\n",
            "                                                  random_state=738,\n",
            "                                                  reg_alpha=None,\n",
            "                                                  reg_lambda=None, ...))\n"
          ]
        }
      ],
      "source": [
        "# Define algoritma yang digunakan\n",
        "lr = LinearRegression()\n",
        "knn = KNeighborsRegressor()\n",
        "dt = DecisionTreeRegressor(random_state=738)\n",
        "rf = RandomForestRegressor(random_state=738)\n",
        "gb = GradientBoostingRegressor(random_state=738)\n",
        "xgb = XGBRegressor(random_state=738)\n",
        "\n",
        "# Pemodelan dilakukan dalam skala logaritmik, namun kemudian di-inverse kembali untuk interpretasi\n",
        "log_lr = TransformedTargetRegressor(lr, func=np.log, inverse_func=np.exp)\n",
        "log_knn = TransformedTargetRegressor(knn, func=np.log, inverse_func=np.exp)\n",
        "log_dt = TransformedTargetRegressor(dt, func=np.log, inverse_func=np.exp)\n",
        "log_rf = TransformedTargetRegressor(rf, func=np.log, inverse_func=np.exp)\n",
        "log_gb = TransformedTargetRegressor(gb, func=np.log, inverse_func=np.exp)\n",
        "log_xgb = TransformedTargetRegressor(xgb, func=np.log, inverse_func=np.exp)\n",
        "\n",
        "# Scaling data\n",
        "scaler = StandardScaler()\n",
        "\n",
        "# Kandidat algoritma\n",
        "models = [log_lr, log_knn, log_dt, log_rf, log_gb, log_xgb]\n",
        "\n",
        "score_mae = []\n",
        "nilai_mean_mae = []\n",
        "\n",
        "score_mape = []\n",
        "nilai_mean_mape = []\n",
        "\n",
        "score_rmse = []\n",
        "nilai_mean_rmse = []\n",
        "\n",
        "score_r2 = []\n",
        "nilai_mean_r2 = []\n",
        "\n",
        "# Mencari algoritma terbaik berdasarkan nilai MAE\n",
        "for i in models:\n",
        "    \n",
        "    crossval = KFold(n_splits=5, shuffle=True, random_state=738)\n",
        "\n",
        "    estimator = Pipeline([\n",
        "        (\"preprocessing\", transformer),\n",
        "        (\"scaler\", scaler),\n",
        "        (\"model\", i)\n",
        "    ])\n",
        "\n",
        "    # MAE\n",
        "    model_cv_mae = cross_val_score(\n",
        "        estimator, \n",
        "        x_train, \n",
        "        y_train, \n",
        "        cv=crossval, \n",
        "        scoring=\"neg_mean_absolute_error\", \n",
        "        error_score=\"raise\"\n",
        "        )\n",
        "\n",
        "    print(model_cv_mae, i)\n",
        "\n",
        "    score_mae.append(model_cv_mae)\n",
        "    nilai_mean_mae.append(model_cv_mae.mean())\n",
        "\n",
        "    # MAPE\n",
        "    model_cv_mape = cross_val_score(\n",
        "        estimator, \n",
        "        x_train, \n",
        "        y_train, \n",
        "        cv=crossval, \n",
        "        scoring=\"neg_mean_absolute_percentage_error\", \n",
        "        error_score=\"raise\"\n",
        "        )\n",
        "    \n",
        "    print(model_cv_mape, i)\n",
        "    \n",
        "    score_mape.append(model_cv_mape)\n",
        "    nilai_mean_mape.append(model_cv_mape.mean())\n",
        "\n",
        "    # RMSE\n",
        "    model_cv_rmse = cross_val_score(\n",
        "        estimator, \n",
        "        x_train, \n",
        "        y_train, \n",
        "        cv=crossval, \n",
        "        scoring=\"neg_root_mean_squared_error\", \n",
        "        error_score=\"raise\"\n",
        "        )\n",
        "    print(model_cv_rmse, i)\n",
        "\n",
        "    score_rmse.append(model_cv_rmse)\n",
        "    nilai_mean_rmse.append(model_cv_rmse.mean())\n",
        "\n",
        "    # R-Squared\n",
        "    model_cv_r2 = cross_val_score(\n",
        "        estimator, \n",
        "        x_train, \n",
        "        y_train, \n",
        "        cv=crossval, \n",
        "        scoring=\"r2\", \n",
        "        error_score=\"raise\"\n",
        "        )\n",
        "\n",
        "    print(model_cv_r2, i)\n",
        "\n",
        "    score_r2.append(model_cv_r2)\n",
        "    nilai_mean_r2.append(model_cv_r2.mean())"
      ]
    },
    {
      "cell_type": "code",
      "execution_count": 51,
      "metadata": {
        "id": "MHbwc3DSk-BZ",
        "outputId": "9a8952c5-2fef-4f8a-86d4-6933971758a5"
      },
      "outputs": [
        {
          "data": {
            "text/html": [
              "<div>\n",
              "<style scoped>\n",
              "    .dataframe tbody tr th:only-of-type {\n",
              "        vertical-align: middle;\n",
              "    }\n",
              "\n",
              "    .dataframe tbody tr th {\n",
              "        vertical-align: top;\n",
              "    }\n",
              "\n",
              "    .dataframe thead th {\n",
              "        text-align: right;\n",
              "    }\n",
              "</style>\n",
              "<table border=\"1\" class=\"dataframe\">\n",
              "  <thead>\n",
              "    <tr style=\"text-align: right;\">\n",
              "      <th></th>\n",
              "      <th>Model</th>\n",
              "      <th>Mean_MAE</th>\n",
              "      <th>Mean_MAPE</th>\n",
              "      <th>Mean_RMSE</th>\n",
              "      <th>Mean_R2</th>\n",
              "    </tr>\n",
              "  </thead>\n",
              "  <tbody>\n",
              "    <tr>\n",
              "      <th>0</th>\n",
              "      <td>Linear Regression</td>\n",
              "      <td>-40086.346781</td>\n",
              "      <td>-0.207331</td>\n",
              "      <td>-50984.293764</td>\n",
              "      <td>0.757034</td>\n",
              "    </tr>\n",
              "    <tr>\n",
              "      <th>1</th>\n",
              "      <td>KNN Regressor</td>\n",
              "      <td>-34336.502921</td>\n",
              "      <td>-0.173109</td>\n",
              "      <td>-44849.984264</td>\n",
              "      <td>0.812382</td>\n",
              "    </tr>\n",
              "    <tr>\n",
              "      <th>2</th>\n",
              "      <td>DecisionTree Regressor</td>\n",
              "      <td>-32685.079020</td>\n",
              "      <td>-0.170339</td>\n",
              "      <td>-42113.744181</td>\n",
              "      <td>0.834642</td>\n",
              "    </tr>\n",
              "    <tr>\n",
              "      <th>3</th>\n",
              "      <td>RandomForest Regressor</td>\n",
              "      <td>-32699.392257</td>\n",
              "      <td>-0.170478</td>\n",
              "      <td>-42125.527986</td>\n",
              "      <td>0.834533</td>\n",
              "    </tr>\n",
              "    <tr>\n",
              "      <th>4</th>\n",
              "      <td>Gradient Boost Regressor</td>\n",
              "      <td>-32768.413450</td>\n",
              "      <td>-0.170713</td>\n",
              "      <td>-42172.186641</td>\n",
              "      <td>0.834192</td>\n",
              "    </tr>\n",
              "    <tr>\n",
              "      <th>5</th>\n",
              "      <td>XGBoost Regressor</td>\n",
              "      <td>-32682.523301</td>\n",
              "      <td>-0.170321</td>\n",
              "      <td>-42114.978645</td>\n",
              "      <td>0.834634</td>\n",
              "    </tr>\n",
              "  </tbody>\n",
              "</table>\n",
              "</div>"
            ],
            "text/plain": [
              "                      Model      Mean_MAE  Mean_MAPE     Mean_RMSE   Mean_R2\n",
              "0         Linear Regression -40086.346781  -0.207331 -50984.293764  0.757034\n",
              "1             KNN Regressor -34336.502921  -0.173109 -44849.984264  0.812382\n",
              "2    DecisionTree Regressor -32685.079020  -0.170339 -42113.744181  0.834642\n",
              "3    RandomForest Regressor -32699.392257  -0.170478 -42125.527986  0.834533\n",
              "4  Gradient Boost Regressor -32768.413450  -0.170713 -42172.186641  0.834192\n",
              "5         XGBoost Regressor -32682.523301  -0.170321 -42114.978645  0.834634"
            ]
          },
          "execution_count": 51,
          "metadata": {},
          "output_type": "execute_result"
        }
      ],
      "source": [
        "# Evaluasi hasil dari 5 kandidat algoritma yang digunakan\n",
        "pd.DataFrame({\n",
        "    \"Model\": [\"Linear Regression\", \"KNN Regressor\", \"DecisionTree Regressor\", \"RandomForest Regressor\", \"Gradient Boost Regressor\", \"XGBoost Regressor\"],\n",
        "    \"Mean_MAE\": nilai_mean_mae,\n",
        "    \"Mean_MAPE\": nilai_mean_mape,\n",
        "    \"Mean_RMSE\": nilai_mean_rmse,\n",
        "    \"Mean_R2\": nilai_mean_r2\n",
        "    })"
      ]
    },
    {
      "cell_type": "markdown",
      "metadata": {
        "id": "8KJ9IngXk-Ba"
      },
      "source": [
        "Dapat dilihat dari tabel di atas nilai RMSE jauh lebih besar dari MAE karena nilai *error*nya dikuadratkan dulu baru kemudian dirata-ratakan. Hal ini memberikan bobot yang lebih besar untuk nilai error. Berarti terdapat nilai *error* yang signifikan yang dihasilkan semua algoritma di atas. Nilai R-Squared pada `XGBoost` dan `Decision Tree` merepresentasikan seberapa besar pengaruh variable independen terhadap variabel dependen.\n",
        "\n",
        "Dari semua nilai, `XGBoost` dan `Decision Tree` merupakan model terbaik. Oleh karena itu, berikutnya akan dilakukan prediksi pada test menggunakan `XGBoost` dan `Decision Tree`."
      ]
    },
    {
      "cell_type": "markdown",
      "metadata": {
        "id": "-Gufm67ek-Ba"
      },
      "source": [
        "**Predict to Test Set with the Benchmark Model**\n",
        "\n",
        "Prediksi pada test set dengan menggunakan model XGBoost dan Decision Tree."
      ]
    },
    {
      "cell_type": "code",
      "execution_count": 52,
      "metadata": {
        "id": "T69VCfnPk-Ba",
        "outputId": "3d4fe126-58da-4276-94b4-5cd9b8fdf3b0"
      },
      "outputs": [
        {
          "data": {
            "text/html": [
              "<div>\n",
              "<style scoped>\n",
              "    .dataframe tbody tr th:only-of-type {\n",
              "        vertical-align: middle;\n",
              "    }\n",
              "\n",
              "    .dataframe tbody tr th {\n",
              "        vertical-align: top;\n",
              "    }\n",
              "\n",
              "    .dataframe thead th {\n",
              "        text-align: right;\n",
              "    }\n",
              "</style>\n",
              "<table border=\"1\" class=\"dataframe\">\n",
              "  <thead>\n",
              "    <tr style=\"text-align: right;\">\n",
              "      <th></th>\n",
              "      <th>MAE</th>\n",
              "      <th>MAPE</th>\n",
              "      <th>RMSE</th>\n",
              "      <th>R2</th>\n",
              "    </tr>\n",
              "  </thead>\n",
              "  <tbody>\n",
              "    <tr>\n",
              "      <th>XGB</th>\n",
              "      <td>31986.887529</td>\n",
              "      <td>0.171293</td>\n",
              "      <td>40943.279665</td>\n",
              "      <td>0.849025</td>\n",
              "    </tr>\n",
              "    <tr>\n",
              "      <th>Decision Tree</th>\n",
              "      <td>31986.889192</td>\n",
              "      <td>0.171293</td>\n",
              "      <td>40943.312924</td>\n",
              "      <td>0.849025</td>\n",
              "    </tr>\n",
              "  </tbody>\n",
              "</table>\n",
              "</div>"
            ],
            "text/plain": [
              "                        MAE      MAPE          RMSE        R2\n",
              "XGB            31986.887529  0.171293  40943.279665  0.849025\n",
              "Decision Tree  31986.889192  0.171293  40943.312924  0.849025"
            ]
          },
          "execution_count": 52,
          "metadata": {},
          "output_type": "execute_result"
        }
      ],
      "source": [
        "# Benchmark model terbaik\n",
        "log_xgb_test = TransformedTargetRegressor(xgb, func=np.log, inverse_func=np.exp)\n",
        "\n",
        "models = {\n",
        "    \"XGB\": XGBRegressor(random_state=738),\n",
        "    \"Decision Tree\": DecisionTreeRegressor(random_state=738)\n",
        "}\n",
        "\n",
        "score_rmse = []\n",
        "score_mae = []\n",
        "score_mape = []\n",
        "score_r2 = []\n",
        "\n",
        "# Prediksi pada test set\n",
        "for i in models:\n",
        "\n",
        "    model = Pipeline([\n",
        "        (\"preprocessing\", transformer),\n",
        "        (\"scaler\", scaler),\n",
        "        (\"model\", models[i])\n",
        "        ])\n",
        "\n",
        "    model.fit(x_train, y_train)\n",
        "    y_pred = model.predict(x_test)\n",
        "    score_rmse.append(np.sqrt(mean_squared_error(y_test, y_pred)))\n",
        "    score_mae.append(mean_absolute_error(y_test, y_pred))\n",
        "    score_mape.append(mean_absolute_percentage_error(y_test, y_pred))\n",
        "    score_r2.append(r2_score(y_test, y_pred))\n",
        "\n",
        "score_before_tuning = pd.DataFrame({\"MAE\": score_mae, \"MAPE\": score_mape, \"RMSE\": score_rmse, \"R2\": score_r2}, index=models.keys())\n",
        "score_before_tuning"
      ]
    },
    {
      "cell_type": "markdown",
      "metadata": {},
      "source": [
        "Ketika melakukan prediksi pada data test, XGB memiliki performa yg baik. Nilai MAE dan RMSE menurun, sedangkan MAPE dan R-Square mengalami peningkatan. walaupun tidak terlalu besar\n"
      ]
    },
    {
      "cell_type": "markdown",
      "metadata": {
        "id": "_4cmBFxKk-Bb"
      },
      "source": [
        "#### **Hyperparameter Tuning**"
      ]
    },
    {
      "cell_type": "markdown",
      "metadata": {
        "id": "7L-Nr3xkk-Bb"
      },
      "source": [
        "Sekarang lakukan *hyperparameter tuning* pada model XGBoost dengan harapan dapat meningkatkan performa model.\n",
        "\n",
        "Panduan tuning model XGBoost dapat merujuk ke [Tuning XGBoost](https://xgboost.readthedocs.io/en/latest/parameter.html#general-parameters)."
      ]
    },
    {
      "cell_type": "code",
      "execution_count": 53,
      "metadata": {
        "id": "lqIjIJepk-Bb"
      },
      "outputs": [],
      "source": [
        "# Kedalaman pohon (Increasing this value will make the model more complex and more likely to overfit)\n",
        "max_depth = list(np.arange(3, 11, 2))\n",
        "\n",
        "# Learning rate\n",
        "learning_rate = list(np.arange(1,100)/100)\n",
        "\n",
        "# Jumlah pohon\n",
        "n_estimators = list(np.arange(100, 301, 25))\n",
        "\n",
        "# Hyperparam space XGboost\n",
        "hyperparam_space_xgb = {\n",
        "    \"model__max_depth\": max_depth, \n",
        "    \"model__learning_rate\": learning_rate,\n",
        "    \"model__n_estimators\": n_estimators\n",
        "}"
      ]
    },
    {
      "cell_type": "code",
      "execution_count": 54,
      "metadata": {
        "id": "rH8NH89Uk-Bb"
      },
      "outputs": [],
      "source": [
        "# Benchmark model dengan hyperparameter tuning\n",
        "xgb = XGBRegressor(random_state=738, verbosity=0)\n",
        "\n",
        "# Membuat algorithm chains\n",
        "estimator_xgb = Pipeline([\n",
        "        (\"preprocessing\", transformer),\n",
        "        (\"scaler\", scaler),\n",
        "        (\"model\", xgb)\n",
        "        ])\n",
        "\n",
        "crossval = KFold(n_splits=5, shuffle=True, random_state=738)\n",
        "\n",
        "# Hyperparameter tuning\n",
        "random_xgb = RandomizedSearchCV(\n",
        "    estimator_xgb, \n",
        "    param_distributions = hyperparam_space_xgb,\n",
        "    n_iter = 150,\n",
        "    cv = crossval, \n",
        "    scoring = [\"neg_mean_absolute_error\", \"neg_mean_absolute_percentage_error\", \"neg_root_mean_squared_error\"], \n",
        "    n_jobs = -1,\n",
        "    refit = \"neg_mean_absolute_percentage_error\", # Hanya bisa memilih salah stau metric untuk optimisasi\n",
        "    random_state = 738\n",
        ")"
      ]
    },
    {
      "cell_type": "code",
      "execution_count": 55,
      "metadata": {
        "id": "WoI0jcLHk-Bb",
        "outputId": "e5fb85b8-50dc-4679-9574-9ad794097c2d"
      },
      "outputs": [
        {
          "data": {
            "text/html": [
              "<style>#sk-container-id-1 {color: black;background-color: white;}#sk-container-id-1 pre{padding: 0;}#sk-container-id-1 div.sk-toggleable {background-color: white;}#sk-container-id-1 label.sk-toggleable__label {cursor: pointer;display: block;width: 100%;margin-bottom: 0;padding: 0.3em;box-sizing: border-box;text-align: center;}#sk-container-id-1 label.sk-toggleable__label-arrow:before {content: \"▸\";float: left;margin-right: 0.25em;color: #696969;}#sk-container-id-1 label.sk-toggleable__label-arrow:hover:before {color: black;}#sk-container-id-1 div.sk-estimator:hover label.sk-toggleable__label-arrow:before {color: black;}#sk-container-id-1 div.sk-toggleable__content {max-height: 0;max-width: 0;overflow: hidden;text-align: left;background-color: #f0f8ff;}#sk-container-id-1 div.sk-toggleable__content pre {margin: 0.2em;color: black;border-radius: 0.25em;background-color: #f0f8ff;}#sk-container-id-1 input.sk-toggleable__control:checked~div.sk-toggleable__content {max-height: 200px;max-width: 100%;overflow: auto;}#sk-container-id-1 input.sk-toggleable__control:checked~label.sk-toggleable__label-arrow:before {content: \"▾\";}#sk-container-id-1 div.sk-estimator input.sk-toggleable__control:checked~label.sk-toggleable__label {background-color: #d4ebff;}#sk-container-id-1 div.sk-label input.sk-toggleable__control:checked~label.sk-toggleable__label {background-color: #d4ebff;}#sk-container-id-1 input.sk-hidden--visually {border: 0;clip: rect(1px 1px 1px 1px);clip: rect(1px, 1px, 1px, 1px);height: 1px;margin: -1px;overflow: hidden;padding: 0;position: absolute;width: 1px;}#sk-container-id-1 div.sk-estimator {font-family: monospace;background-color: #f0f8ff;border: 1px dotted black;border-radius: 0.25em;box-sizing: border-box;margin-bottom: 0.5em;}#sk-container-id-1 div.sk-estimator:hover {background-color: #d4ebff;}#sk-container-id-1 div.sk-parallel-item::after {content: \"\";width: 100%;border-bottom: 1px solid gray;flex-grow: 1;}#sk-container-id-1 div.sk-label:hover label.sk-toggleable__label {background-color: #d4ebff;}#sk-container-id-1 div.sk-serial::before {content: \"\";position: absolute;border-left: 1px solid gray;box-sizing: border-box;top: 0;bottom: 0;left: 50%;z-index: 0;}#sk-container-id-1 div.sk-serial {display: flex;flex-direction: column;align-items: center;background-color: white;padding-right: 0.2em;padding-left: 0.2em;position: relative;}#sk-container-id-1 div.sk-item {position: relative;z-index: 1;}#sk-container-id-1 div.sk-parallel {display: flex;align-items: stretch;justify-content: center;background-color: white;position: relative;}#sk-container-id-1 div.sk-item::before, #sk-container-id-1 div.sk-parallel-item::before {content: \"\";position: absolute;border-left: 1px solid gray;box-sizing: border-box;top: 0;bottom: 0;left: 50%;z-index: -1;}#sk-container-id-1 div.sk-parallel-item {display: flex;flex-direction: column;z-index: 1;position: relative;background-color: white;}#sk-container-id-1 div.sk-parallel-item:first-child::after {align-self: flex-end;width: 50%;}#sk-container-id-1 div.sk-parallel-item:last-child::after {align-self: flex-start;width: 50%;}#sk-container-id-1 div.sk-parallel-item:only-child::after {width: 0;}#sk-container-id-1 div.sk-dashed-wrapped {border: 1px dashed gray;margin: 0 0.4em 0.5em 0.4em;box-sizing: border-box;padding-bottom: 0.4em;background-color: white;}#sk-container-id-1 div.sk-label label {font-family: monospace;font-weight: bold;display: inline-block;line-height: 1.2em;}#sk-container-id-1 div.sk-label-container {text-align: center;}#sk-container-id-1 div.sk-container {/* jupyter's `normalize.less` sets `[hidden] { display: none; }` but bootstrap.min.css set `[hidden] { display: none !important; }` so we also need the `!important` here to be able to override the default hidden behavior on the sphinx rendered scikit-learn.org. See: https://github.com/scikit-learn/scikit-learn/issues/21755 */display: inline-block !important;position: relative;}#sk-container-id-1 div.sk-text-repr-fallback {display: none;}</style><div id=\"sk-container-id-1\" class=\"sk-top-container\"><div class=\"sk-text-repr-fallback\"><pre>RandomizedSearchCV(cv=KFold(n_splits=5, random_state=738, shuffle=True),\n",
              "                   estimator=Pipeline(steps=[(&#x27;preprocessing&#x27;,\n",
              "                                              ColumnTransformer(remainder=&#x27;passthrough&#x27;,\n",
              "                                                                transformers=[(&#x27;OneHot&#x27;,\n",
              "                                                                               OneHotEncoder(),\n",
              "                                                                               [&#x27;HallwayType&#x27;,\n",
              "                                                                                &#x27;SubwayStation&#x27;]),\n",
              "                                                                              (&#x27;Ordinal&#x27;,\n",
              "                                                                               OrdinalEncoder(),\n",
              "                                                                               [&#x27;TimeToSubway&#x27;])])),\n",
              "                                             (&#x27;scaler&#x27;, StandardScaler()),\n",
              "                                             (&#x27;model&#x27;,\n",
              "                                              XGBRegressor(base_score=None,\n",
              "                                                           booster...\n",
              "                                                                 0.11, 0.12,\n",
              "                                                                 0.13, 0.14,\n",
              "                                                                 0.15, 0.16,\n",
              "                                                                 0.17, 0.18,\n",
              "                                                                 0.19, 0.2,\n",
              "                                                                 0.21, 0.22,\n",
              "                                                                 0.23, 0.24,\n",
              "                                                                 0.25, 0.26,\n",
              "                                                                 0.27, 0.28,\n",
              "                                                                 0.29, 0.3, ...],\n",
              "                                        &#x27;model__max_depth&#x27;: [3, 5, 7, 9],\n",
              "                                        &#x27;model__n_estimators&#x27;: [100, 125, 150,\n",
              "                                                                175, 200, 225,\n",
              "                                                                250, 275,\n",
              "                                                                300]},\n",
              "                   random_state=738, refit=&#x27;neg_mean_absolute_percentage_error&#x27;,\n",
              "                   scoring=[&#x27;neg_mean_absolute_error&#x27;,\n",
              "                            &#x27;neg_mean_absolute_percentage_error&#x27;,\n",
              "                            &#x27;neg_root_mean_squared_error&#x27;])</pre><b>In a Jupyter environment, please rerun this cell to show the HTML representation or trust the notebook. <br />On GitHub, the HTML representation is unable to render, please try loading this page with nbviewer.org.</b></div><div class=\"sk-container\" hidden><div class=\"sk-item sk-dashed-wrapped\"><div class=\"sk-label-container\"><div class=\"sk-label sk-toggleable\"><input class=\"sk-toggleable__control sk-hidden--visually\" id=\"sk-estimator-id-1\" type=\"checkbox\" ><label for=\"sk-estimator-id-1\" class=\"sk-toggleable__label sk-toggleable__label-arrow\">RandomizedSearchCV</label><div class=\"sk-toggleable__content\"><pre>RandomizedSearchCV(cv=KFold(n_splits=5, random_state=738, shuffle=True),\n",
              "                   estimator=Pipeline(steps=[(&#x27;preprocessing&#x27;,\n",
              "                                              ColumnTransformer(remainder=&#x27;passthrough&#x27;,\n",
              "                                                                transformers=[(&#x27;OneHot&#x27;,\n",
              "                                                                               OneHotEncoder(),\n",
              "                                                                               [&#x27;HallwayType&#x27;,\n",
              "                                                                                &#x27;SubwayStation&#x27;]),\n",
              "                                                                              (&#x27;Ordinal&#x27;,\n",
              "                                                                               OrdinalEncoder(),\n",
              "                                                                               [&#x27;TimeToSubway&#x27;])])),\n",
              "                                             (&#x27;scaler&#x27;, StandardScaler()),\n",
              "                                             (&#x27;model&#x27;,\n",
              "                                              XGBRegressor(base_score=None,\n",
              "                                                           booster...\n",
              "                                                                 0.11, 0.12,\n",
              "                                                                 0.13, 0.14,\n",
              "                                                                 0.15, 0.16,\n",
              "                                                                 0.17, 0.18,\n",
              "                                                                 0.19, 0.2,\n",
              "                                                                 0.21, 0.22,\n",
              "                                                                 0.23, 0.24,\n",
              "                                                                 0.25, 0.26,\n",
              "                                                                 0.27, 0.28,\n",
              "                                                                 0.29, 0.3, ...],\n",
              "                                        &#x27;model__max_depth&#x27;: [3, 5, 7, 9],\n",
              "                                        &#x27;model__n_estimators&#x27;: [100, 125, 150,\n",
              "                                                                175, 200, 225,\n",
              "                                                                250, 275,\n",
              "                                                                300]},\n",
              "                   random_state=738, refit=&#x27;neg_mean_absolute_percentage_error&#x27;,\n",
              "                   scoring=[&#x27;neg_mean_absolute_error&#x27;,\n",
              "                            &#x27;neg_mean_absolute_percentage_error&#x27;,\n",
              "                            &#x27;neg_root_mean_squared_error&#x27;])</pre></div></div></div><div class=\"sk-parallel\"><div class=\"sk-parallel-item\"><div class=\"sk-item\"><div class=\"sk-label-container\"><div class=\"sk-label sk-toggleable\"><input class=\"sk-toggleable__control sk-hidden--visually\" id=\"sk-estimator-id-2\" type=\"checkbox\" ><label for=\"sk-estimator-id-2\" class=\"sk-toggleable__label sk-toggleable__label-arrow\">estimator: Pipeline</label><div class=\"sk-toggleable__content\"><pre>Pipeline(steps=[(&#x27;preprocessing&#x27;,\n",
              "                 ColumnTransformer(remainder=&#x27;passthrough&#x27;,\n",
              "                                   transformers=[(&#x27;OneHot&#x27;, OneHotEncoder(),\n",
              "                                                  [&#x27;HallwayType&#x27;,\n",
              "                                                   &#x27;SubwayStation&#x27;]),\n",
              "                                                 (&#x27;Ordinal&#x27;, OrdinalEncoder(),\n",
              "                                                  [&#x27;TimeToSubway&#x27;])])),\n",
              "                (&#x27;scaler&#x27;, StandardScaler()),\n",
              "                (&#x27;model&#x27;,\n",
              "                 XGBRegressor(base_score=None, booster=None, callbacks=None,\n",
              "                              colsample_bylevel=None, colsample_bynode=None,\n",
              "                              colsample_bytr...\n",
              "                              gamma=None, gpu_id=None, grow_policy=None,\n",
              "                              importance_type=None,\n",
              "                              interaction_constraints=None, learning_rate=None,\n",
              "                              max_bin=None, max_cat_to_onehot=None,\n",
              "                              max_delta_step=None, max_depth=None,\n",
              "                              max_leaves=None, min_child_weight=None,\n",
              "                              missing=nan, monotone_constraints=None,\n",
              "                              n_estimators=100, n_jobs=None,\n",
              "                              num_parallel_tree=None, predictor=None,\n",
              "                              random_state=738, reg_alpha=None, reg_lambda=None, ...))])</pre></div></div></div><div class=\"sk-serial\"><div class=\"sk-item\"><div class=\"sk-serial\"><div class=\"sk-item sk-dashed-wrapped\"><div class=\"sk-label-container\"><div class=\"sk-label sk-toggleable\"><input class=\"sk-toggleable__control sk-hidden--visually\" id=\"sk-estimator-id-3\" type=\"checkbox\" ><label for=\"sk-estimator-id-3\" class=\"sk-toggleable__label sk-toggleable__label-arrow\">preprocessing: ColumnTransformer</label><div class=\"sk-toggleable__content\"><pre>ColumnTransformer(remainder=&#x27;passthrough&#x27;,\n",
              "                  transformers=[(&#x27;OneHot&#x27;, OneHotEncoder(),\n",
              "                                 [&#x27;HallwayType&#x27;, &#x27;SubwayStation&#x27;]),\n",
              "                                (&#x27;Ordinal&#x27;, OrdinalEncoder(),\n",
              "                                 [&#x27;TimeToSubway&#x27;])])</pre></div></div></div><div class=\"sk-parallel\"><div class=\"sk-parallel-item\"><div class=\"sk-item\"><div class=\"sk-label-container\"><div class=\"sk-label sk-toggleable\"><input class=\"sk-toggleable__control sk-hidden--visually\" id=\"sk-estimator-id-4\" type=\"checkbox\" ><label for=\"sk-estimator-id-4\" class=\"sk-toggleable__label sk-toggleable__label-arrow\">OneHot</label><div class=\"sk-toggleable__content\"><pre>[&#x27;HallwayType&#x27;, &#x27;SubwayStation&#x27;]</pre></div></div></div><div class=\"sk-serial\"><div class=\"sk-item\"><div class=\"sk-estimator sk-toggleable\"><input class=\"sk-toggleable__control sk-hidden--visually\" id=\"sk-estimator-id-5\" type=\"checkbox\" ><label for=\"sk-estimator-id-5\" class=\"sk-toggleable__label sk-toggleable__label-arrow\">OneHotEncoder</label><div class=\"sk-toggleable__content\"><pre>OneHotEncoder()</pre></div></div></div></div></div></div><div class=\"sk-parallel-item\"><div class=\"sk-item\"><div class=\"sk-label-container\"><div class=\"sk-label sk-toggleable\"><input class=\"sk-toggleable__control sk-hidden--visually\" id=\"sk-estimator-id-6\" type=\"checkbox\" ><label for=\"sk-estimator-id-6\" class=\"sk-toggleable__label sk-toggleable__label-arrow\">Ordinal</label><div class=\"sk-toggleable__content\"><pre>[&#x27;TimeToSubway&#x27;]</pre></div></div></div><div class=\"sk-serial\"><div class=\"sk-item\"><div class=\"sk-estimator sk-toggleable\"><input class=\"sk-toggleable__control sk-hidden--visually\" id=\"sk-estimator-id-7\" type=\"checkbox\" ><label for=\"sk-estimator-id-7\" class=\"sk-toggleable__label sk-toggleable__label-arrow\">OrdinalEncoder</label><div class=\"sk-toggleable__content\"><pre>OrdinalEncoder()</pre></div></div></div></div></div></div><div class=\"sk-parallel-item\"><div class=\"sk-item\"><div class=\"sk-label-container\"><div class=\"sk-label sk-toggleable\"><input class=\"sk-toggleable__control sk-hidden--visually\" id=\"sk-estimator-id-8\" type=\"checkbox\" ><label for=\"sk-estimator-id-8\" class=\"sk-toggleable__label sk-toggleable__label-arrow\">remainder</label><div class=\"sk-toggleable__content\"><pre>[&#x27;N_FacilitiesNearBy(ETC)&#x27;, &#x27;N_FacilitiesNearBy(PublicOffice)&#x27;, &#x27;N_SchoolNearBy(University)&#x27;, &#x27;YearBuilt&#x27;, &#x27;N_FacilitiesInApt&#x27;, &#x27;Size(sqf)&#x27;]</pre></div></div></div><div class=\"sk-serial\"><div class=\"sk-item\"><div class=\"sk-estimator sk-toggleable\"><input class=\"sk-toggleable__control sk-hidden--visually\" id=\"sk-estimator-id-9\" type=\"checkbox\" ><label for=\"sk-estimator-id-9\" class=\"sk-toggleable__label sk-toggleable__label-arrow\">passthrough</label><div class=\"sk-toggleable__content\"><pre>passthrough</pre></div></div></div></div></div></div></div></div><div class=\"sk-item\"><div class=\"sk-estimator sk-toggleable\"><input class=\"sk-toggleable__control sk-hidden--visually\" id=\"sk-estimator-id-10\" type=\"checkbox\" ><label for=\"sk-estimator-id-10\" class=\"sk-toggleable__label sk-toggleable__label-arrow\">StandardScaler</label><div class=\"sk-toggleable__content\"><pre>StandardScaler()</pre></div></div></div><div class=\"sk-item\"><div class=\"sk-estimator sk-toggleable\"><input class=\"sk-toggleable__control sk-hidden--visually\" id=\"sk-estimator-id-11\" type=\"checkbox\" ><label for=\"sk-estimator-id-11\" class=\"sk-toggleable__label sk-toggleable__label-arrow\">XGBRegressor</label><div class=\"sk-toggleable__content\"><pre>XGBRegressor(base_score=None, booster=None, callbacks=None,\n",
              "             colsample_bylevel=None, colsample_bynode=None,\n",
              "             colsample_bytree=None, early_stopping_rounds=None,\n",
              "             enable_categorical=False, eval_metric=None, gamma=None,\n",
              "             gpu_id=None, grow_policy=None, importance_type=None,\n",
              "             interaction_constraints=None, learning_rate=None, max_bin=None,\n",
              "             max_cat_to_onehot=None, max_delta_step=None, max_depth=None,\n",
              "             max_leaves=None, min_child_weight=None, missing=nan,\n",
              "             monotone_constraints=None, n_estimators=100, n_jobs=None,\n",
              "             num_parallel_tree=None, predictor=None, random_state=738,\n",
              "             reg_alpha=None, reg_lambda=None, ...)</pre></div></div></div></div></div></div></div></div></div></div></div></div>"
            ],
            "text/plain": [
              "RandomizedSearchCV(cv=KFold(n_splits=5, random_state=738, shuffle=True),\n",
              "                   estimator=Pipeline(steps=[('preprocessing',\n",
              "                                              ColumnTransformer(remainder='passthrough',\n",
              "                                                                transformers=[('OneHot',\n",
              "                                                                               OneHotEncoder(),\n",
              "                                                                               ['HallwayType',\n",
              "                                                                                'SubwayStation']),\n",
              "                                                                              ('Ordinal',\n",
              "                                                                               OrdinalEncoder(),\n",
              "                                                                               ['TimeToSubway'])])),\n",
              "                                             ('scaler', StandardScaler()),\n",
              "                                             ('model',\n",
              "                                              XGBRegressor(base_score=None,\n",
              "                                                           booster...\n",
              "                                                                 0.11, 0.12,\n",
              "                                                                 0.13, 0.14,\n",
              "                                                                 0.15, 0.16,\n",
              "                                                                 0.17, 0.18,\n",
              "                                                                 0.19, 0.2,\n",
              "                                                                 0.21, 0.22,\n",
              "                                                                 0.23, 0.24,\n",
              "                                                                 0.25, 0.26,\n",
              "                                                                 0.27, 0.28,\n",
              "                                                                 0.29, 0.3, ...],\n",
              "                                        'model__max_depth': [3, 5, 7, 9],\n",
              "                                        'model__n_estimators': [100, 125, 150,\n",
              "                                                                175, 200, 225,\n",
              "                                                                250, 275,\n",
              "                                                                300]},\n",
              "                   random_state=738, refit='neg_mean_absolute_percentage_error',\n",
              "                   scoring=['neg_mean_absolute_error',\n",
              "                            'neg_mean_absolute_percentage_error',\n",
              "                            'neg_root_mean_squared_error'])"
            ]
          },
          "execution_count": 55,
          "metadata": {},
          "output_type": "execute_result"
        }
      ],
      "source": [
        "# Fitting data training untuk mencari parameter terbaik\n",
        "random_xgb.fit(x_train, y_train)"
      ]
    },
    {
      "cell_type": "code",
      "execution_count": 56,
      "metadata": {
        "id": "nHdpQuonk-Bc",
        "outputId": "bd2e54e4-880c-4680-85e9-74273188cf71"
      },
      "outputs": [
        {
          "name": "stdout",
          "output_type": "stream",
          "text": [
            "XGBoost\n",
            "Best_score: -0.1720784044248022\n",
            "Best_params: {'model__n_estimators': 300, 'model__max_depth': 5, 'model__learning_rate': 0.01}\n"
          ]
        }
      ],
      "source": [
        "# Cek skor dan params terbaik\n",
        "print(\"XGBoost\")\n",
        "print(\"Best_score:\", random_xgb.best_score_)\n",
        "print(\"Best_params:\", random_xgb.best_params_)"
      ]
    },
    {
      "cell_type": "markdown",
      "metadata": {
        "id": "DANt1Sbsk-Bc"
      },
      "source": [
        "**Predict to Test Set with the Tuned Model**\n",
        "\n",
        "Melakukan prediksi pada test set dengan menggunakan *final model* `XGBoost` dan hyperparameter terpilih."
      ]
    },
    {
      "cell_type": "code",
      "execution_count": 57,
      "metadata": {
        "id": "HHwFYcCPk-Bc",
        "outputId": "abe07443-4cf4-47d1-ed7d-a23676f038c6"
      },
      "outputs": [
        {
          "data": {
            "text/html": [
              "<div>\n",
              "<style scoped>\n",
              "    .dataframe tbody tr th:only-of-type {\n",
              "        vertical-align: middle;\n",
              "    }\n",
              "\n",
              "    .dataframe tbody tr th {\n",
              "        vertical-align: top;\n",
              "    }\n",
              "\n",
              "    .dataframe thead th {\n",
              "        text-align: right;\n",
              "    }\n",
              "</style>\n",
              "<table border=\"1\" class=\"dataframe\">\n",
              "  <thead>\n",
              "    <tr style=\"text-align: right;\">\n",
              "      <th></th>\n",
              "      <th>MAE</th>\n",
              "      <th>MAPE</th>\n",
              "      <th>RMSE</th>\n",
              "      <th>R2</th>\n",
              "    </tr>\n",
              "  </thead>\n",
              "  <tbody>\n",
              "    <tr>\n",
              "      <th>XGB</th>\n",
              "      <td>33584.459845</td>\n",
              "      <td>0.167977</td>\n",
              "      <td>43638.806522</td>\n",
              "      <td>0.828492</td>\n",
              "    </tr>\n",
              "  </tbody>\n",
              "</table>\n",
              "</div>"
            ],
            "text/plain": [
              "              MAE      MAPE          RMSE        R2\n",
              "XGB  33584.459845  0.167977  43638.806522  0.828492"
            ]
          },
          "execution_count": 57,
          "metadata": {},
          "output_type": "execute_result"
        }
      ],
      "source": [
        "# Model XGBoost\n",
        "model = {\"XGB\": XGBRegressor(random_state=738)}\n",
        "\n",
        "# Define model terhadap estimator terbaik\n",
        "xgb_tuning = random_xgb.best_estimator_\n",
        "\n",
        "# Fitting model\n",
        "xgb_tuning.fit(x_train, y_train)\n",
        "\n",
        "# Predict test set\n",
        "y_pred_xgb_tuning = xgb_tuning.predict(x_test)\n",
        "\n",
        "# Simpan nilai metrics RMSE, MAE & MAPE setelah tuning\n",
        "mae_xgb_tuning = mean_absolute_error(y_test, y_pred_xgb_tuning)\n",
        "mape_xgb_tuning = mean_absolute_percentage_error(y_test, y_pred_xgb_tuning)\n",
        "rmse_xgb_tuning = np.sqrt(mean_squared_error(y_test, y_pred_xgb_tuning))\n",
        "r2_xgb_tuning = r2_score(y_test, y_pred_xgb_tuning)\n",
        "\n",
        "score_after_tuning = pd.DataFrame({\"MAE\": mae_xgb_tuning, \"MAPE\": mape_xgb_tuning, \"RMSE\": rmse_xgb_tuning, \"R2\": r2_xgb_tuning}, index=model.keys())\n",
        "score_after_tuning"
      ]
    },
    {
      "cell_type": "markdown",
      "metadata": {
        "id": "Z2SdwEqjk-Bc"
      },
      "source": [
        "**Performance Comparison**\n",
        "\n",
        "Perbandingan performa model XGBoost sebelum dan sesudah dilakukan hyperparameter tuning."
      ]
    },
    {
      "cell_type": "code",
      "execution_count": 58,
      "metadata": {
        "id": "A7DAOe9ck-Bc",
        "outputId": "bc8d284f-7773-4345-9cc2-1f4fb28f76f4"
      },
      "outputs": [
        {
          "data": {
            "text/html": [
              "<div>\n",
              "<style scoped>\n",
              "    .dataframe tbody tr th:only-of-type {\n",
              "        vertical-align: middle;\n",
              "    }\n",
              "\n",
              "    .dataframe tbody tr th {\n",
              "        vertical-align: top;\n",
              "    }\n",
              "\n",
              "    .dataframe thead th {\n",
              "        text-align: right;\n",
              "    }\n",
              "</style>\n",
              "<table border=\"1\" class=\"dataframe\">\n",
              "  <thead>\n",
              "    <tr style=\"text-align: right;\">\n",
              "      <th></th>\n",
              "      <th>MAE</th>\n",
              "      <th>MAPE</th>\n",
              "      <th>RMSE</th>\n",
              "      <th>R2</th>\n",
              "    </tr>\n",
              "  </thead>\n",
              "  <tbody>\n",
              "    <tr>\n",
              "      <th>XGB</th>\n",
              "      <td>31986.887529</td>\n",
              "      <td>0.171293</td>\n",
              "      <td>40943.279665</td>\n",
              "      <td>0.849025</td>\n",
              "    </tr>\n",
              "  </tbody>\n",
              "</table>\n",
              "</div>"
            ],
            "text/plain": [
              "              MAE      MAPE          RMSE        R2\n",
              "XGB  31986.887529  0.171293  40943.279665  0.849025"
            ]
          },
          "execution_count": 58,
          "metadata": {},
          "output_type": "execute_result"
        }
      ],
      "source": [
        "# Sebelum hyperparameter tuning\n",
        "pd.DataFrame(score_before_tuning.loc[\"XGB\"]).T"
      ]
    },
    {
      "cell_type": "code",
      "execution_count": 59,
      "metadata": {
        "id": "ApnbXY18k-Bd",
        "outputId": "4a5d5571-9e1e-4d07-ef33-7f4a54e702ef"
      },
      "outputs": [
        {
          "data": {
            "text/html": [
              "<div>\n",
              "<style scoped>\n",
              "    .dataframe tbody tr th:only-of-type {\n",
              "        vertical-align: middle;\n",
              "    }\n",
              "\n",
              "    .dataframe tbody tr th {\n",
              "        vertical-align: top;\n",
              "    }\n",
              "\n",
              "    .dataframe thead th {\n",
              "        text-align: right;\n",
              "    }\n",
              "</style>\n",
              "<table border=\"1\" class=\"dataframe\">\n",
              "  <thead>\n",
              "    <tr style=\"text-align: right;\">\n",
              "      <th></th>\n",
              "      <th>MAE</th>\n",
              "      <th>MAPE</th>\n",
              "      <th>RMSE</th>\n",
              "      <th>R2</th>\n",
              "    </tr>\n",
              "  </thead>\n",
              "  <tbody>\n",
              "    <tr>\n",
              "      <th>XGB</th>\n",
              "      <td>33584.459845</td>\n",
              "      <td>0.167977</td>\n",
              "      <td>43638.806522</td>\n",
              "      <td>0.828492</td>\n",
              "    </tr>\n",
              "  </tbody>\n",
              "</table>\n",
              "</div>"
            ],
            "text/plain": [
              "              MAE      MAPE          RMSE        R2\n",
              "XGB  33584.459845  0.167977  43638.806522  0.828492"
            ]
          },
          "execution_count": 59,
          "metadata": {},
          "output_type": "execute_result"
        }
      ],
      "source": [
        "# Setelah hyperparameter tuning\n",
        "score_after_tuning"
      ]
    },
    {
      "cell_type": "markdown",
      "metadata": {
        "id": "B_RMuomak-Bd"
      },
      "source": [
        "Setelah dilakukan *trial and error* berulang-ulang dengan kombinasi parameter yang berbeda-beda, tidak dapat ditemukan hasil yang seluruh nilai MAE, MAPE, dan RMSE-nya lebih rendah dan R2 yang naik. Naik-turunnya nilai tidak teratur. Hal ini mungkin terjadi bila model yang digunakan sudah baik dan parameter bawaan sudah bagus, sehingga proses hyperparameter tuning hanya mengganggu formasi yang sudah baik."
      ]
    },
    {
      "cell_type": "code",
      "execution_count": 60,
      "metadata": {},
      "outputs": [
        {
          "data": {
            "text/html": [
              "<div>\n",
              "<style scoped>\n",
              "    .dataframe tbody tr th:only-of-type {\n",
              "        vertical-align: middle;\n",
              "    }\n",
              "\n",
              "    .dataframe tbody tr th {\n",
              "        vertical-align: top;\n",
              "    }\n",
              "\n",
              "    .dataframe thead th {\n",
              "        text-align: right;\n",
              "    }\n",
              "</style>\n",
              "<table border=\"1\" class=\"dataframe\">\n",
              "  <thead>\n",
              "    <tr style=\"text-align: right;\">\n",
              "      <th></th>\n",
              "      <th>Actual Price</th>\n",
              "      <th>Predicted Price</th>\n",
              "    </tr>\n",
              "  </thead>\n",
              "  <tbody>\n",
              "    <tr>\n",
              "      <th>4044</th>\n",
              "      <td>75920</td>\n",
              "      <td>111392.730769</td>\n",
              "    </tr>\n",
              "    <tr>\n",
              "      <th>127</th>\n",
              "      <td>256637</td>\n",
              "      <td>267675.557692</td>\n",
              "    </tr>\n",
              "    <tr>\n",
              "      <th>1905</th>\n",
              "      <td>149274</td>\n",
              "      <td>148825.269231</td>\n",
              "    </tr>\n",
              "    <tr>\n",
              "      <th>19</th>\n",
              "      <td>207079</td>\n",
              "      <td>213903.500000</td>\n",
              "    </tr>\n",
              "    <tr>\n",
              "      <th>3423</th>\n",
              "      <td>238053</td>\n",
              "      <td>254797.878571</td>\n",
              "    </tr>\n",
              "  </tbody>\n",
              "</table>\n",
              "</div>"
            ],
            "text/plain": [
              "      Actual Price  Predicted Price\n",
              "4044         75920    111392.730769\n",
              "127         256637    267675.557692\n",
              "1905        149274    148825.269231\n",
              "19          207079    213903.500000\n",
              "3423        238053    254797.878571"
            ]
          },
          "execution_count": 60,
          "metadata": {},
          "output_type": "execute_result"
        }
      ],
      "source": [
        "prediction = pd.DataFrame({\"Actual Price\":y_test, \"Predicted Price\": y_pred})\n",
        "prediction.head()"
      ]
    },
    {
      "cell_type": "code",
      "execution_count": 61,
      "metadata": {
        "id": "cTSAiM4ek-Bd",
        "outputId": "f979d25e-efc6-4049-bd64-bcf516eed183"
      },
      "outputs": [
        {
          "data": {
            "image/png": "[encoded data removed]",
            "text/plain": [
              "<Figure size 720x576 with 1 Axes>"
            ]
          },
          "metadata": {},
          "output_type": "display_data"
        }
      ],
      "source": [
        "plt.figure(figsize=(10, 8))\n",
        "plot = sns.scatterplot(x=y_test, y=y_pred).set(title=\"Actual vs. Prediction Price\", \n",
        "                                               xlabel=\"Actual Price\", \n",
        "                                               ylabel=\"Predicted Price\")"
      ]
    },
    {
      "cell_type": "markdown",
      "metadata": {},
      "source": [
        "Dapat dilihat pada gambar di atas, adanya error menyebabkan adanya harga aktual yang lebih rendah dari prediksi *(underestimate)* dan sebaliknya *(overestimate)*."
      ]
    },
    {
      "cell_type": "markdown",
      "metadata": {
        "id": "KWpMoDRSk-Be"
      },
      "source": [
        "#### **Feature Importances**"
      ]
    },
    {
      "cell_type": "markdown",
      "metadata": {
        "id": "owo68LeQk-Be"
      },
      "source": [
        "Untuk dapat mengetahui sebenarnya fitur apa saja yang sangat memengaruhi target `(SalePrice)`, lakukan pengecekan melalui *function* feature_importances_."
      ]
    },
    {
      "cell_type": "code",
      "execution_count": 62,
      "metadata": {},
      "outputs": [
        {
          "data": {
            "text/plain": [
              "<AxesSubplot:xlabel='Nilai', ylabel='Features'>"
            ]
          },
          "execution_count": 62,
          "metadata": {},
          "output_type": "execute_result"
        },
        {
          "data": {
            "image/png": "[encoded data removed]",
            "text/plain": [
              "<Figure size 1440x720 with 1 Axes>"
            ]
          },
          "metadata": {},
          "output_type": "display_data"
        }
      ],
      "source": [
        "log_xgb_test = random_xgb.best_estimator_\n",
        "\n",
        "feature_imp = pd.DataFrame({\"Features\": transformer.get_feature_names_out(), \"Nilai\":log_xgb_test[\"model\"].feature_importances_}).sort_values(\"Nilai\",ascending = False)\n",
        "plt.figure(figsize=(20,10))\n",
        "sns.barplot(data=feature_imp, x=\"Nilai\", y=\"Features\", palette=\"crest\")"
      ]
    },
    {
      "cell_type": "markdown",
      "metadata": {
        "id": "owQjtcI2k-Be"
      },
      "source": [
        "### **5. Conclusion**"
      ]
    },
    {
      "cell_type": "markdown",
      "metadata": {
        "id": "5GSM-ypZk-Be"
      },
      "source": [
        "Dari analisis yang telah dilakukan, dapat diambil kesimpulan sebagai berikut.\n",
        "\n",
        "1. Dari data awal didapat *mean* yang lebih besar dari *median*. Hal ini juga dapat dilihat dari *distribution plot* terdapat *positive skewness* pada fitur harga jual apartment.\n",
        "2. Bila dilihat dari kolom pada *features vs target* terlihat bahwa fitur yang paling memengaruhi harga jual adalah luas unit apartment.\n",
        "3. Tipe *hallway* *\"terraced\"* menjadi yang paling banyak dijual. Sedangkan untuk jarak dengan subway terdekat, apartment dengan jarak 0-5 menit ke subway terdekat menjadi yang paling laku.\n",
        "4. Terdapat 1,422 baris data yang memiliki duplikat. Namun, data duplikat ini tidak dihapus dengan pertimbangan informasi data tidak cukup banyak untuk mengetahui apakah data ini merupakan duplikasi dari data yang sama atau memang terdapat apartment serupa yang terjual dengan harga yang sama oleh developer. Selain itu, data duplikat ini terlalu banyak untuk dihapus (34.49% data).\n",
        "5. Dari *matrix correlation* ditemukan bahwa luas apartment memiliki korelasi yang cukup kuat terhadap nilai jual apartment, yaitu sebesar 0.7.\n",
        "6. Dari *matrix correlation* dapat dilihat hubungan antara fitur jumlah fasilitas di dalam apartment dan jumlah parkir basement yang besar (0.83). Tidak ada informasi apa saja yang termasuk dalam fasilitas di dalam apartment ini, mungkin salah satu fasilitas yang ditawarkan apartment adalah parkir basement. Oleh karena itu, fitur `N_Parkinglot(Basement)` dihapus.\n",
        "7. *Outliers* hanya terdapat pada fitur luas apartment dan harga jual apartment. *Outliers* pada fitur luas apartment sebanyak 98 buah dan 27 buah pada harga jual apartment.\n",
        "8. Limitasi data dilakukan terhadap *outlier*, fitur parkir basement, dan masa pakai apartment. Banyaknya data yang di-*drop* sebanyak 477 baris data, sehingga data yang awalnya berjumlah 4,123 baris data menjadi 3,646 baris data.\n",
        "9. Metriks evaluasi yang digunakan pada model ini adalah nilai MAE, MAPE, RMSE, dan R-Squared. Nilai MAPE yang dihasilkan adalah 17%. Ini artinya bila model digunakan dalam memperkirakan harga jual apartment, perkiraan harganya meleset sekitar 17% dari yang sebenarnya.\n",
        "10. Dari hasil hyperparameter tuning, parameter terbaik yang dapat digunakan dengan `*benchmark* model XGBoost Regression` adalah max_depth = 5, learning_rate = 0.01, dan n_estimators = 300.\n",
        "11. Naik-turunnya nilai MAE, MAPE, RMSE, dan R-Squared tidak teratur. Melalui proses *trial and error* tidak dapat ditemukan kombinasi nilai yang lebih baik sehingga dapat disimpulkan model yang digunakan sudah baik dan parameter bawaan sudah bagus, akibatnya proses hyperparameter tuning hanya mengganggu formasi yang sudah baik.\n",
        "12. Adanya bias dalam prediksi yang dihasilkan karena tidak ada data tambahan yang dapat melengkapi dataset. Selain itu, jumlah baris data sangat terbatas sehingga prediksi dapat dikatakan menjadi kurang akurat karena kurangnya *history* penjualan untuk menjadi acuan dalam proses prediksi."
      ]
    },
    {
      "cell_type": "markdown",
      "metadata": {
        "id": "UYNCk1Tvk-Be"
      },
      "source": [
        "### **6. Recommendations**"
      ]
    },
    {
      "cell_type": "markdown",
      "metadata": {
        "id": "ghhnOuYyk-Bf"
      },
      "source": [
        "1. Diperlukan lebih banyak data dan *primary key* dari *history* transaksi penjualan apartment agar dapat meningkatkan akurasi prediksi dari model.\n",
        "2. Diperlukan lebih banyak *feature* yang berkorelasi dengan target (*SalePrice*) untuk dapat menghasilkan prediksi nilai harga yang lebih akurat.\n",
        "3. Model dapat digunakan sebagai acuan dari model prediksi lain oleh pihak yang berkepentingan, seperti pemerintah atau developer. Nantinya model dapat dijadikan pertimbangan dalam mengembangkan kota, seperti penambahan fasilitas transportasi atau fasilitas umum lain di tempat apartment berada. Dapat juga digunakan oleh developer sebagai acuan dalam pembangunan gedung apartment baru agar dapat memberikan fasilitas dan harga yang terbaik sehingga apartment cepat terjual dan dapat membangun apartment-apartment lain yang lebih baik."
      ]
    },
    {
      "cell_type": "markdown",
      "metadata": {
        "id": "htRiTp9Hk-Bf"
      },
      "source": [
        "****"
      ]
    },
    {
      "cell_type": "markdown",
      "metadata": {
        "id": "XMriTmGWk-Bf"
      },
      "source": [
        "#### **Save Model**"
      ]
    },
    {
      "cell_type": "code",
      "execution_count": 63,
      "metadata": {},
      "outputs": [],
      "source": [
        "# x = daegu.drop(\"SalePrice\", axis=1)\n",
        "# y = daegu[\"SalePrice\"]"
      ]
    },
    {
      "cell_type": "code",
      "execution_count": 64,
      "metadata": {
        "id": "7gNDN7Gtk-Bf"
      },
      "outputs": [],
      "source": [
        "# # Save model\n",
        "# import pickle\n",
        "\n",
        "# random_xgb.best_estimator_.fit(x, y)\n",
        "\n",
        "# pickle.dump(random_xgb.best_estimator_, open(\"Final_Model_Capstone_Module_3_SariAmalia.sav\", \"wb\"))"
      ]
    },
    {
      "cell_type": "code",
      "execution_count": 65,
      "metadata": {
        "id": "fPZTLX5sk-Bf"
      },
      "outputs": [
        {
          "name": "stdout",
          "output_type": "stream",
          "text": [
            "MAE Score: 32609.317056101463\n",
            "MAPE Score: 16.285858629291766 %\n"
          ]
        }
      ],
      "source": [
        "# # Load model\n",
        "# filename = \"Final_Model_Capstone_Module_3_SariAmalia.sav\"\n",
        "# loaded_model = pickle.load(open(filename, \"rb\"))\n",
        "\n",
        "# print(\"MAE Score:\", mean_absolute_error(y_test, loaded_model.predict(x_test)))\n",
        "# print(\"MAPE Score:\", mean_absolute_percentage_error(y_test, loaded_model.predict(x_test))*100,\"%\")"
      ]
    }
  ],
  "metadata": {
    "colab": {
      "name": "Contoh CapstoneProject_Module3_Regresi.ipynb",
      "provenance": []
    },
    "kernelspec": {
      "display_name": "Python 3.9.13 64-bit",
      "language": "python",
      "name": "python3"
    },
    "language_info": {
      "codemirror_mode": {
        "name": "ipython",
        "version": 3
      },
      "file_extension": ".py",
      "mimetype": "text/x-python",
      "name": "python",
      "nbconvert_exporter": "python",
      "pygments_lexer": "ipython3",
      "version": "3.9.13"
    },
    "orig_nbformat": 4,
    "vscode": {
      "interpreter": {
        "hash": "38d19db82322d15e001ab5086a5fba2c39832b5163a1fa6fc427b2712e0b0ad9"
      }
    }
  },
  "nbformat": 4,
  "nbformat_minor": 0
}
